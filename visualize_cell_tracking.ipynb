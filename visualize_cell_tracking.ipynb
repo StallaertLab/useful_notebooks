{
 "cells": [
  {
   "cell_type": "code",
   "execution_count": 1,
   "metadata": {},
   "outputs": [],
   "source": [
    "from sqlalchemy import create_engine\n",
    "from sqlalchemy.orm import sessionmaker\n",
    "import sys\n",
    "sys.path.append(r'D:\\kasia\\tracking\\E6_exp\\code\\tracks_interactions')\n",
    "from tracks_interactions.db.db_model import NO_PARENT, CellDB, TrackDB\n",
    "import dask.array as da\n",
    "import napari\n",
    "import numpy as np\n",
    "import os\n",
    "os.environ['NAPARI_PERFMON'] = '0'\n",
    "import cv2\n",
    "from readlif.reader import LifFile"
   ]
  },
  {
   "cell_type": "code",
   "execution_count": 2,
   "metadata": {},
   "outputs": [],
   "source": [
    "exp_path = r'R:\\Dante\\hillman_academy_2023\\Jinny_test.lif'\n",
    "exp = LifFile(exp_path)"
   ]
  },
  {
   "cell_type": "code",
   "execution_count": 3,
   "metadata": {},
   "outputs": [
    {
     "data": {
      "text/plain": [
       "'LifImage object with dimensions: Dims(x=16802, y=16793, z=1, t=241, m=1)'"
      ]
     },
     "execution_count": 3,
     "metadata": {},
     "output_type": "execute_result"
    }
   ],
   "source": [
    "sel_name = 'TileScan 5/E6_Merged'\n",
    "t = [image for image in exp.get_iter_image() if sel_name in image.name][0]\n",
    "t"
   ]
  },
  {
   "cell_type": "code",
   "execution_count": 4,
   "metadata": {},
   "outputs": [
    {
     "data": {
      "text/plain": [
       "(3.076923076923077, 3.0769230769230766, None, 0.0005601651180046172)"
      ]
     },
     "execution_count": 4,
     "metadata": {},
     "output_type": "execute_result"
    }
   ],
   "source": [
    "t.scale"
   ]
  },
  {
   "cell_type": "code",
   "execution_count": 5,
   "metadata": {},
   "outputs": [],
   "source": [
    "# specify parameters\n",
    "\n",
    "cell_rad = 80\n",
    "\n",
    "# timer\n",
    "interval = 30\n",
    "# timer position\n",
    "timer_r = 20\n",
    "timer_c = 140\n",
    "\n",
    "text_parameters = {\n",
    "    'string': '{time}',\n",
    "    'size': 18,\n",
    "    'color': 'white',\n",
    "    'anchor': 'upper_right',\n",
    "    'translation': [-3, 0]\n",
    "}\n",
    "\n",
    "# scale bar parameters\n",
    "# add scale bar\n",
    "height_px = 1\n",
    "pos_col = 10\n",
    "pos_row = 150\n",
    "len_um = 20\n",
    "len_pixel = t.scale[0] * len_um / 2 # because we were using the second resolution level\n",
    "scale_bar_text = f'{len_um} \\u03BCm'\n",
    "\n",
    "save_dir = r'D:\\kasia\\ovcar_movies'\n",
    "video_speed = 15"
   ]
  },
  {
   "cell_type": "code",
   "execution_count": 6,
   "metadata": {},
   "outputs": [],
   "source": [
    "# get images\n",
    "ch0_path = r'D:\\kasia\\tracking\\E6_exp\\E6_C0.zarr'\n",
    "ch1_path = r'D:\\kasia\\tracking\\E6_exp\\E6_C1.zarr'\n",
    "\n",
    "ch0=da.from_zarr(ch0_path,1)\n",
    "ch1=da.from_zarr(ch1_path,1)"
   ]
  },
  {
   "cell_type": "code",
   "execution_count": 7,
   "metadata": {},
   "outputs": [],
   "source": [
    "# get access to the database\n",
    "db_path = r'D:\\kasia\\tracking\\E6_exp\\double_segmentation_ultrack\\Exp6_gardener_example_to_process.db'\n",
    "engine = create_engine(f'sqlite:///{db_path}')\n",
    "session = sessionmaker(bind=engine)()\n",
    "\n",
    "from sqlalchemy import text\n",
    "session.execute(text(\"ANALYZE;\"))\n",
    "session.commit()"
   ]
  },
  {
   "cell_type": "code",
   "execution_count": 8,
   "metadata": {},
   "outputs": [],
   "source": [
    "t=session.query(TrackDB).filter(TrackDB.accepted_tag == True).all()"
   ]
  },
  {
   "cell_type": "code",
   "execution_count": 9,
   "metadata": {},
   "outputs": [],
   "source": [
    "def cut_cell():\n",
    "\n",
    "    ch0_cell = []\n",
    "    ch1_cell = []\n",
    "\n",
    "    r_rad = c_rad = cell_rad\n",
    "    for cell in cells:\n",
    "\n",
    "        frame0 = ch0[cell.t,cell.row-r_rad:cell.row+r_rad, cell.col-c_rad:cell.col+c_rad]\n",
    "        ch0_cell.append(frame0)\n",
    "        frame1 = ch1[cell.t,cell.row-r_rad:cell.row+r_rad, cell.col-c_rad:cell.col+c_rad]\n",
    "        ch1_cell.append(frame1)\n",
    "\n",
    "    ch0_cell = np.array(ch0_cell)\n",
    "    ch1_cell = np.array(ch1_cell)\n",
    "    \n",
    "    return ch0_cell, ch1_cell"
   ]
  },
  {
   "cell_type": "code",
   "execution_count": 10,
   "metadata": {},
   "outputs": [],
   "source": [
    "def generate_shapes_and_annotations():\n",
    "\n",
    "    # generate text for annotations\n",
    "    test_texts = []\n",
    "    ss = []\n",
    "    for i,t in enumerate(range(ch0_cell.shape[0])):\n",
    "\n",
    "        test_text = f'{str(int(t*interval/60)).zfill(2)}:{str((t*interval)%60).zfill(2)} h:min'\n",
    "        test_texts.append(test_text)\n",
    "\n",
    "        s = np.array([[i,timer_r,timer_r],[i,timer_r,timer_c],[i,timer_c,timer_c],[i,timer_c,timer_r]])\n",
    "        ss.append(s)\n",
    "\n",
    "    return test_texts, ss"
   ]
  },
  {
   "cell_type": "code",
   "execution_count": 11,
   "metadata": {},
   "outputs": [],
   "source": [
    "def add_shapes():\n",
    "\n",
    "    global viewer\n",
    "\n",
    "    shapes_layer = viewer.add_shapes(\n",
    "        ss,\n",
    "        face_color='transparent',\n",
    "        edge_color='transparent',\n",
    "        text=text_parameters,\n",
    "        properties={'time': test_texts},\n",
    "        name='bounding box',\n",
    "    )"
   ]
  },
  {
   "cell_type": "code",
   "execution_count": 12,
   "metadata": {},
   "outputs": [],
   "source": [
    "def add_scale_bar():\n",
    "    \n",
    "    global viewer\n",
    "\n",
    "    scale_bar = viewer.add_shapes(\n",
    "        [[pos_row+height_px, pos_col], [pos_row+height_px, pos_col+len_pixel], [pos_row, pos_col+len_pixel], [pos_row, pos_col]],\n",
    "        edge_color='white',\n",
    "        edge_width=0,\n",
    "        face_color = 'white',\n",
    "        name='scale bar',\n",
    "        text = {'text': '{len}', 'color': 'white', 'size': 18, 'anchor': 'upper_left','translation': [-1, 5]},\n",
    "        properties={'len': scale_bar_text}\n",
    "    )"
   ]
  },
  {
   "cell_type": "code",
   "execution_count": 13,
   "metadata": {},
   "outputs": [],
   "source": [
    "def create_screenshots():\n",
    "\n",
    "    l = []\n",
    "    for n in range(ch0_cell.shape[0]):\n",
    "        viewer.dims.set_current_step(0,n)\n",
    "        screenshot = viewer.screenshot()\n",
    "        l.append(screenshot[:,:,:-1])\n",
    "\n",
    "    return l"
   ]
  },
  {
   "cell_type": "code",
   "execution_count": 14,
   "metadata": {},
   "outputs": [],
   "source": [
    "for cell_num in range(len(t)):\n",
    "\n",
    "    # find cell id\n",
    "    track_id = t[cell_num].track_id\n",
    "\n",
    "    # get all cells from the track\n",
    "    cells=session.query(CellDB).filter_by(track_id = track_id).order_by(CellDB.t).all()\n",
    "\n",
    "    tag = ''\n",
    "    for cell in cells:\n",
    "        if cell.tags.get('apoptosis', False):\n",
    "            tag='_apo'\n",
    "            break\n",
    "        if cell.tags.get('mitosis', False):\n",
    "            tag='_mit'\n",
    "            break\n",
    "\n",
    "    # cut the cell\n",
    "    ch0_cell, ch1_cell = cut_cell()\n",
    "\n",
    "    # create napari viewer\n",
    "    viewer = napari.Viewer()    \n",
    "    viewer.add_image(ch0_cell, name='ch0',colormap='green',contrast_limits=[0,4000],blending='additive')\n",
    "    #viewer.add_image(ch1_cell, name='ch1',colormap='magenta',contrast_limits=[0,3000],blending='additive')\n",
    "\n",
    "    # generate shapes and annotations\n",
    "    test_texts, ss = generate_shapes_and_annotations()\n",
    "\n",
    "    # add shapes\n",
    "    add_shapes()\n",
    "\n",
    "    #add scale bar\n",
    "    add_scale_bar()\n",
    "\n",
    "    # get screenshots\n",
    "    l = create_screenshots()\n",
    "\n",
    "    # save video\n",
    "    save_path = os.path.join(save_dir, f'track_{cells[-1].track_id}{tag}.avi')\n",
    "\n",
    "    fourcc = cv2.VideoWriter_fourcc(*'XVID')\n",
    "    out = cv2.VideoWriter(save_path, fourcc, video_speed, (l[0].shape[1],l[0].shape[0]))\n",
    "\n",
    "    for frame in l:\n",
    "        out.write(frame)\n",
    "\n",
    "    out.release()\n",
    "\n",
    "    viewer.close()"
   ]
  },
  {
   "cell_type": "code",
   "execution_count": null,
   "metadata": {},
   "outputs": [],
   "source": []
  }
 ],
 "metadata": {
  "kernelspec": {
   "display_name": "napari-env",
   "language": "python",
   "name": "python3"
  },
  "language_info": {
   "codemirror_mode": {
    "name": "ipython",
    "version": 3
   },
   "file_extension": ".py",
   "mimetype": "text/x-python",
   "name": "python",
   "nbconvert_exporter": "python",
   "pygments_lexer": "ipython3",
   "version": "3.9.18"
  }
 },
 "nbformat": 4,
 "nbformat_minor": 2
}
