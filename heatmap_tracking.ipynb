{
 "cells": [
  {
   "cell_type": "code",
   "execution_count": 68,
   "metadata": {},
   "outputs": [],
   "source": [
    "from sqlalchemy import create_engine\n",
    "from sqlalchemy.orm import sessionmaker\n",
    "import sys\n",
    "sys.path.append(r'D:\\kasia\\tracking\\E6_exp\\code\\tracks_interactions')\n",
    "from tracks_interactions.db.db_model import NO_PARENT, CellDB, TrackDB\n",
    "import dask.array as da\n",
    "import napari\n",
    "import numpy as np\n",
    "import os\n",
    "os.environ['NAPARI_PERFMON'] = '0'\n",
    "import cv2\n",
    "import matplotlib.pyplot as plt\n",
    "import pandas as pd\n",
    "import seaborn as sns"
   ]
  },
  {
   "cell_type": "code",
   "execution_count": 2,
   "metadata": {},
   "outputs": [],
   "source": [
    "# get access to the database\n",
    "db_path = r'D:\\kasia\\tracking\\E6_exp\\double_segmentation_ultrack\\Exp6_gardener_example_to_process.db'\n",
    "engine = create_engine(f'sqlite:///{db_path}')\n",
    "session = sessionmaker(bind=engine)()\n",
    "\n",
    "from sqlalchemy import text\n",
    "session.execute(text(\"ANALYZE;\"))\n",
    "session.commit()"
   ]
  },
  {
   "cell_type": "code",
   "execution_count": 3,
   "metadata": {},
   "outputs": [],
   "source": [
    "t=session.query(TrackDB).filter(TrackDB.accepted_tag == True).all()"
   ]
  },
  {
   "cell_type": "code",
   "execution_count": 6,
   "metadata": {},
   "outputs": [
    {
     "data": {
      "text/plain": [
       "{'area': 252,\n",
       " 'ch0_nuc': 3953.1825396825398,\n",
       " 'ch0_cyto': 2443.0997229916898,\n",
       " 'ch1_nuc': 1865.5833333333333,\n",
       " 'ch1_cyto': 273.33240997229916}"
      ]
     },
     "execution_count": 6,
     "metadata": {},
     "output_type": "execute_result"
    }
   ],
   "source": [
    "cells=session.query(CellDB).filter_by(track_id = t[0].track_id).order_by(CellDB.t).all()\n",
    "cells[0].signals"
   ]
  },
  {
   "cell_type": "code",
   "execution_count": 19,
   "metadata": {},
   "outputs": [],
   "source": [
    "signals = []\n",
    "tag_list = []\n",
    "for cell_num in range(len(t)):\n",
    "\n",
    "    # find cell id\n",
    "    track_id = t[cell_num].track_id\n",
    "\n",
    "    # get all cells from the track\n",
    "    cells=session.query(CellDB).filter_by(track_id = track_id).order_by(CellDB.t).all()\n",
    "\n",
    "    tag = ''\n",
    "    for cell in cells:\n",
    "        if cell.tags.get('apoptosis', False):\n",
    "            tag='_apo'\n",
    "            break\n",
    "        if cell.tags.get('mitosis', False):\n",
    "            tag='_mit'\n",
    "            break\n",
    "    \n",
    "\n",
    "    # get signal\n",
    "    s = []\n",
    "    for cell in cells:\n",
    "        s.append(cell.signals['ch0_cyto']/cell.signals['ch0_nuc'])\n",
    "    s = np.array(s)\n",
    "\n",
    "    if len(s) > 50:\n",
    "        signals.append(s)\n",
    "        tag_list.append(tag)"
   ]
  },
  {
   "cell_type": "code",
   "execution_count": 21,
   "metadata": {},
   "outputs": [
    {
     "name": "stdout",
     "output_type": "stream",
     "text": [
      "240\n"
     ]
    }
   ],
   "source": [
    "max_len = 0\n",
    "for s in signals:\n",
    "    max_len = max(max_len, len(s))\n",
    "print(max_len)"
   ]
  },
  {
   "cell_type": "code",
   "execution_count": 22,
   "metadata": {},
   "outputs": [
    {
     "name": "stdout",
     "output_type": "stream",
     "text": [
      "9\n",
      "7\n"
     ]
    }
   ],
   "source": [
    "signals_apo = [signals[i] for i in range(len(signals)) if tag_list[i] == '_apo']   \n",
    "print(len(signals_apo))\n",
    "signals_senes = [signals[i] for i in range(len(signals)) if tag_list[i] == '']\n",
    "print(len(signals_senes))"
   ]
  },
  {
   "cell_type": "code",
   "execution_count": 33,
   "metadata": {},
   "outputs": [],
   "source": [
    "# make a 2D array\n",
    "signals2D = np.zeros((len(signals_apo)+len(signals_senes), max_len))\n",
    "\n",
    "i = 0\n",
    "for s in signals_apo:\n",
    "    start_index = max_len - len(s)  \n",
    "    signals2D[i, start_index:] = s\n",
    "    #signals2D[i, :len(s)] = s\n",
    "    i+=1\n",
    "\n",
    "for s in signals_senes:\n",
    "    start_index = max_len - len(s)  \n",
    "    signals2D[i, start_index:] = s\n",
    "    #signals2D[i, :len(s)] = s\n",
    "    i+=1"
   ]
  },
  {
   "cell_type": "code",
   "execution_count": 34,
   "metadata": {},
   "outputs": [
    {
     "data": {
      "text/plain": [
       "<matplotlib.image.AxesImage at 0x1b3194beb80>"
      ]
     },
     "execution_count": 34,
     "metadata": {},
     "output_type": "execute_result"
    },
    {
     "data": {
      "image/png": "[encoded data removed]",
      "text/plain": [
       "<Figure size 640x480 with 1 Axes>"
      ]
     },
     "metadata": {},
     "output_type": "display_data"
    }
   ],
   "source": [
    "# create a heatmap with matplotlib\n",
    "plt.imshow(signals2D, aspect='auto', cmap='viridis',interpolation='nearest')\n"
   ]
  },
  {
   "cell_type": "code",
   "execution_count": 47,
   "metadata": {},
   "outputs": [],
   "source": [
    "# data cleaning\n",
    "signals_apo_cut = []\n",
    "for s in signals_apo:\n",
    "    st  = len(s)/2\n",
    "    for i in range(int(st), len(s)-1):\n",
    "        if s[i] < 0.7:\n",
    "            break\n",
    "    s = s[:i]\n",
    "    signals_apo_cut.append(s)\n"
   ]
  },
  {
   "cell_type": "code",
   "execution_count": 48,
   "metadata": {},
   "outputs": [],
   "source": [
    "# make a 2D array\n",
    "signals2D_cut = np.zeros((len(signals_apo)+len(signals_senes), max_len))\n",
    "\n",
    "i = 0\n",
    "for s in signals_apo_cut:\n",
    "    start_index = max_len - len(s)  \n",
    "    signals2D_cut[i, start_index:] = s\n",
    "    i+=1\n",
    "\n",
    "for s in signals_senes:\n",
    "    start_index = max_len - len(s)  \n",
    "    signals2D_cut[i, start_index:] = s\n",
    "    i+=1"
   ]
  },
  {
   "cell_type": "code",
   "execution_count": 49,
   "metadata": {},
   "outputs": [
    {
     "data": {
      "text/plain": [
       "<matplotlib.image.AxesImage at 0x1b319c91c40>"
      ]
     },
     "execution_count": 49,
     "metadata": {},
     "output_type": "execute_result"
    },
    {
     "data": {
      "image/png": "[encoded data removed]",
      "text/plain": [
       "<Figure size 640x480 with 1 Axes>"
      ]
     },
     "metadata": {},
     "output_type": "display_data"
    }
   ],
   "source": [
    "# create a heatmap with matplotlib\n",
    "plt.imshow(signals2D_cut, aspect='auto', cmap='viridis',interpolation='nearest')"
   ]
  },
  {
   "cell_type": "code",
   "execution_count": 50,
   "metadata": {},
   "outputs": [],
   "source": [
    "# compare mean of last 5 frames\n",
    "mean_apo = [np.mean(s[-5:]) for s in signals_apo_cut]\n",
    "mean_senes = [np.mean(s[-5:]) for s in signals_senes]"
   ]
  },
  {
   "cell_type": "code",
   "execution_count": 51,
   "metadata": {},
   "outputs": [
    {
     "data": {
      "text/plain": [
       "[1.5530432949418471,\n",
       " 1.4021124788828276,\n",
       " 1.2510181125906876,\n",
       " 1.4483078695462313,\n",
       " 1.4402411484526871,\n",
       " 1.5262739001398262,\n",
       " 1.3384360419357915,\n",
       " 1.173155310891623,\n",
       " 1.381472615679966]"
      ]
     },
     "execution_count": 51,
     "metadata": {},
     "output_type": "execute_result"
    }
   ],
   "source": [
    "mean_apo"
   ]
  },
  {
   "cell_type": "code",
   "execution_count": 64,
   "metadata": {},
   "outputs": [],
   "source": [
    "df_apo = pd.DataFrame(mean_apo,columns=['mean'])\n",
    "df_apo['condition']='apo'\n",
    "df_senes = pd.DataFrame(mean_senes,columns=['mean'])\n",
    "df_senes['condition']='senes'\n",
    "df = pd.concat([df_apo, df_senes],ignore_index=True)"
   ]
  },
  {
   "cell_type": "code",
   "execution_count": 65,
   "metadata": {},
   "outputs": [
    {
     "data": {
      "text/html": [
       "<div>\n",
       "<style scoped>\n",
       "    .dataframe tbody tr th:only-of-type {\n",
       "        vertical-align: middle;\n",
       "    }\n",
       "\n",
       "    .dataframe tbody tr th {\n",
       "        vertical-align: top;\n",
       "    }\n",
       "\n",
       "    .dataframe thead th {\n",
       "        text-align: right;\n",
       "    }\n",
       "</style>\n",
       "<table border=\"1\" class=\"dataframe\">\n",
       "  <thead>\n",
       "    <tr style=\"text-align: right;\">\n",
       "      <th></th>\n",
       "      <th>mean</th>\n",
       "      <th>condition</th>\n",
       "    </tr>\n",
       "  </thead>\n",
       "  <tbody>\n",
       "    <tr>\n",
       "      <th>0</th>\n",
       "      <td>1.553043</td>\n",
       "      <td>apo</td>\n",
       "    </tr>\n",
       "    <tr>\n",
       "      <th>1</th>\n",
       "      <td>1.402112</td>\n",
       "      <td>apo</td>\n",
       "    </tr>\n",
       "    <tr>\n",
       "      <th>2</th>\n",
       "      <td>1.251018</td>\n",
       "      <td>apo</td>\n",
       "    </tr>\n",
       "    <tr>\n",
       "      <th>3</th>\n",
       "      <td>1.448308</td>\n",
       "      <td>apo</td>\n",
       "    </tr>\n",
       "    <tr>\n",
       "      <th>4</th>\n",
       "      <td>1.440241</td>\n",
       "      <td>apo</td>\n",
       "    </tr>\n",
       "    <tr>\n",
       "      <th>5</th>\n",
       "      <td>1.526274</td>\n",
       "      <td>apo</td>\n",
       "    </tr>\n",
       "    <tr>\n",
       "      <th>6</th>\n",
       "      <td>1.338436</td>\n",
       "      <td>apo</td>\n",
       "    </tr>\n",
       "    <tr>\n",
       "      <th>7</th>\n",
       "      <td>1.173155</td>\n",
       "      <td>apo</td>\n",
       "    </tr>\n",
       "    <tr>\n",
       "      <th>8</th>\n",
       "      <td>1.381473</td>\n",
       "      <td>apo</td>\n",
       "    </tr>\n",
       "    <tr>\n",
       "      <th>9</th>\n",
       "      <td>0.944494</td>\n",
       "      <td>senes</td>\n",
       "    </tr>\n",
       "    <tr>\n",
       "      <th>10</th>\n",
       "      <td>1.155627</td>\n",
       "      <td>senes</td>\n",
       "    </tr>\n",
       "    <tr>\n",
       "      <th>11</th>\n",
       "      <td>0.861682</td>\n",
       "      <td>senes</td>\n",
       "    </tr>\n",
       "    <tr>\n",
       "      <th>12</th>\n",
       "      <td>1.027510</td>\n",
       "      <td>senes</td>\n",
       "    </tr>\n",
       "    <tr>\n",
       "      <th>13</th>\n",
       "      <td>1.267094</td>\n",
       "      <td>senes</td>\n",
       "    </tr>\n",
       "    <tr>\n",
       "      <th>14</th>\n",
       "      <td>0.873764</td>\n",
       "      <td>senes</td>\n",
       "    </tr>\n",
       "    <tr>\n",
       "      <th>15</th>\n",
       "      <td>0.679537</td>\n",
       "      <td>senes</td>\n",
       "    </tr>\n",
       "  </tbody>\n",
       "</table>\n",
       "</div>"
      ],
      "text/plain": [
       "        mean condition\n",
       "0   1.553043       apo\n",
       "1   1.402112       apo\n",
       "2   1.251018       apo\n",
       "3   1.448308       apo\n",
       "4   1.440241       apo\n",
       "5   1.526274       apo\n",
       "6   1.338436       apo\n",
       "7   1.173155       apo\n",
       "8   1.381473       apo\n",
       "9   0.944494     senes\n",
       "10  1.155627     senes\n",
       "11  0.861682     senes\n",
       "12  1.027510     senes\n",
       "13  1.267094     senes\n",
       "14  0.873764     senes\n",
       "15  0.679537     senes"
      ]
     },
     "execution_count": 65,
     "metadata": {},
     "output_type": "execute_result"
    }
   ],
   "source": [
    "df"
   ]
  },
  {
   "cell_type": "code",
   "execution_count": 74,
   "metadata": {},
   "outputs": [
    {
     "data": {
      "text/plain": [
       "<Axes: xlabel='condition', ylabel='mean'>"
      ]
     },
     "execution_count": 74,
     "metadata": {},
     "output_type": "execute_result"
    },
    {
     "data": {
      "image/png": "[encoded data removed]",
      "text/plain": [
       "<Figure size 640x480 with 1 Axes>"
      ]
     },
     "metadata": {},
     "output_type": "display_data"
    }
   ],
   "source": [
    "sns.boxplot(data=df, x='condition', y='mean',color='white')\n",
    "sns.swarmplot(data=df, x='condition', y='mean',color='black')"
   ]
  },
  {
   "cell_type": "code",
   "execution_count": 75,
   "metadata": {},
   "outputs": [
    {
     "data": {
      "text/plain": [
       "TtestResult(statistic=5.224304081149904, pvalue=0.00012874053835786983, df=14.0)"
      ]
     },
     "execution_count": 75,
     "metadata": {},
     "output_type": "execute_result"
    }
   ],
   "source": [
    "from scipy.stats import ttest_ind\n",
    "ttest_ind(mean_apo, mean_senes)"
   ]
  },
  {
   "cell_type": "code",
   "execution_count": null,
   "metadata": {},
   "outputs": [],
   "source": []
  }
 ],
 "metadata": {
  "kernelspec": {
   "display_name": "napari-env",
   "language": "python",
   "name": "python3"
  },
  "language_info": {
   "codemirror_mode": {
    "name": "ipython",
    "version": 3
   },
   "file_extension": ".py",
   "mimetype": "text/x-python",
   "name": "python",
   "nbconvert_exporter": "python",
   "pygments_lexer": "ipython3",
   "version": "3.9.18"
  }
 },
 "nbformat": 4,
 "nbformat_minor": 2
}
