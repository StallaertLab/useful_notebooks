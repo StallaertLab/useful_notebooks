{
 "cells": [
  {
   "cell_type": "code",
   "execution_count": 17,
   "metadata": {},
   "outputs": [],
   "source": [
    "from sqlalchemy import create_engine\n",
    "from sqlalchemy.orm import sessionmaker\n",
    "import sys\n",
    "sys.path.append(r'D:\\kasia\\tracking\\E6_exp\\code\\tracks_interactions')\n",
    "from tracks_interactions.db.db_model import NO_PARENT, CellDB, TrackDB\n",
    "import dask.array as da\n",
    "import napari\n",
    "import numpy as np\n",
    "import os\n",
    "os.environ['NAPARI_PERFMON'] = '0'\n",
    "import cv2\n",
    "import matplotlib.pyplot as plt"
   ]
  },
  {
   "cell_type": "code",
   "execution_count": 2,
   "metadata": {},
   "outputs": [],
   "source": [
    "# get access to the database\n",
    "db_path = r'D:\\kasia\\tracking\\E6_exp\\double_segmentation_ultrack\\Exp6_gardener_example_to_process.db'\n",
    "engine = create_engine(f'sqlite:///{db_path}')\n",
    "session = sessionmaker(bind=engine)()\n",
    "\n",
    "from sqlalchemy import text\n",
    "session.execute(text(\"ANALYZE;\"))\n",
    "session.commit()"
   ]
  },
  {
   "cell_type": "code",
   "execution_count": 3,
   "metadata": {},
   "outputs": [],
   "source": [
    "t=session.query(TrackDB).filter(TrackDB.accepted_tag == True).all()"
   ]
  },
  {
   "cell_type": "code",
   "execution_count": 6,
   "metadata": {},
   "outputs": [
    {
     "data": {
      "text/plain": [
       "{'area': 252,\n",
       " 'ch0_nuc': 3953.1825396825398,\n",
       " 'ch0_cyto': 2443.0997229916898,\n",
       " 'ch1_nuc': 1865.5833333333333,\n",
       " 'ch1_cyto': 273.33240997229916}"
      ]
     },
     "execution_count": 6,
     "metadata": {},
     "output_type": "execute_result"
    }
   ],
   "source": [
    "cells=session.query(CellDB).filter_by(track_id = t[0].track_id).order_by(CellDB.t).all()\n",
    "cells[0].signals"
   ]
  },
  {
   "cell_type": "code",
   "execution_count": 19,
   "metadata": {},
   "outputs": [],
   "source": [
    "signals = []\n",
    "tag_list = []\n",
    "for cell_num in range(len(t)):\n",
    "\n",
    "    # find cell id\n",
    "    track_id = t[cell_num].track_id\n",
    "\n",
    "    # get all cells from the track\n",
    "    cells=session.query(CellDB).filter_by(track_id = track_id).order_by(CellDB.t).all()\n",
    "\n",
    "    tag = ''\n",
    "    for cell in cells:\n",
    "        if cell.tags.get('apoptosis', False):\n",
    "            tag='_apo'\n",
    "            break\n",
    "        if cell.tags.get('mitosis', False):\n",
    "            tag='_mit'\n",
    "            break\n",
    "    \n",
    "\n",
    "    # get signal\n",
    "    s = []\n",
    "    for cell in cells:\n",
    "        s.append(cell.signals['ch0_cyto']/cell.signals['ch0_nuc'])\n",
    "    s = np.array(s)\n",
    "\n",
    "    if len(s) > 50:\n",
    "        signals.append(s)\n",
    "        tag_list.append(tag)"
   ]
  },
  {
   "cell_type": "code",
   "execution_count": 21,
   "metadata": {},
   "outputs": [
    {
     "name": "stdout",
     "output_type": "stream",
     "text": [
      "240\n"
     ]
    }
   ],
   "source": [
    "max_len = 0\n",
    "for s in signals:\n",
    "    max_len = max(max_len, len(s))\n",
    "print(max_len)"
   ]
  },
  {
   "cell_type": "code",
   "execution_count": 22,
   "metadata": {},
   "outputs": [
    {
     "name": "stdout",
     "output_type": "stream",
     "text": [
      "9\n",
      "7\n"
     ]
    }
   ],
   "source": [
    "signals_apo = [signals[i] for i in range(len(signals)) if tag_list[i] == '_apo']   \n",
    "print(len(signals_apo))\n",
    "signals_senes = [signals[i] for i in range(len(signals)) if tag_list[i] == '']\n",
    "print(len(signals_senes))"
   ]
  },
  {
   "cell_type": "code",
   "execution_count": 33,
   "metadata": {},
   "outputs": [],
   "source": [
    "# make a 2D array\n",
    "signals2D = np.zeros((len(signals_apo)+len(signals_senes), max_len))\n",
    "\n",
    "i = 0\n",
    "for s in signals_apo:\n",
    "    start_index = max_len - len(s)  \n",
    "    signals2D[i, start_index:] = s\n",
    "    #signals2D[i, :len(s)] = s\n",
    "    i+=1\n",
    "\n",
    "for s in signals_senes:\n",
    "    start_index = max_len - len(s)  \n",
    "    signals2D[i, start_index:] = s\n",
    "    #signals2D[i, :len(s)] = s\n",
    "    i+=1"
   ]
  },
  {
   "cell_type": "code",
   "execution_count": 34,
   "metadata": {},
   "outputs": [
    {
     "data": {
      "text/plain": [
       "<matplotlib.image.AxesImage at 0x1b3194beb80>"
      ]
     },
     "execution_count": 34,
     "metadata": {},
     "output_type": "execute_result"
    },
    {
     "data": {
      "image/png": "[encoded data removed]",
      "text/plain": [
       "<Figure size 640x480 with 1 Axes>"
      ]
     },
     "metadata": {},
     "output_type": "display_data"
    }
   ],
   "source": [
    "# create a heatmap with matplotlib\n",
    "plt.imshow(signals2D, aspect='auto', cmap='viridis',interpolation='nearest')\n"
   ]
  },
  {
   "cell_type": "code",
   "execution_count": null,
   "metadata": {},
   "outputs": [],
   "source": []
  }
 ],
 "metadata": {
  "kernelspec": {
   "display_name": "napari-env",
   "language": "python",
   "name": "python3"
  },
  "language_info": {
   "codemirror_mode": {
    "name": "ipython",
    "version": 3
   },
   "file_extension": ".py",
   "mimetype": "text/x-python",
   "name": "python",
   "nbconvert_exporter": "python",
   "pygments_lexer": "ipython3",
   "version": "3.9.18"
  }
 },
 "nbformat": 4,
 "nbformat_minor": 2
}
