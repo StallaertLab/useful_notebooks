{
 "cells": [
  {
   "cell_type": "code",
   "execution_count": 5,
   "metadata": {},
   "outputs": [],
   "source": [
    "import napari\n",
    "import os\n",
    "import numpy as np\n",
    "import pandas as pd\n",
    "from napari.settings import get_settings\n",
    "import dask\n",
    "import dask.array\n",
    "from readlif.reader import LifFile\n",
    "from dask import delayed\n",
    "import dask.array as da\n",
    "import torch\n",
    "from cellpose import models"
   ]
  },
  {
   "cell_type": "code",
   "execution_count": 6,
   "metadata": {},
   "outputs": [
    {
     "data": {
      "text/plain": [
       "True"
      ]
     },
     "execution_count": 6,
     "metadata": {},
     "output_type": "execute_result"
    }
   ],
   "source": [
    "import torch\n",
    "torch.cuda.is_available()"
   ]
  },
  {
   "cell_type": "code",
   "execution_count": 7,
   "metadata": {},
   "outputs": [],
   "source": [
    "lif_file = 'R:\\Betsy\\Thunder_Ovcar\\\\20240213_OC_TC_2rounds\\\\20240213_Timecourse OVCAR8.lif'\n",
    "\n",
    "image_stack = LifFile(lif_file)"
   ]
  },
  {
   "cell_type": "code",
   "execution_count": 13,
   "metadata": {},
   "outputs": [
    {
     "data": {
      "text/plain": [
       "28"
      ]
     },
     "execution_count": 13,
     "metadata": {},
     "output_type": "execute_result"
    }
   ],
   "source": [
    "img_list = [image.name for image in image_stack.get_iter_image() if (('Merged' in image.name))]\n",
    "len(img_list)"
   ]
  },
  {
   "cell_type": "code",
   "execution_count": 14,
   "metadata": {},
   "outputs": [
    {
     "data": {
      "text/plain": [
       "['R1_RB-AF750/B/5_Merged',\n",
       " 'R1_RB-AF750/B/7_Merged',\n",
       " 'R1_RB-AF750/D/3_Merged',\n",
       " 'R1_RB-AF750/D/4_Merged',\n",
       " 'R1_RB-AF750/D/6_Merged',\n",
       " 'R1_RB-AF750/C2_Merged',\n",
       " 'R1_RB-AF750/F8_Merged',\n",
       " 'R1_DAPI_PLK1-AF488_PH2AX-AF555_p21-AF647/B/5_Merged',\n",
       " 'R1_DAPI_PLK1-AF488_PH2AX-AF555_p21-AF647/B/7_Merged',\n",
       " 'R1_DAPI_PLK1-AF488_PH2AX-AF555_p21-AF647/D/3_Merged',\n",
       " 'R1_DAPI_PLK1-AF488_PH2AX-AF555_p21-AF647/D/4_Merged',\n",
       " 'R1_DAPI_PLK1-AF488_PH2AX-AF555_p21-AF647/D/6_Merged',\n",
       " 'R1_DAPI_PLK1-AF488_PH2AX-AF555_p21-AF647/C2_Merged',\n",
       " 'R1_DAPI_PLK1-AF488_PH2AX-AF555_p21-AF647/F8_Merged',\n",
       " 'R2_DAPI_Fibrillarin-AF647/B/5_Merged',\n",
       " 'R2_DAPI_Fibrillarin-AF647/B/7_Merged',\n",
       " 'R2_DAPI_Fibrillarin-AF647/D/3_Merged',\n",
       " 'R2_DAPI_Fibrillarin-AF647/D/4_Merged',\n",
       " 'R2_DAPI_Fibrillarin-AF647/D/6_Merged',\n",
       " 'R2_DAPI_Fibrillarin-AF647/C2_Merged',\n",
       " 'R2_DAPI_Fibrillarin-AF647/F8_Merged',\n",
       " 'TileScan 1/B/5_Merged',\n",
       " 'TileScan 1/B/7_Merged',\n",
       " 'TileScan 1/D/3_Merged',\n",
       " 'TileScan 1/D/4_Merged',\n",
       " 'TileScan 1/D/6_Merged',\n",
       " 'TileScan 1/C2_Merged',\n",
       " 'TileScan 1/F8_Merged']"
      ]
     },
     "execution_count": 14,
     "metadata": {},
     "output_type": "execute_result"
    }
   ],
   "source": [
    "img_list"
   ]
  },
  {
   "cell_type": "code",
   "execution_count": 8,
   "metadata": {},
   "outputs": [
    {
     "data": {
      "text/plain": [
       "[['R1_DAPI_PLK1-AF488_PH2AX-AF555_p21-AF647/B/5_Merged',\n",
       "  Dims(x=16752, y=16781, z=1, t=1, m=1)],\n",
       " ['R1_DAPI_PLK1-AF488_PH2AX-AF555_p21-AF647/B/7_Merged',\n",
       "  Dims(x=16751, y=16769, z=1, t=1, m=1)],\n",
       " ['R1_DAPI_PLK1-AF488_PH2AX-AF555_p21-AF647/D/3_Merged',\n",
       "  Dims(x=16763, y=16783, z=1, t=1, m=1)],\n",
       " ['R1_DAPI_PLK1-AF488_PH2AX-AF555_p21-AF647/D/4_Merged',\n",
       "  Dims(x=16754, y=16771, z=1, t=1, m=1)],\n",
       " ['R1_DAPI_PLK1-AF488_PH2AX-AF555_p21-AF647/D/6_Merged',\n",
       "  Dims(x=16756, y=16769, z=1, t=1, m=1)],\n",
       " ['R1_DAPI_PLK1-AF488_PH2AX-AF555_p21-AF647/C2_Merged',\n",
       "  Dims(x=16746, y=16768, z=1, t=1, m=1)],\n",
       " ['R1_DAPI_PLK1-AF488_PH2AX-AF555_p21-AF647/F8_Merged',\n",
       "  Dims(x=16755, y=16772, z=1, t=1, m=1)],\n",
       " ['R2_DAPI_Fibrillarin-AF647/B/5_Merged',\n",
       "  Dims(x=16743, y=16776, z=1, t=1, m=1)],\n",
       " ['R2_DAPI_Fibrillarin-AF647/B/7_Merged',\n",
       "  Dims(x=16761, y=16773, z=1, t=1, m=1)],\n",
       " ['R2_DAPI_Fibrillarin-AF647/D/3_Merged',\n",
       "  Dims(x=16754, y=16784, z=1, t=1, m=1)],\n",
       " ['R2_DAPI_Fibrillarin-AF647/D/4_Merged',\n",
       "  Dims(x=16761, y=16777, z=1, t=1, m=1)],\n",
       " ['R2_DAPI_Fibrillarin-AF647/D/6_Merged',\n",
       "  Dims(x=16782, y=16779, z=1, t=1, m=1)],\n",
       " ['R2_DAPI_Fibrillarin-AF647/C2_Merged',\n",
       "  Dims(x=16752, y=16775, z=1, t=1, m=1)],\n",
       " ['R2_DAPI_Fibrillarin-AF647/F8_Merged',\n",
       "  Dims(x=16784, y=16775, z=1, t=1, m=1)]]"
      ]
     },
     "execution_count": 8,
     "metadata": {},
     "output_type": "execute_result"
    }
   ],
   "source": [
    "# list all DAPI merged images\n",
    "img_list = [[image.name, image.dims] for image in image_stack.get_iter_image() if (('Merged' in image.name) and ('DAPI' in image.name))]\n",
    "img_list"
   ]
  },
  {
   "cell_type": "code",
   "execution_count": 15,
   "metadata": {},
   "outputs": [
    {
     "name": "stdout",
     "output_type": "stream",
     "text": [
      "R1_DAPI_PLK1-AF488_PH2AX-AF555_p21-AF647/B/5_Merged\n",
      "Dims(x=16752, y=16781, z=1, t=1, m=1)\n",
      "Output:\n",
      "<class 'dask.array.core.Array'>\n",
      "(16781, 16752)\n"
     ]
    }
   ],
   "source": [
    "# example of getting the first image\n",
    "\n",
    "def frame_getter(lif):\n",
    "\n",
    "    return np.array(lif.get_frame(z=0, t=0))\n",
    "\n",
    "sel_im = img_list[0][0] #change first [0] to [i] and loop through image list\n",
    "print(sel_im)\n",
    "dims = img_list[0][1] #change first [0] to [i] and loop through image list\n",
    "print(dims)\n",
    "\n",
    "im_lif = [image for image in image_stack.get_iter_image() if sel_im in image.name][0]\n",
    "im_del = delayed(frame_getter)(im_lif)\n",
    "# get the image in dask\n",
    "im = da.from_delayed(im_del,shape=[dims.y,dims.x], dtype='uint16')\n",
    "print('Output:')\n",
    "print(type(im))\n",
    "print(im.shape)"
   ]
  },
  {
   "cell_type": "code",
   "execution_count": null,
   "metadata": {},
   "outputs": [],
   "source": [
    "# test run \n",
    "# model = models.Cellpose(model_type='cyto2',gpu=True)\n",
    "# masks, _, _, _ = model.eval(im[5000:6000,5000:6000], diameter=80)\n",
    "\n",
    "# viewer = napari.Viewer()\n",
    "# viewer.add_image(im[5000:6000,5000:6000],contrast_limits=[0,10000])\n",
    "# viewer.add_labels(masks)"
   ]
  },
  {
   "cell_type": "code",
   "execution_count": 28,
   "metadata": {},
   "outputs": [],
   "source": [
    "# segment with cellpose\n",
    "# on GPU on CTRL runs < 3min\n",
    "\n",
    "model = models.Cellpose(model_type='cyto2',gpu=True)\n",
    "masks, _, _, _ = model.eval(im, diameter=80)"
   ]
  },
  {
   "cell_type": "code",
   "execution_count": 29,
   "metadata": {},
   "outputs": [
    {
     "data": {
      "text/plain": [
       "<Labels layer 'masks' at 0x2120144b3a0>"
      ]
     },
     "execution_count": 29,
     "metadata": {},
     "output_type": "execute_result"
    }
   ],
   "source": [
    "# preview image\n",
    "viewer = napari.Viewer()\n",
    "viewer.add_image(im,contrast_limits=[0,10000])\n",
    "viewer.add_labels(masks)"
   ]
  },
  {
   "cell_type": "code",
   "execution_count": null,
   "metadata": {},
   "outputs": [],
   "source": [
    "# segmentation in the loop\n",
    "\n",
    "for ind in range(len(img_list)):\n",
    "\n",
    "    sel_im = img_list[ind][0]\n",
    "    print(sel_im)\n",
    "    dims = img_list[ind][1]\n",
    "    print(dims)\n",
    "\n",
    "    im_lif = [image for image in image_stack.get_iter_image() if sel_im in image.name][0]\n",
    "    im_del = delayed(frame_getter)(im_lif)\n",
    "    # get the image in dask\n",
    "    im = da.from_delayed(im_del,shape=[dims.y,dims.x], dtype='uint16')\n",
    "\n",
    "    # segmentation\n",
    "    masks, _, _, _ = model.eval(im, diameter=80)\n",
    "\n",
    "    # save mask\n",
    "\n"
   ]
  }
 ],
 "metadata": {
  "kernelspec": {
   "display_name": "seg_and_quant",
   "language": "python",
   "name": "python3"
  },
  "language_info": {
   "codemirror_mode": {
    "name": "ipython",
    "version": 3
   },
   "file_extension": ".py",
   "mimetype": "text/x-python",
   "name": "python",
   "nbconvert_exporter": "python",
   "pygments_lexer": "ipython3",
   "version": "3.10.14"
  }
 },
 "nbformat": 4,
 "nbformat_minor": 2
}
