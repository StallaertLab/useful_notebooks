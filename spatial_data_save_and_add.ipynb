{
 "cells": [
  {
   "cell_type": "code",
   "execution_count": 1,
   "metadata": {},
   "outputs": [],
   "source": [
    "import os\n",
    "from spatialdata import SpatialData, read_zarr\n",
    "from tifffile import imread\n",
    "from spatialdata.models import Image2DModel, Labels2DModel, TableModel"
   ]
  },
  {
   "cell_type": "code",
   "execution_count": 2,
   "metadata": {},
   "outputs": [
    {
     "data": {
      "text/plain": [
       "'0.1.3.dev32+gf2bea77'"
      ]
     },
     "execution_count": 2,
     "metadata": {},
     "output_type": "execute_result"
    }
   ],
   "source": [
    "import spatialdata\n",
    "spatialdata.__version__"
   ]
  },
  {
   "cell_type": "code",
   "execution_count": 3,
   "metadata": {},
   "outputs": [],
   "source": [
    "data_dir = r'R:\\data_analysis\\Kasia\\BRCAOS_020824_Analysis\\Core_Storage\\Core 01'"
   ]
  },
  {
   "cell_type": "code",
   "execution_count": 4,
   "metadata": {},
   "outputs": [
    {
     "data": {
      "text/plain": [
       "['BRCAOS_020824_1.0.4_R000_Cy3_ERa-AF555_Core_01.ome.tif',\n",
       " 'BRCAOS_020824_1.0.4_R000_Cy5_pRB-AF647_Core_01.ome.tif',\n",
       " 'BRCAOS_020824_1.0.4_R000_Cy7_p21-AF750_Core_01.ome.tif',\n",
       " 'BRCAOS_020824_1.0.4_R000_DAPI__Core_01.ome.tif',\n",
       " 'BRCAOS_020824_1.0.4_R000_FITC_HER2-AF488_Core_01.ome.tif',\n",
       " 'BRCAOS_020824_10.0.4_R000_Cy3_pS6-AF555_Core_01.ome.tif',\n",
       " 'BRCAOS_020824_10.0.4_R000_Cy5_SKP2-AF647_Core_01.ome.tif',\n",
       " 'BRCAOS_020824_10.0.4_R000_Cy7_NaKATPase-AF750_Core_01.ome.tif',\n",
       " 'BRCAOS_020824_10.0.4_R000_DAPI__Core_01.ome.tif',\n",
       " 'BRCAOS_020824_11.0.4_R000_Cy3_YAP1-AF555_Core_01.ome.tif',\n",
       " 'BRCAOS_020824_11.0.4_R000_Cy5_cMYC-AF647_Core_01.ome.tif',\n",
       " 'BRCAOS_020824_11.0.4_R000_Cy7_PH3-AF750_Core_01.ome.tif',\n",
       " 'BRCAOS_020824_11.0.4_R000_DAPI__Core_01.ome.tif',\n",
       " 'BRCAOS_020824_12.0.4_R000_Cy5_p16-AF647_Core_01.ome.tif',\n",
       " 'BRCAOS_020824_12.0.4_R000_Cy7_CDK4-AF750_Core_01.ome.tif',\n",
       " 'BRCAOS_020824_12.0.4_R000_DAPI__Core_01.ome.tif',\n",
       " 'BRCAOS_020824_13.0.4_R000_Cy5_pAKT-AF647_Core_01.ome.tif',\n",
       " 'BRCAOS_020824_13.0.4_R000_Cy7_p-p130-AF750_Core_01.ome.tif',\n",
       " 'BRCAOS_020824_13.0.4_R000_DAPI__Core_01.ome.tif',\n",
       " 'BRCAOS_020824_14.0.4_R000_Cy3_p38-AF555_Core_01.ome.tif',\n",
       " 'BRCAOS_020824_14.0.4_R000_Cy5_pERK-AF647_Core_01.ome.tif',\n",
       " 'BRCAOS_020824_14.0.4_R000_Cy7_p-Cdc6-AF750_Core_01.ome.tif',\n",
       " 'BRCAOS_020824_14.0.4_R000_DAPI__Core_01.ome.tif',\n",
       " 'BRCAOS_020824_15.0.4_R000_Cy3_SMA-Cy3_Core_01.ome.tif',\n",
       " 'BRCAOS_020824_15.0.4_R000_Cy5_EpCAM-AF647_Core_01.ome.tif',\n",
       " 'BRCAOS_020824_15.0.4_R000_Cy7_pCK26-AF750_Core_01.ome.tif',\n",
       " 'BRCAOS_020824_15.0.4_R000_DAPI__Core_01.ome.tif',\n",
       " 'BRCAOS_020824_15.0.4_R000_FITC_VIM-AF488_Core_01.ome.tif',\n",
       " 'BRCAOS_020824_2.0.4_R000_Cy3_pH2AX-AF555_Core_01.ome.tif',\n",
       " 'BRCAOS_020824_2.0.4_R000_Cy5_cycE1-AF647_Core_01.ome.tif',\n",
       " 'BRCAOS_020824_2.0.4_R000_Cy7_RB-AF750_Core_01.ome.tif',\n",
       " 'BRCAOS_020824_2.0.4_R000_DAPI__Core_01.ome.tif',\n",
       " 'BRCAOS_020824_2.0.4_R000_FITC_cycE2-AF488_Core_01.ome.tif',\n",
       " 'BRCAOS_020824_3.0.4_R000_Cy3_cycD1-AF555_Core_01.ome.tif',\n",
       " 'BRCAOS_020824_3.0.4_R000_Cy5_Ki67-AF647_Core_01.ome.tif',\n",
       " 'BRCAOS_020824_3.0.4_R000_Cy7_ProgRc-AF750_Core_01.ome.tif',\n",
       " 'BRCAOS_020824_3.0.4_R000_DAPI__Core_01.ome.tif',\n",
       " 'BRCAOS_020824_3.0.4_R000_FITC_CDC25C-AF488_Core_01.ome.tif',\n",
       " 'BRCAOS_020824_4.0.4_R000_Cy3_cycA2-AF555_Core_01.ome.tif',\n",
       " 'BRCAOS_020824_4.0.4_R000_Cy5_p53-AF647_Core_01.ome.tif',\n",
       " 'BRCAOS_020824_4.0.4_R000_Cy7_CDK2-AF750_Core_01.ome.tif',\n",
       " 'BRCAOS_020824_4.0.4_R000_DAPI__Core_01.ome.tif',\n",
       " 'BRCAOS_020824_4.0.4_R000_FITC_ECad-AF488_Core_01.ome.tif',\n",
       " 'BRCAOS_020824_5.0.4_R000_Cy3_CycB1-AF555_Core_01.ome.tif',\n",
       " 'BRCAOS_020824_5.0.4_R000_Cy5_PCNA-AF647_Core_01.ome.tif',\n",
       " 'BRCAOS_020824_5.0.4_R000_Cy7_cycB2-AF750_Core_01.ome.tif',\n",
       " 'BRCAOS_020824_5.0.4_R000_DAPI__Core_01.ome.tif',\n",
       " 'BRCAOS_020824_5.0.4_R000_FITC_Plk1-AF488_Core_01.ome.tif',\n",
       " 'BRCAOS_020824_6.0.4_R000_Cy3_bCat-AF555_Core_01.ome.tif',\n",
       " 'BRCAOS_020824_6.0.4_R000_Cy5_CDK6-AF647_Core_01.ome.tif',\n",
       " 'BRCAOS_020824_6.0.4_R000_Cy7_p27-AF750_Core_01.ome.tif',\n",
       " 'BRCAOS_020824_6.0.4_R000_DAPI__Core_01.ome.tif',\n",
       " 'BRCAOS_020824_6.0.4_R000_FITC_p65-AF488_Core_01.ome.tif',\n",
       " 'BRCAOS_020824_7.0.4_R000_Cy3_ERa-AF555_Core_01.ome.tif',\n",
       " 'BRCAOS_020824_7.0.4_R000_Cy5_pRB-AF647_Core_01.ome.tif',\n",
       " 'BRCAOS_020824_7.0.4_R000_Cy7_p21-AF750_Core_01.ome.tif',\n",
       " 'BRCAOS_020824_7.0.4_R000_DAPI__Core_01.ome.tif',\n",
       " 'BRCAOS_020824_7.0.4_R000_FITC_HER2-AF488_Core_01.ome.tif',\n",
       " 'BRCAOS_020824_8.0.4_R000_Cy3_cycA1-AF555_Core_01.ome.tif',\n",
       " 'BRCAOS_020824_8.0.4_R000_Cy5_CDT1-AF647_Core_01.ome.tif',\n",
       " 'BRCAOS_020824_8.0.4_R000_Cy7_cycD3-AF750_Core_01.ome.tif',\n",
       " 'BRCAOS_020824_8.0.4_R000_DAPI__Core_01.ome.tif',\n",
       " 'BRCAOS_020824_8.0.4_R000_FITC_HES1-AF488_Core_01.ome.tif',\n",
       " 'BRCAOS_020824_9.0.4_R000_Cy3_wee1-AF555_Core_01.ome.tif',\n",
       " 'BRCAOS_020824_9.0.4_R000_Cy5_AurB-AF647_Core_01.ome.tif',\n",
       " 'BRCAOS_020824_9.0.4_R000_Cy7_E2F1-AF750_Core_01.ome.tif',\n",
       " 'BRCAOS_020824_9.0.4_R000_DAPI__Core_01.ome.tif']"
      ]
     },
     "execution_count": 4,
     "metadata": {},
     "output_type": "execute_result"
    }
   ],
   "source": [
    "im_list = [x for x in os.listdir(data_dir) if x.endswith('.tif')]\n",
    "im_list"
   ]
  },
  {
   "cell_type": "code",
   "execution_count": 5,
   "metadata": {},
   "outputs": [
    {
     "name": "stdout",
     "output_type": "stream",
     "text": [
      "\u001b[34mINFO    \u001b[0m no axes information specified in the object, setting `dims` to: \u001b[1m(\u001b[0m\u001b[32m'c'\u001b[0m, \u001b[32m'y'\u001b[0m, \u001b[32m'x'\u001b[0m\u001b[1m)\u001b[0m                           \n",
      "\u001b[34mINFO    \u001b[0m no axes information specified in the object, setting `dims` to: \u001b[1m(\u001b[0m\u001b[32m'c'\u001b[0m, \u001b[32m'y'\u001b[0m, \u001b[32m'x'\u001b[0m\u001b[1m)\u001b[0m                           \n",
      "\u001b[34mINFO    \u001b[0m no axes information specified in the object, setting `dims` to: \u001b[1m(\u001b[0m\u001b[32m'c'\u001b[0m, \u001b[32m'y'\u001b[0m, \u001b[32m'x'\u001b[0m\u001b[1m)\u001b[0m                           \n",
      "\u001b[34mINFO    \u001b[0m no axes information specified in the object, setting `dims` to: \u001b[1m(\u001b[0m\u001b[32m'c'\u001b[0m, \u001b[32m'y'\u001b[0m, \u001b[32m'x'\u001b[0m\u001b[1m)\u001b[0m                           \n",
      "\u001b[34mINFO    \u001b[0m no axes information specified in the object, setting `dims` to: \u001b[1m(\u001b[0m\u001b[32m'c'\u001b[0m, \u001b[32m'y'\u001b[0m, \u001b[32m'x'\u001b[0m\u001b[1m)\u001b[0m                           \n",
      "\u001b[34mINFO    \u001b[0m no axes information specified in the object, setting `dims` to: \u001b[1m(\u001b[0m\u001b[32m'c'\u001b[0m, \u001b[32m'y'\u001b[0m, \u001b[32m'x'\u001b[0m\u001b[1m)\u001b[0m                           \n",
      "\u001b[34mINFO    \u001b[0m no axes information specified in the object, setting `dims` to: \u001b[1m(\u001b[0m\u001b[32m'c'\u001b[0m, \u001b[32m'y'\u001b[0m, \u001b[32m'x'\u001b[0m\u001b[1m)\u001b[0m                           \n",
      "\u001b[34mINFO    \u001b[0m no axes information specified in the object, setting `dims` to: \u001b[1m(\u001b[0m\u001b[32m'c'\u001b[0m, \u001b[32m'y'\u001b[0m, \u001b[32m'x'\u001b[0m\u001b[1m)\u001b[0m                           \n",
      "\u001b[34mINFO    \u001b[0m no axes information specified in the object, setting `dims` to: \u001b[1m(\u001b[0m\u001b[32m'c'\u001b[0m, \u001b[32m'y'\u001b[0m, \u001b[32m'x'\u001b[0m\u001b[1m)\u001b[0m                           \n",
      "\u001b[34mINFO    \u001b[0m no axes information specified in the object, setting `dims` to: \u001b[1m(\u001b[0m\u001b[32m'c'\u001b[0m, \u001b[32m'y'\u001b[0m, \u001b[32m'x'\u001b[0m\u001b[1m)\u001b[0m                           \n",
      "\u001b[34mINFO    \u001b[0m no axes information specified in the object, setting `dims` to: \u001b[1m(\u001b[0m\u001b[32m'c'\u001b[0m, \u001b[32m'y'\u001b[0m, \u001b[32m'x'\u001b[0m\u001b[1m)\u001b[0m                           \n",
      "\u001b[34mINFO    \u001b[0m no axes information specified in the object, setting `dims` to: \u001b[1m(\u001b[0m\u001b[32m'c'\u001b[0m, \u001b[32m'y'\u001b[0m, \u001b[32m'x'\u001b[0m\u001b[1m)\u001b[0m                           \n",
      "\u001b[34mINFO    \u001b[0m no axes information specified in the object, setting `dims` to: \u001b[1m(\u001b[0m\u001b[32m'c'\u001b[0m, \u001b[32m'y'\u001b[0m, \u001b[32m'x'\u001b[0m\u001b[1m)\u001b[0m                           \n",
      "\u001b[34mINFO    \u001b[0m no axes information specified in the object, setting `dims` to: \u001b[1m(\u001b[0m\u001b[32m'c'\u001b[0m, \u001b[32m'y'\u001b[0m, \u001b[32m'x'\u001b[0m\u001b[1m)\u001b[0m                           \n",
      "\u001b[34mINFO    \u001b[0m no axes information specified in the object, setting `dims` to: \u001b[1m(\u001b[0m\u001b[32m'c'\u001b[0m, \u001b[32m'y'\u001b[0m, \u001b[32m'x'\u001b[0m\u001b[1m)\u001b[0m                           \n",
      "\u001b[34mINFO    \u001b[0m no axes information specified in the object, setting `dims` to: \u001b[1m(\u001b[0m\u001b[32m'c'\u001b[0m, \u001b[32m'y'\u001b[0m, \u001b[32m'x'\u001b[0m\u001b[1m)\u001b[0m                           \n",
      "\u001b[34mINFO    \u001b[0m no axes information specified in the object, setting `dims` to: \u001b[1m(\u001b[0m\u001b[32m'c'\u001b[0m, \u001b[32m'y'\u001b[0m, \u001b[32m'x'\u001b[0m\u001b[1m)\u001b[0m                           \n",
      "\u001b[34mINFO    \u001b[0m no axes information specified in the object, setting `dims` to: \u001b[1m(\u001b[0m\u001b[32m'c'\u001b[0m, \u001b[32m'y'\u001b[0m, \u001b[32m'x'\u001b[0m\u001b[1m)\u001b[0m                           \n",
      "\u001b[34mINFO    \u001b[0m no axes information specified in the object, setting `dims` to: \u001b[1m(\u001b[0m\u001b[32m'c'\u001b[0m, \u001b[32m'y'\u001b[0m, \u001b[32m'x'\u001b[0m\u001b[1m)\u001b[0m                           \n",
      "\u001b[34mINFO    \u001b[0m no axes information specified in the object, setting `dims` to: \u001b[1m(\u001b[0m\u001b[32m'c'\u001b[0m, \u001b[32m'y'\u001b[0m, \u001b[32m'x'\u001b[0m\u001b[1m)\u001b[0m                           \n",
      "\u001b[34mINFO    \u001b[0m no axes information specified in the object, setting `dims` to: \u001b[1m(\u001b[0m\u001b[32m'c'\u001b[0m, \u001b[32m'y'\u001b[0m, \u001b[32m'x'\u001b[0m\u001b[1m)\u001b[0m                           \n",
      "\u001b[34mINFO    \u001b[0m no axes information specified in the object, setting `dims` to: \u001b[1m(\u001b[0m\u001b[32m'c'\u001b[0m, \u001b[32m'y'\u001b[0m, \u001b[32m'x'\u001b[0m\u001b[1m)\u001b[0m                           \n",
      "\u001b[34mINFO    \u001b[0m no axes information specified in the object, setting `dims` to: \u001b[1m(\u001b[0m\u001b[32m'c'\u001b[0m, \u001b[32m'y'\u001b[0m, \u001b[32m'x'\u001b[0m\u001b[1m)\u001b[0m                           \n",
      "\u001b[34mINFO    \u001b[0m no axes information specified in the object, setting `dims` to: \u001b[1m(\u001b[0m\u001b[32m'c'\u001b[0m, \u001b[32m'y'\u001b[0m, \u001b[32m'x'\u001b[0m\u001b[1m)\u001b[0m                           \n",
      "\u001b[34mINFO    \u001b[0m no axes information specified in the object, setting `dims` to: \u001b[1m(\u001b[0m\u001b[32m'c'\u001b[0m, \u001b[32m'y'\u001b[0m, \u001b[32m'x'\u001b[0m\u001b[1m)\u001b[0m                           \n",
      "\u001b[34mINFO    \u001b[0m no axes information specified in the object, setting `dims` to: \u001b[1m(\u001b[0m\u001b[32m'c'\u001b[0m, \u001b[32m'y'\u001b[0m, \u001b[32m'x'\u001b[0m\u001b[1m)\u001b[0m                           \n",
      "\u001b[34mINFO    \u001b[0m no axes information specified in the object, setting `dims` to: \u001b[1m(\u001b[0m\u001b[32m'c'\u001b[0m, \u001b[32m'y'\u001b[0m, \u001b[32m'x'\u001b[0m\u001b[1m)\u001b[0m                           \n",
      "\u001b[34mINFO    \u001b[0m no axes information specified in the object, setting `dims` to: \u001b[1m(\u001b[0m\u001b[32m'c'\u001b[0m, \u001b[32m'y'\u001b[0m, \u001b[32m'x'\u001b[0m\u001b[1m)\u001b[0m                           \n",
      "\u001b[34mINFO    \u001b[0m no axes information specified in the object, setting `dims` to: \u001b[1m(\u001b[0m\u001b[32m'c'\u001b[0m, \u001b[32m'y'\u001b[0m, \u001b[32m'x'\u001b[0m\u001b[1m)\u001b[0m                           \n",
      "\u001b[34mINFO    \u001b[0m no axes information specified in the object, setting `dims` to: \u001b[1m(\u001b[0m\u001b[32m'c'\u001b[0m, \u001b[32m'y'\u001b[0m, \u001b[32m'x'\u001b[0m\u001b[1m)\u001b[0m                           \n",
      "\u001b[34mINFO    \u001b[0m no axes information specified in the object, setting `dims` to: \u001b[1m(\u001b[0m\u001b[32m'c'\u001b[0m, \u001b[32m'y'\u001b[0m, \u001b[32m'x'\u001b[0m\u001b[1m)\u001b[0m                           \n",
      "\u001b[34mINFO    \u001b[0m no axes information specified in the object, setting `dims` to: \u001b[1m(\u001b[0m\u001b[32m'c'\u001b[0m, \u001b[32m'y'\u001b[0m, \u001b[32m'x'\u001b[0m\u001b[1m)\u001b[0m                           \n",
      "\u001b[34mINFO    \u001b[0m no axes information specified in the object, setting `dims` to: \u001b[1m(\u001b[0m\u001b[32m'c'\u001b[0m, \u001b[32m'y'\u001b[0m, \u001b[32m'x'\u001b[0m\u001b[1m)\u001b[0m                           \n",
      "\u001b[34mINFO    \u001b[0m no axes information specified in the object, setting `dims` to: \u001b[1m(\u001b[0m\u001b[32m'c'\u001b[0m, \u001b[32m'y'\u001b[0m, \u001b[32m'x'\u001b[0m\u001b[1m)\u001b[0m                           \n",
      "\u001b[34mINFO    \u001b[0m no axes information specified in the object, setting `dims` to: \u001b[1m(\u001b[0m\u001b[32m'c'\u001b[0m, \u001b[32m'y'\u001b[0m, \u001b[32m'x'\u001b[0m\u001b[1m)\u001b[0m                           \n",
      "\u001b[34mINFO    \u001b[0m no axes information specified in the object, setting `dims` to: \u001b[1m(\u001b[0m\u001b[32m'c'\u001b[0m, \u001b[32m'y'\u001b[0m, \u001b[32m'x'\u001b[0m\u001b[1m)\u001b[0m                           \n",
      "\u001b[34mINFO    \u001b[0m no axes information specified in the object, setting `dims` to: \u001b[1m(\u001b[0m\u001b[32m'c'\u001b[0m, \u001b[32m'y'\u001b[0m, \u001b[32m'x'\u001b[0m\u001b[1m)\u001b[0m                           \n",
      "\u001b[34mINFO    \u001b[0m no axes information specified in the object, setting `dims` to: \u001b[1m(\u001b[0m\u001b[32m'c'\u001b[0m, \u001b[32m'y'\u001b[0m, \u001b[32m'x'\u001b[0m\u001b[1m)\u001b[0m                           \n",
      "\u001b[34mINFO    \u001b[0m no axes information specified in the object, setting `dims` to: \u001b[1m(\u001b[0m\u001b[32m'c'\u001b[0m, \u001b[32m'y'\u001b[0m, \u001b[32m'x'\u001b[0m\u001b[1m)\u001b[0m                           \n",
      "\u001b[34mINFO    \u001b[0m no axes information specified in the object, setting `dims` to: \u001b[1m(\u001b[0m\u001b[32m'c'\u001b[0m, \u001b[32m'y'\u001b[0m, \u001b[32m'x'\u001b[0m\u001b[1m)\u001b[0m                           \n",
      "\u001b[34mINFO    \u001b[0m no axes information specified in the object, setting `dims` to: \u001b[1m(\u001b[0m\u001b[32m'c'\u001b[0m, \u001b[32m'y'\u001b[0m, \u001b[32m'x'\u001b[0m\u001b[1m)\u001b[0m                           \n",
      "\u001b[34mINFO    \u001b[0m no axes information specified in the object, setting `dims` to: \u001b[1m(\u001b[0m\u001b[32m'c'\u001b[0m, \u001b[32m'y'\u001b[0m, \u001b[32m'x'\u001b[0m\u001b[1m)\u001b[0m                           \n",
      "\u001b[34mINFO    \u001b[0m no axes information specified in the object, setting `dims` to: \u001b[1m(\u001b[0m\u001b[32m'c'\u001b[0m, \u001b[32m'y'\u001b[0m, \u001b[32m'x'\u001b[0m\u001b[1m)\u001b[0m                           \n",
      "\u001b[34mINFO    \u001b[0m no axes information specified in the object, setting `dims` to: \u001b[1m(\u001b[0m\u001b[32m'c'\u001b[0m, \u001b[32m'y'\u001b[0m, \u001b[32m'x'\u001b[0m\u001b[1m)\u001b[0m                           \n",
      "\u001b[34mINFO    \u001b[0m no axes information specified in the object, setting `dims` to: \u001b[1m(\u001b[0m\u001b[32m'c'\u001b[0m, \u001b[32m'y'\u001b[0m, \u001b[32m'x'\u001b[0m\u001b[1m)\u001b[0m                           \n",
      "\u001b[34mINFO    \u001b[0m no axes information specified in the object, setting `dims` to: \u001b[1m(\u001b[0m\u001b[32m'c'\u001b[0m, \u001b[32m'y'\u001b[0m, \u001b[32m'x'\u001b[0m\u001b[1m)\u001b[0m                           \n",
      "\u001b[34mINFO    \u001b[0m no axes information specified in the object, setting `dims` to: \u001b[1m(\u001b[0m\u001b[32m'c'\u001b[0m, \u001b[32m'y'\u001b[0m, \u001b[32m'x'\u001b[0m\u001b[1m)\u001b[0m                           \n",
      "\u001b[34mINFO    \u001b[0m no axes information specified in the object, setting `dims` to: \u001b[1m(\u001b[0m\u001b[32m'c'\u001b[0m, \u001b[32m'y'\u001b[0m, \u001b[32m'x'\u001b[0m\u001b[1m)\u001b[0m                           \n",
      "\u001b[34mINFO    \u001b[0m no axes information specified in the object, setting `dims` to: \u001b[1m(\u001b[0m\u001b[32m'c'\u001b[0m, \u001b[32m'y'\u001b[0m, \u001b[32m'x'\u001b[0m\u001b[1m)\u001b[0m                           \n",
      "\u001b[34mINFO    \u001b[0m no axes information specified in the object, setting `dims` to: \u001b[1m(\u001b[0m\u001b[32m'c'\u001b[0m, \u001b[32m'y'\u001b[0m, \u001b[32m'x'\u001b[0m\u001b[1m)\u001b[0m                           \n",
      "\u001b[34mINFO    \u001b[0m no axes information specified in the object, setting `dims` to: \u001b[1m(\u001b[0m\u001b[32m'c'\u001b[0m, \u001b[32m'y'\u001b[0m, \u001b[32m'x'\u001b[0m\u001b[1m)\u001b[0m                           \n",
      "\u001b[34mINFO    \u001b[0m no axes information specified in the object, setting `dims` to: \u001b[1m(\u001b[0m\u001b[32m'c'\u001b[0m, \u001b[32m'y'\u001b[0m, \u001b[32m'x'\u001b[0m\u001b[1m)\u001b[0m                           \n",
      "\u001b[34mINFO    \u001b[0m no axes information specified in the object, setting `dims` to: \u001b[1m(\u001b[0m\u001b[32m'c'\u001b[0m, \u001b[32m'y'\u001b[0m, \u001b[32m'x'\u001b[0m\u001b[1m)\u001b[0m                           \n",
      "\u001b[34mINFO    \u001b[0m no axes information specified in the object, setting `dims` to: \u001b[1m(\u001b[0m\u001b[32m'c'\u001b[0m, \u001b[32m'y'\u001b[0m, \u001b[32m'x'\u001b[0m\u001b[1m)\u001b[0m                           \n",
      "\u001b[34mINFO    \u001b[0m no axes information specified in the object, setting `dims` to: \u001b[1m(\u001b[0m\u001b[32m'c'\u001b[0m, \u001b[32m'y'\u001b[0m, \u001b[32m'x'\u001b[0m\u001b[1m)\u001b[0m                           \n",
      "\u001b[34mINFO    \u001b[0m no axes information specified in the object, setting `dims` to: \u001b[1m(\u001b[0m\u001b[32m'c'\u001b[0m, \u001b[32m'y'\u001b[0m, \u001b[32m'x'\u001b[0m\u001b[1m)\u001b[0m                           \n",
      "\u001b[34mINFO    \u001b[0m no axes information specified in the object, setting `dims` to: \u001b[1m(\u001b[0m\u001b[32m'c'\u001b[0m, \u001b[32m'y'\u001b[0m, \u001b[32m'x'\u001b[0m\u001b[1m)\u001b[0m                           \n",
      "\u001b[34mINFO    \u001b[0m no axes information specified in the object, setting `dims` to: \u001b[1m(\u001b[0m\u001b[32m'c'\u001b[0m, \u001b[32m'y'\u001b[0m, \u001b[32m'x'\u001b[0m\u001b[1m)\u001b[0m                           \n",
      "\u001b[34mINFO    \u001b[0m no axes information specified in the object, setting `dims` to: \u001b[1m(\u001b[0m\u001b[32m'c'\u001b[0m, \u001b[32m'y'\u001b[0m, \u001b[32m'x'\u001b[0m\u001b[1m)\u001b[0m                           \n",
      "\u001b[34mINFO    \u001b[0m no axes information specified in the object, setting `dims` to: \u001b[1m(\u001b[0m\u001b[32m'c'\u001b[0m, \u001b[32m'y'\u001b[0m, \u001b[32m'x'\u001b[0m\u001b[1m)\u001b[0m                           \n",
      "\u001b[34mINFO    \u001b[0m no axes information specified in the object, setting `dims` to: \u001b[1m(\u001b[0m\u001b[32m'c'\u001b[0m, \u001b[32m'y'\u001b[0m, \u001b[32m'x'\u001b[0m\u001b[1m)\u001b[0m                           \n",
      "\u001b[34mINFO    \u001b[0m no axes information specified in the object, setting `dims` to: \u001b[1m(\u001b[0m\u001b[32m'c'\u001b[0m, \u001b[32m'y'\u001b[0m, \u001b[32m'x'\u001b[0m\u001b[1m)\u001b[0m                           \n",
      "\u001b[34mINFO    \u001b[0m no axes information specified in the object, setting `dims` to: \u001b[1m(\u001b[0m\u001b[32m'c'\u001b[0m, \u001b[32m'y'\u001b[0m, \u001b[32m'x'\u001b[0m\u001b[1m)\u001b[0m                           \n",
      "\u001b[34mINFO    \u001b[0m no axes information specified in the object, setting `dims` to: \u001b[1m(\u001b[0m\u001b[32m'c'\u001b[0m, \u001b[32m'y'\u001b[0m, \u001b[32m'x'\u001b[0m\u001b[1m)\u001b[0m                           \n",
      "\u001b[34mINFO    \u001b[0m no axes information specified in the object, setting `dims` to: \u001b[1m(\u001b[0m\u001b[32m'c'\u001b[0m, \u001b[32m'y'\u001b[0m, \u001b[32m'x'\u001b[0m\u001b[1m)\u001b[0m                           \n",
      "\u001b[34mINFO    \u001b[0m no axes information specified in the object, setting `dims` to: \u001b[1m(\u001b[0m\u001b[32m'c'\u001b[0m, \u001b[32m'y'\u001b[0m, \u001b[32m'x'\u001b[0m\u001b[1m)\u001b[0m                           \n",
      "\u001b[34mINFO    \u001b[0m no axes information specified in the object, setting `dims` to: \u001b[1m(\u001b[0m\u001b[32m'c'\u001b[0m, \u001b[32m'y'\u001b[0m, \u001b[32m'x'\u001b[0m\u001b[1m)\u001b[0m                           \n"
     ]
    }
   ],
   "source": [
    "images = {}\n",
    "for im_name in im_list:\n",
    "     \n",
    "    im_path = os.path.join(data_dir, im_name)\n",
    "    im = imread(im_path)\n",
    "    im = im[None]\n",
    "\n",
    "    images[im_name.replace('_Core_01.ome.tif','').replace('BRCAOS_020824_','').replace('.0.4_R000','')] = Image2DModel.parse(im, chunks = (1,1024,1024),scale_factors=[2,4])\n"
   ]
  },
  {
   "cell_type": "code",
   "execution_count": 6,
   "metadata": {},
   "outputs": [
    {
     "name": "stdout",
     "output_type": "stream",
     "text": [
      "\u001b[34mINFO    \u001b[0m no axes information specified in the object, setting `dims` to: \u001b[1m(\u001b[0m\u001b[32m'y'\u001b[0m, \u001b[32m'x'\u001b[0m\u001b[1m)\u001b[0m                                \n"
     ]
    }
   ],
   "source": [
    "labels_path = r'R:\\data_analysis\\Kasia\\BRCAOS_020824_Analysis\\Core_Storage\\Core 01\\Segmentation Storage\\test.tif'\n",
    "labels = imread(labels_path)\n",
    "labels_dict = {}\n",
    "labels_dict['test_labels']= Labels2DModel.parse(labels)\n"
   ]
  },
  {
   "cell_type": "code",
   "execution_count": 7,
   "metadata": {},
   "outputs": [],
   "source": [
    "sd = SpatialData(images=images, labels=labels_dict)"
   ]
  },
  {
   "cell_type": "code",
   "execution_count": 8,
   "metadata": {},
   "outputs": [
    {
     "data": {
      "text/plain": [
       "SpatialData object\n",
       "├── Images\n",
       "│     ├── '1_Cy3_ERa-AF555': MultiscaleSpatialImage[cyx] (1, 6911, 6775), (1, 3455, 3387), (1, 863, 846)\n",
       "│     ├── '1_Cy5_pRB-AF647': MultiscaleSpatialImage[cyx] (1, 6911, 6775), (1, 3455, 3387), (1, 863, 846)\n",
       "│     ├── '1_Cy7_p21-AF750': MultiscaleSpatialImage[cyx] (1, 6911, 6775), (1, 3455, 3387), (1, 863, 846)\n",
       "│     ├── '1_DAPI_': MultiscaleSpatialImage[cyx] (1, 6911, 6775), (1, 3455, 3387), (1, 863, 846)\n",
       "│     ├── '1_FITC_HER2-AF488': MultiscaleSpatialImage[cyx] (1, 6911, 6775), (1, 3455, 3387), (1, 863, 846)\n",
       "│     ├── '2_Cy3_pH2AX-AF555': MultiscaleSpatialImage[cyx] (1, 6911, 6775), (1, 3455, 3387), (1, 863, 846)\n",
       "│     ├── '2_Cy5_cycE1-AF647': MultiscaleSpatialImage[cyx] (1, 6911, 6775), (1, 3455, 3387), (1, 863, 846)\n",
       "│     ├── '2_Cy7_RB-AF750': MultiscaleSpatialImage[cyx] (1, 6911, 6775), (1, 3455, 3387), (1, 863, 846)\n",
       "│     ├── '2_DAPI_': MultiscaleSpatialImage[cyx] (1, 6911, 6775), (1, 3455, 3387), (1, 863, 846)\n",
       "│     ├── '2_FITC_cycE2-AF488': MultiscaleSpatialImage[cyx] (1, 6911, 6775), (1, 3455, 3387), (1, 863, 846)\n",
       "│     ├── '3_Cy3_cycD1-AF555': MultiscaleSpatialImage[cyx] (1, 6911, 6775), (1, 3455, 3387), (1, 863, 846)\n",
       "│     ├── '3_Cy5_Ki67-AF647': MultiscaleSpatialImage[cyx] (1, 6911, 6775), (1, 3455, 3387), (1, 863, 846)\n",
       "│     ├── '3_Cy7_ProgRc-AF750': MultiscaleSpatialImage[cyx] (1, 6911, 6775), (1, 3455, 3387), (1, 863, 846)\n",
       "│     ├── '3_DAPI_': MultiscaleSpatialImage[cyx] (1, 6911, 6775), (1, 3455, 3387), (1, 863, 846)\n",
       "│     ├── '3_FITC_CDC25C-AF488': MultiscaleSpatialImage[cyx] (1, 6911, 6775), (1, 3455, 3387), (1, 863, 846)\n",
       "│     ├── '4_Cy3_cycA2-AF555': MultiscaleSpatialImage[cyx] (1, 6911, 6775), (1, 3455, 3387), (1, 863, 846)\n",
       "│     ├── '4_Cy5_p53-AF647': MultiscaleSpatialImage[cyx] (1, 6911, 6775), (1, 3455, 3387), (1, 863, 846)\n",
       "│     ├── '4_Cy7_CDK2-AF750': MultiscaleSpatialImage[cyx] (1, 6911, 6775), (1, 3455, 3387), (1, 863, 846)\n",
       "│     ├── '4_DAPI_': MultiscaleSpatialImage[cyx] (1, 6911, 6775), (1, 3455, 3387), (1, 863, 846)\n",
       "│     ├── '4_FITC_ECad-AF488': MultiscaleSpatialImage[cyx] (1, 6911, 6775), (1, 3455, 3387), (1, 863, 846)\n",
       "│     ├── '5_Cy3_CycB1-AF555': MultiscaleSpatialImage[cyx] (1, 6911, 6775), (1, 3455, 3387), (1, 863, 846)\n",
       "│     ├── '5_Cy5_PCNA-AF647': MultiscaleSpatialImage[cyx] (1, 6911, 6775), (1, 3455, 3387), (1, 863, 846)\n",
       "│     ├── '5_Cy7_cycB2-AF750': MultiscaleSpatialImage[cyx] (1, 6911, 6775), (1, 3455, 3387), (1, 863, 846)\n",
       "│     ├── '5_DAPI_': MultiscaleSpatialImage[cyx] (1, 6911, 6775), (1, 3455, 3387), (1, 863, 846)\n",
       "│     ├── '5_FITC_Plk1-AF488': MultiscaleSpatialImage[cyx] (1, 6911, 6775), (1, 3455, 3387), (1, 863, 846)\n",
       "│     ├── '6_Cy3_bCat-AF555': MultiscaleSpatialImage[cyx] (1, 6911, 6775), (1, 3455, 3387), (1, 863, 846)\n",
       "│     ├── '6_Cy5_CDK6-AF647': MultiscaleSpatialImage[cyx] (1, 6911, 6775), (1, 3455, 3387), (1, 863, 846)\n",
       "│     ├── '6_Cy7_p27-AF750': MultiscaleSpatialImage[cyx] (1, 6911, 6775), (1, 3455, 3387), (1, 863, 846)\n",
       "│     ├── '6_DAPI_': MultiscaleSpatialImage[cyx] (1, 6911, 6775), (1, 3455, 3387), (1, 863, 846)\n",
       "│     ├── '6_FITC_p65-AF488': MultiscaleSpatialImage[cyx] (1, 6911, 6775), (1, 3455, 3387), (1, 863, 846)\n",
       "│     ├── '7_Cy3_ERa-AF555': MultiscaleSpatialImage[cyx] (1, 6911, 6775), (1, 3455, 3387), (1, 863, 846)\n",
       "│     ├── '7_Cy5_pRB-AF647': MultiscaleSpatialImage[cyx] (1, 6911, 6775), (1, 3455, 3387), (1, 863, 846)\n",
       "│     ├── '7_Cy7_p21-AF750': MultiscaleSpatialImage[cyx] (1, 6911, 6775), (1, 3455, 3387), (1, 863, 846)\n",
       "│     ├── '7_DAPI_': MultiscaleSpatialImage[cyx] (1, 6911, 6775), (1, 3455, 3387), (1, 863, 846)\n",
       "│     ├── '7_FITC_HER2-AF488': MultiscaleSpatialImage[cyx] (1, 6911, 6775), (1, 3455, 3387), (1, 863, 846)\n",
       "│     ├── '8_Cy3_cycA1-AF555': MultiscaleSpatialImage[cyx] (1, 6911, 6775), (1, 3455, 3387), (1, 863, 846)\n",
       "│     ├── '8_Cy5_CDT1-AF647': MultiscaleSpatialImage[cyx] (1, 6911, 6775), (1, 3455, 3387), (1, 863, 846)\n",
       "│     ├── '8_Cy7_cycD3-AF750': MultiscaleSpatialImage[cyx] (1, 6911, 6775), (1, 3455, 3387), (1, 863, 846)\n",
       "│     ├── '8_DAPI_': MultiscaleSpatialImage[cyx] (1, 6911, 6775), (1, 3455, 3387), (1, 863, 846)\n",
       "│     ├── '8_FITC_HES1-AF488': MultiscaleSpatialImage[cyx] (1, 6911, 6775), (1, 3455, 3387), (1, 863, 846)\n",
       "│     ├── '9_Cy3_wee1-AF555': MultiscaleSpatialImage[cyx] (1, 6911, 6775), (1, 3455, 3387), (1, 863, 846)\n",
       "│     ├── '9_Cy5_AurB-AF647': MultiscaleSpatialImage[cyx] (1, 6911, 6775), (1, 3455, 3387), (1, 863, 846)\n",
       "│     ├── '9_Cy7_E2F1-AF750': MultiscaleSpatialImage[cyx] (1, 6911, 6775), (1, 3455, 3387), (1, 863, 846)\n",
       "│     ├── '9_DAPI_': MultiscaleSpatialImage[cyx] (1, 6911, 6775), (1, 3455, 3387), (1, 863, 846)\n",
       "│     ├── '10_Cy3_pS6-AF555': MultiscaleSpatialImage[cyx] (1, 6911, 6775), (1, 3455, 3387), (1, 863, 846)\n",
       "│     ├── '10_Cy5_SKP2-AF647': MultiscaleSpatialImage[cyx] (1, 6911, 6775), (1, 3455, 3387), (1, 863, 846)\n",
       "│     ├── '10_Cy7_NaKATPase-AF750': MultiscaleSpatialImage[cyx] (1, 6911, 6775), (1, 3455, 3387), (1, 863, 846)\n",
       "│     ├── '10_DAPI_': MultiscaleSpatialImage[cyx] (1, 6911, 6775), (1, 3455, 3387), (1, 863, 846)\n",
       "│     ├── '11_Cy3_YAP1-AF555': MultiscaleSpatialImage[cyx] (1, 6911, 6775), (1, 3455, 3387), (1, 863, 846)\n",
       "│     ├── '11_Cy5_cMYC-AF647': MultiscaleSpatialImage[cyx] (1, 6911, 6775), (1, 3455, 3387), (1, 863, 846)\n",
       "│     ├── '11_Cy7_PH3-AF750': MultiscaleSpatialImage[cyx] (1, 6911, 6775), (1, 3455, 3387), (1, 863, 846)\n",
       "│     ├── '11_DAPI_': MultiscaleSpatialImage[cyx] (1, 6911, 6775), (1, 3455, 3387), (1, 863, 846)\n",
       "│     ├── '12_Cy5_p16-AF647': MultiscaleSpatialImage[cyx] (1, 6911, 6775), (1, 3455, 3387), (1, 863, 846)\n",
       "│     ├── '12_Cy7_CDK4-AF750': MultiscaleSpatialImage[cyx] (1, 6911, 6775), (1, 3455, 3387), (1, 863, 846)\n",
       "│     ├── '12_DAPI_': MultiscaleSpatialImage[cyx] (1, 6911, 6775), (1, 3455, 3387), (1, 863, 846)\n",
       "│     ├── '13_Cy5_pAKT-AF647': MultiscaleSpatialImage[cyx] (1, 6911, 6775), (1, 3455, 3387), (1, 863, 846)\n",
       "│     ├── '13_Cy7_p-p130-AF750': MultiscaleSpatialImage[cyx] (1, 6911, 6775), (1, 3455, 3387), (1, 863, 846)\n",
       "│     ├── '13_DAPI_': MultiscaleSpatialImage[cyx] (1, 6911, 6775), (1, 3455, 3387), (1, 863, 846)\n",
       "│     ├── '14_Cy3_p38-AF555': MultiscaleSpatialImage[cyx] (1, 6911, 6775), (1, 3455, 3387), (1, 863, 846)\n",
       "│     ├── '14_Cy5_pERK-AF647': MultiscaleSpatialImage[cyx] (1, 6911, 6775), (1, 3455, 3387), (1, 863, 846)\n",
       "│     ├── '14_Cy7_p-Cdc6-AF750': MultiscaleSpatialImage[cyx] (1, 6911, 6775), (1, 3455, 3387), (1, 863, 846)\n",
       "│     ├── '14_DAPI_': MultiscaleSpatialImage[cyx] (1, 6911, 6775), (1, 3455, 3387), (1, 863, 846)\n",
       "│     ├── '15_Cy3_SMA-Cy3': MultiscaleSpatialImage[cyx] (1, 6911, 6775), (1, 3455, 3387), (1, 863, 846)\n",
       "│     ├── '15_Cy5_EpCAM-AF647': MultiscaleSpatialImage[cyx] (1, 6911, 6775), (1, 3455, 3387), (1, 863, 846)\n",
       "│     ├── '15_Cy7_pCK26-AF750': MultiscaleSpatialImage[cyx] (1, 6911, 6775), (1, 3455, 3387), (1, 863, 846)\n",
       "│     ├── '15_DAPI_': MultiscaleSpatialImage[cyx] (1, 6911, 6775), (1, 3455, 3387), (1, 863, 846)\n",
       "│     └── '15_FITC_VIM-AF488': MultiscaleSpatialImage[cyx] (1, 6911, 6775), (1, 3455, 3387), (1, 863, 846)\n",
       "└── Labels\n",
       "      └── 'test_labels': SpatialImage[yx] (6911, 6775)\n",
       "with coordinate systems:\n",
       "    ▸ 'global', with elements:\n",
       "        1_Cy3_ERa-AF555 (Images), 1_Cy5_pRB-AF647 (Images), 1_Cy7_p21-AF750 (Images), 1_DAPI_ (Images), 1_FITC_HER2-AF488 (Images), 2_Cy3_pH2AX-AF555 (Images), 2_Cy5_cycE1-AF647 (Images), 2_Cy7_RB-AF750 (Images), 2_DAPI_ (Images), 2_FITC_cycE2-AF488 (Images), 3_Cy3_cycD1-AF555 (Images), 3_Cy5_Ki67-AF647 (Images), 3_Cy7_ProgRc-AF750 (Images), 3_DAPI_ (Images), 3_FITC_CDC25C-AF488 (Images), 4_Cy3_cycA2-AF555 (Images), 4_Cy5_p53-AF647 (Images), 4_Cy7_CDK2-AF750 (Images), 4_DAPI_ (Images), 4_FITC_ECad-AF488 (Images), 5_Cy3_CycB1-AF555 (Images), 5_Cy5_PCNA-AF647 (Images), 5_Cy7_cycB2-AF750 (Images), 5_DAPI_ (Images), 5_FITC_Plk1-AF488 (Images), 6_Cy3_bCat-AF555 (Images), 6_Cy5_CDK6-AF647 (Images), 6_Cy7_p27-AF750 (Images), 6_DAPI_ (Images), 6_FITC_p65-AF488 (Images), 7_Cy3_ERa-AF555 (Images), 7_Cy5_pRB-AF647 (Images), 7_Cy7_p21-AF750 (Images), 7_DAPI_ (Images), 7_FITC_HER2-AF488 (Images), 8_Cy3_cycA1-AF555 (Images), 8_Cy5_CDT1-AF647 (Images), 8_Cy7_cycD3-AF750 (Images), 8_DAPI_ (Images), 8_FITC_HES1-AF488 (Images), 9_Cy3_wee1-AF555 (Images), 9_Cy5_AurB-AF647 (Images), 9_Cy7_E2F1-AF750 (Images), 9_DAPI_ (Images), 10_Cy3_pS6-AF555 (Images), 10_Cy5_SKP2-AF647 (Images), 10_Cy7_NaKATPase-AF750 (Images), 10_DAPI_ (Images), 11_Cy3_YAP1-AF555 (Images), 11_Cy5_cMYC-AF647 (Images), 11_Cy7_PH3-AF750 (Images), 11_DAPI_ (Images), 12_Cy5_p16-AF647 (Images), 12_Cy7_CDK4-AF750 (Images), 12_DAPI_ (Images), 13_Cy5_pAKT-AF647 (Images), 13_Cy7_p-p130-AF750 (Images), 13_DAPI_ (Images), 14_Cy3_p38-AF555 (Images), 14_Cy5_pERK-AF647 (Images), 14_Cy7_p-Cdc6-AF750 (Images), 14_DAPI_ (Images), 15_Cy3_SMA-Cy3 (Images), 15_Cy5_EpCAM-AF647 (Images), 15_Cy7_pCK26-AF750 (Images), 15_DAPI_ (Images), 15_FITC_VIM-AF488 (Images), test_labels (Labels)"
      ]
     },
     "execution_count": 8,
     "metadata": {},
     "output_type": "execute_result"
    }
   ],
   "source": [
    "sd"
   ]
  },
  {
   "cell_type": "code",
   "execution_count": 13,
   "metadata": {},
   "outputs": [],
   "source": [
    "zarr_path = r'R:\\data_analysis\\Kasia\\BRCAOS_020824_Analysis\\sd_test.zarr'"
   ]
  },
  {
   "cell_type": "code",
   "execution_count": 10,
   "metadata": {},
   "outputs": [
    {
     "name": "stdout",
     "output_type": "stream",
     "text": [
      "\u001b[34mINFO    \u001b[0m The Zarr backing store has been changed from \u001b[3;35mNone\u001b[0m the new file path:                                      \n",
      "         R:\\data_analysis\\Kasia\\BRCAOS_020824_Analysis\\sd_test_no_table.zarr                                       \n"
     ]
    }
   ],
   "source": [
    "sd.write(zarr_path, overwrite=True)"
   ]
  },
  {
   "cell_type": "code",
   "execution_count": 11,
   "metadata": {},
   "outputs": [
    {
     "name": "stdout",
     "output_type": "stream",
     "text": [
      "SpatialData object, with associated Zarr store: \\\\share.files.pitt.edu\\HSIT-Stallaert-Lab\\data_analysis\\Kasia\\BRCAOS_020824_Analysis\\sd_test_no_table.zarr\n",
      "├── Images\n",
      "│     ├── '1_Cy3_ERa-AF555': MultiscaleSpatialImage[cyx] (1, 6911, 6775), (1, 3455, 3387), (1, 863, 846)\n",
      "│     ├── '1_Cy5_pRB-AF647': MultiscaleSpatialImage[cyx] (1, 6911, 6775), (1, 3455, 3387), (1, 863, 846)\n",
      "│     ├── '1_Cy7_p21-AF750': MultiscaleSpatialImage[cyx] (1, 6911, 6775), (1, 3455, 3387), (1, 863, 846)\n",
      "│     ├── '1_DAPI_': MultiscaleSpatialImage[cyx] (1, 6911, 6775), (1, 3455, 3387), (1, 863, 846)\n",
      "│     ├── '1_FITC_HER2-AF488': MultiscaleSpatialImage[cyx] (1, 6911, 6775), (1, 3455, 3387), (1, 863, 846)\n",
      "│     ├── '2_Cy3_pH2AX-AF555': MultiscaleSpatialImage[cyx] (1, 6911, 6775), (1, 3455, 3387), (1, 863, 846)\n",
      "│     ├── '2_Cy5_cycE1-AF647': MultiscaleSpatialImage[cyx] (1, 6911, 6775), (1, 3455, 3387), (1, 863, 846)\n",
      "│     ├── '2_Cy7_RB-AF750': MultiscaleSpatialImage[cyx] (1, 6911, 6775), (1, 3455, 3387), (1, 863, 846)\n",
      "│     ├── '2_DAPI_': MultiscaleSpatialImage[cyx] (1, 6911, 6775), (1, 3455, 3387), (1, 863, 846)\n",
      "│     ├── '2_FITC_cycE2-AF488': MultiscaleSpatialImage[cyx] (1, 6911, 6775), (1, 3455, 3387), (1, 863, 846)\n",
      "│     ├── '3_Cy3_cycD1-AF555': MultiscaleSpatialImage[cyx] (1, 6911, 6775), (1, 3455, 3387), (1, 863, 846)\n",
      "│     ├── '3_Cy5_Ki67-AF647': MultiscaleSpatialImage[cyx] (1, 6911, 6775), (1, 3455, 3387), (1, 863, 846)\n",
      "│     ├── '3_Cy7_ProgRc-AF750': MultiscaleSpatialImage[cyx] (1, 6911, 6775), (1, 3455, 3387), (1, 863, 846)\n",
      "│     ├── '3_DAPI_': MultiscaleSpatialImage[cyx] (1, 6911, 6775), (1, 3455, 3387), (1, 863, 846)\n",
      "│     ├── '3_FITC_CDC25C-AF488': MultiscaleSpatialImage[cyx] (1, 6911, 6775), (1, 3455, 3387), (1, 863, 846)\n",
      "│     ├── '4_Cy3_cycA2-AF555': MultiscaleSpatialImage[cyx] (1, 6911, 6775), (1, 3455, 3387), (1, 863, 846)\n",
      "│     ├── '4_Cy5_p53-AF647': MultiscaleSpatialImage[cyx] (1, 6911, 6775), (1, 3455, 3387), (1, 863, 846)\n",
      "│     ├── '4_Cy7_CDK2-AF750': MultiscaleSpatialImage[cyx] (1, 6911, 6775), (1, 3455, 3387), (1, 863, 846)\n",
      "│     ├── '4_DAPI_': MultiscaleSpatialImage[cyx] (1, 6911, 6775), (1, 3455, 3387), (1, 863, 846)\n",
      "│     ├── '4_FITC_ECad-AF488': MultiscaleSpatialImage[cyx] (1, 6911, 6775), (1, 3455, 3387), (1, 863, 846)\n",
      "│     ├── '5_Cy3_CycB1-AF555': MultiscaleSpatialImage[cyx] (1, 6911, 6775), (1, 3455, 3387), (1, 863, 846)\n",
      "│     ├── '5_Cy5_PCNA-AF647': MultiscaleSpatialImage[cyx] (1, 6911, 6775), (1, 3455, 3387), (1, 863, 846)\n",
      "│     ├── '5_Cy7_cycB2-AF750': MultiscaleSpatialImage[cyx] (1, 6911, 6775), (1, 3455, 3387), (1, 863, 846)\n",
      "│     ├── '5_DAPI_': MultiscaleSpatialImage[cyx] (1, 6911, 6775), (1, 3455, 3387), (1, 863, 846)\n",
      "│     ├── '5_FITC_Plk1-AF488': MultiscaleSpatialImage[cyx] (1, 6911, 6775), (1, 3455, 3387), (1, 863, 846)\n",
      "│     ├── '6_Cy3_bCat-AF555': MultiscaleSpatialImage[cyx] (1, 6911, 6775), (1, 3455, 3387), (1, 863, 846)\n",
      "│     ├── '6_Cy5_CDK6-AF647': MultiscaleSpatialImage[cyx] (1, 6911, 6775), (1, 3455, 3387), (1, 863, 846)\n",
      "│     ├── '6_Cy7_p27-AF750': MultiscaleSpatialImage[cyx] (1, 6911, 6775), (1, 3455, 3387), (1, 863, 846)\n",
      "│     ├── '6_DAPI_': MultiscaleSpatialImage[cyx] (1, 6911, 6775), (1, 3455, 3387), (1, 863, 846)\n",
      "│     ├── '6_FITC_p65-AF488': MultiscaleSpatialImage[cyx] (1, 6911, 6775), (1, 3455, 3387), (1, 863, 846)\n",
      "│     ├── '7_Cy3_ERa-AF555': MultiscaleSpatialImage[cyx] (1, 6911, 6775), (1, 3455, 3387), (1, 863, 846)\n",
      "│     ├── '7_Cy5_pRB-AF647': MultiscaleSpatialImage[cyx] (1, 6911, 6775), (1, 3455, 3387), (1, 863, 846)\n",
      "│     ├── '7_Cy7_p21-AF750': MultiscaleSpatialImage[cyx] (1, 6911, 6775), (1, 3455, 3387), (1, 863, 846)\n",
      "│     ├── '7_DAPI_': MultiscaleSpatialImage[cyx] (1, 6911, 6775), (1, 3455, 3387), (1, 863, 846)\n",
      "│     ├── '7_FITC_HER2-AF488': MultiscaleSpatialImage[cyx] (1, 6911, 6775), (1, 3455, 3387), (1, 863, 846)\n",
      "│     ├── '8_Cy3_cycA1-AF555': MultiscaleSpatialImage[cyx] (1, 6911, 6775), (1, 3455, 3387), (1, 863, 846)\n",
      "│     ├── '8_Cy5_CDT1-AF647': MultiscaleSpatialImage[cyx] (1, 6911, 6775), (1, 3455, 3387), (1, 863, 846)\n",
      "│     ├── '8_Cy7_cycD3-AF750': MultiscaleSpatialImage[cyx] (1, 6911, 6775), (1, 3455, 3387), (1, 863, 846)\n",
      "│     ├── '8_DAPI_': MultiscaleSpatialImage[cyx] (1, 6911, 6775), (1, 3455, 3387), (1, 863, 846)\n",
      "│     ├── '8_FITC_HES1-AF488': MultiscaleSpatialImage[cyx] (1, 6911, 6775), (1, 3455, 3387), (1, 863, 846)\n",
      "│     ├── '9_Cy3_wee1-AF555': MultiscaleSpatialImage[cyx] (1, 6911, 6775), (1, 3455, 3387), (1, 863, 846)\n",
      "│     ├── '9_Cy5_AurB-AF647': MultiscaleSpatialImage[cyx] (1, 6911, 6775), (1, 3455, 3387), (1, 863, 846)\n",
      "│     ├── '9_Cy7_E2F1-AF750': MultiscaleSpatialImage[cyx] (1, 6911, 6775), (1, 3455, 3387), (1, 863, 846)\n",
      "│     ├── '9_DAPI_': MultiscaleSpatialImage[cyx] (1, 6911, 6775), (1, 3455, 3387), (1, 863, 846)\n",
      "│     ├── '10_Cy3_pS6-AF555': MultiscaleSpatialImage[cyx] (1, 6911, 6775), (1, 3455, 3387), (1, 863, 846)\n",
      "│     ├── '10_Cy5_SKP2-AF647': MultiscaleSpatialImage[cyx] (1, 6911, 6775), (1, 3455, 3387), (1, 863, 846)\n",
      "│     ├── '10_Cy7_NaKATPase-AF750': MultiscaleSpatialImage[cyx] (1, 6911, 6775), (1, 3455, 3387), (1, 863, 846)\n",
      "│     ├── '10_DAPI_': MultiscaleSpatialImage[cyx] (1, 6911, 6775), (1, 3455, 3387), (1, 863, 846)\n",
      "│     ├── '11_Cy3_YAP1-AF555': MultiscaleSpatialImage[cyx] (1, 6911, 6775), (1, 3455, 3387), (1, 863, 846)\n",
      "│     ├── '11_Cy5_cMYC-AF647': MultiscaleSpatialImage[cyx] (1, 6911, 6775), (1, 3455, 3387), (1, 863, 846)\n",
      "│     ├── '11_Cy7_PH3-AF750': MultiscaleSpatialImage[cyx] (1, 6911, 6775), (1, 3455, 3387), (1, 863, 846)\n",
      "│     ├── '11_DAPI_': MultiscaleSpatialImage[cyx] (1, 6911, 6775), (1, 3455, 3387), (1, 863, 846)\n",
      "│     ├── '12_Cy5_p16-AF647': MultiscaleSpatialImage[cyx] (1, 6911, 6775), (1, 3455, 3387), (1, 863, 846)\n",
      "│     ├── '12_Cy7_CDK4-AF750': MultiscaleSpatialImage[cyx] (1, 6911, 6775), (1, 3455, 3387), (1, 863, 846)\n",
      "│     ├── '12_DAPI_': MultiscaleSpatialImage[cyx] (1, 6911, 6775), (1, 3455, 3387), (1, 863, 846)\n",
      "│     ├── '13_Cy5_pAKT-AF647': MultiscaleSpatialImage[cyx] (1, 6911, 6775), (1, 3455, 3387), (1, 863, 846)\n",
      "│     ├── '13_Cy7_p-p130-AF750': MultiscaleSpatialImage[cyx] (1, 6911, 6775), (1, 3455, 3387), (1, 863, 846)\n",
      "│     ├── '13_DAPI_': MultiscaleSpatialImage[cyx] (1, 6911, 6775), (1, 3455, 3387), (1, 863, 846)\n",
      "│     ├── '14_Cy3_p38-AF555': MultiscaleSpatialImage[cyx] (1, 6911, 6775), (1, 3455, 3387), (1, 863, 846)\n",
      "│     ├── '14_Cy5_pERK-AF647': MultiscaleSpatialImage[cyx] (1, 6911, 6775), (1, 3455, 3387), (1, 863, 846)\n",
      "│     ├── '14_Cy7_p-Cdc6-AF750': MultiscaleSpatialImage[cyx] (1, 6911, 6775), (1, 3455, 3387), (1, 863, 846)\n",
      "│     ├── '14_DAPI_': MultiscaleSpatialImage[cyx] (1, 6911, 6775), (1, 3455, 3387), (1, 863, 846)\n",
      "│     ├── '15_Cy3_SMA-Cy3': MultiscaleSpatialImage[cyx] (1, 6911, 6775), (1, 3455, 3387), (1, 863, 846)\n",
      "│     ├── '15_Cy5_EpCAM-AF647': MultiscaleSpatialImage[cyx] (1, 6911, 6775), (1, 3455, 3387), (1, 863, 846)\n",
      "│     ├── '15_Cy7_pCK26-AF750': MultiscaleSpatialImage[cyx] (1, 6911, 6775), (1, 3455, 3387), (1, 863, 846)\n",
      "│     ├── '15_DAPI_': MultiscaleSpatialImage[cyx] (1, 6911, 6775), (1, 3455, 3387), (1, 863, 846)\n",
      "│     └── '15_FITC_VIM-AF488': MultiscaleSpatialImage[cyx] (1, 6911, 6775), (1, 3455, 3387), (1, 863, 846)\n",
      "└── Labels\n",
      "      └── 'test_labels': SpatialImage[yx] (6911, 6775)\n",
      "with coordinate systems:\n",
      "    ▸ 'global', with elements:\n",
      "        1_Cy3_ERa-AF555 (Images), 1_Cy5_pRB-AF647 (Images), 1_Cy7_p21-AF750 (Images), 1_DAPI_ (Images), 1_FITC_HER2-AF488 (Images), 2_Cy3_pH2AX-AF555 (Images), 2_Cy5_cycE1-AF647 (Images), 2_Cy7_RB-AF750 (Images), 2_DAPI_ (Images), 2_FITC_cycE2-AF488 (Images), 3_Cy3_cycD1-AF555 (Images), 3_Cy5_Ki67-AF647 (Images), 3_Cy7_ProgRc-AF750 (Images), 3_DAPI_ (Images), 3_FITC_CDC25C-AF488 (Images), 4_Cy3_cycA2-AF555 (Images), 4_Cy5_p53-AF647 (Images), 4_Cy7_CDK2-AF750 (Images), 4_DAPI_ (Images), 4_FITC_ECad-AF488 (Images), 5_Cy3_CycB1-AF555 (Images), 5_Cy5_PCNA-AF647 (Images), 5_Cy7_cycB2-AF750 (Images), 5_DAPI_ (Images), 5_FITC_Plk1-AF488 (Images), 6_Cy3_bCat-AF555 (Images), 6_Cy5_CDK6-AF647 (Images), 6_Cy7_p27-AF750 (Images), 6_DAPI_ (Images), 6_FITC_p65-AF488 (Images), 7_Cy3_ERa-AF555 (Images), 7_Cy5_pRB-AF647 (Images), 7_Cy7_p21-AF750 (Images), 7_DAPI_ (Images), 7_FITC_HER2-AF488 (Images), 8_Cy3_cycA1-AF555 (Images), 8_Cy5_CDT1-AF647 (Images), 8_Cy7_cycD3-AF750 (Images), 8_DAPI_ (Images), 8_FITC_HES1-AF488 (Images), 9_Cy3_wee1-AF555 (Images), 9_Cy5_AurB-AF647 (Images), 9_Cy7_E2F1-AF750 (Images), 9_DAPI_ (Images), 10_Cy3_pS6-AF555 (Images), 10_Cy5_SKP2-AF647 (Images), 10_Cy7_NaKATPase-AF750 (Images), 10_DAPI_ (Images), 11_Cy3_YAP1-AF555 (Images), 11_Cy5_cMYC-AF647 (Images), 11_Cy7_PH3-AF750 (Images), 11_DAPI_ (Images), 12_Cy5_p16-AF647 (Images), 12_Cy7_CDK4-AF750 (Images), 12_DAPI_ (Images), 13_Cy5_pAKT-AF647 (Images), 13_Cy7_p-p130-AF750 (Images), 13_DAPI_ (Images), 14_Cy3_p38-AF555 (Images), 14_Cy5_pERK-AF647 (Images), 14_Cy7_p-Cdc6-AF750 (Images), 14_DAPI_ (Images), 15_Cy3_SMA-Cy3 (Images), 15_Cy5_EpCAM-AF647 (Images), 15_Cy7_pCK26-AF750 (Images), 15_DAPI_ (Images), 15_FITC_VIM-AF488 (Images), test_labels (Labels)\n"
     ]
    }
   ],
   "source": [
    "# read back spatial data from the drive\n",
    "\n",
    "sdata = read_zarr(zarr_path)\n",
    "print(sdata)"
   ]
  },
  {
   "cell_type": "markdown",
   "metadata": {},
   "source": [
    "### Add measurements to the spatial data"
   ]
  },
  {
   "cell_type": "code",
   "execution_count": 19,
   "metadata": {},
   "outputs": [],
   "source": [
    "from skimage.measure import regionprops_table\n",
    "import pandas as pd\n",
    "from anndata import AnnData\n",
    "from spatialdata.models import TableModel"
   ]
  },
  {
   "cell_type": "code",
   "execution_count": 15,
   "metadata": {},
   "outputs": [],
   "source": [
    "data = sdata.images['1_DAPI_']"
   ]
  },
  {
   "cell_type": "code",
   "execution_count": 16,
   "metadata": {},
   "outputs": [
    {
     "data": {
      "text/plain": [
       "array([[0, 0, 0, ..., 0, 0, 0],\n",
       "       [0, 0, 0, ..., 0, 0, 0],\n",
       "       [0, 0, 0, ..., 0, 0, 0],\n",
       "       ...,\n",
       "       [0, 0, 0, ..., 0, 0, 0],\n",
       "       [0, 0, 0, ..., 0, 0, 0],\n",
       "       [0, 0, 0, ..., 0, 0, 0]], dtype=uint32)"
      ]
     },
     "execution_count": 16,
     "metadata": {},
     "output_type": "execute_result"
    }
   ],
   "source": [
    "lab = sdata.labels['test_labels']\n",
    "lab_np = lab.to_numpy()\n",
    "lab_np"
   ]
  },
  {
   "cell_type": "code",
   "execution_count": 34,
   "metadata": {},
   "outputs": [
    {
     "data": {
      "text/html": [
       "<div>\n",
       "<style scoped>\n",
       "    .dataframe tbody tr th:only-of-type {\n",
       "        vertical-align: middle;\n",
       "    }\n",
       "\n",
       "    .dataframe tbody tr th {\n",
       "        vertical-align: top;\n",
       "    }\n",
       "\n",
       "    .dataframe thead th {\n",
       "        text-align: right;\n",
       "    }\n",
       "</style>\n",
       "<table border=\"1\" class=\"dataframe\">\n",
       "  <thead>\n",
       "    <tr style=\"text-align: right;\">\n",
       "      <th></th>\n",
       "      <th>label</th>\n",
       "      <th>area</th>\n",
       "      <th>centroid-0</th>\n",
       "      <th>centroid-1</th>\n",
       "      <th>mean_intensity</th>\n",
       "    </tr>\n",
       "  </thead>\n",
       "  <tbody>\n",
       "    <tr>\n",
       "      <th>0</th>\n",
       "      <td>1</td>\n",
       "      <td>1662.0</td>\n",
       "      <td>2135.356799</td>\n",
       "      <td>6437.839350</td>\n",
       "      <td>246.609507</td>\n",
       "    </tr>\n",
       "    <tr>\n",
       "      <th>1</th>\n",
       "      <td>2</td>\n",
       "      <td>578.0</td>\n",
       "      <td>2772.579585</td>\n",
       "      <td>1588.179931</td>\n",
       "      <td>4668.382353</td>\n",
       "    </tr>\n",
       "    <tr>\n",
       "      <th>2</th>\n",
       "      <td>3</td>\n",
       "      <td>636.0</td>\n",
       "      <td>2831.320755</td>\n",
       "      <td>1540.471698</td>\n",
       "      <td>5189.790881</td>\n",
       "    </tr>\n",
       "    <tr>\n",
       "      <th>3</th>\n",
       "      <td>4</td>\n",
       "      <td>701.0</td>\n",
       "      <td>2844.322397</td>\n",
       "      <td>1526.607703</td>\n",
       "      <td>6898.188302</td>\n",
       "    </tr>\n",
       "    <tr>\n",
       "      <th>4</th>\n",
       "      <td>5</td>\n",
       "      <td>203.0</td>\n",
       "      <td>2833.536946</td>\n",
       "      <td>1482.699507</td>\n",
       "      <td>6090.960591</td>\n",
       "    </tr>\n",
       "    <tr>\n",
       "      <th>...</th>\n",
       "      <td>...</td>\n",
       "      <td>...</td>\n",
       "      <td>...</td>\n",
       "      <td>...</td>\n",
       "      <td>...</td>\n",
       "    </tr>\n",
       "    <tr>\n",
       "      <th>3368</th>\n",
       "      <td>3369</td>\n",
       "      <td>686.0</td>\n",
       "      <td>6808.959184</td>\n",
       "      <td>1750.527697</td>\n",
       "      <td>7534.951895</td>\n",
       "    </tr>\n",
       "    <tr>\n",
       "      <th>3369</th>\n",
       "      <td>3370</td>\n",
       "      <td>651.0</td>\n",
       "      <td>6830.198157</td>\n",
       "      <td>1645.420891</td>\n",
       "      <td>8064.993856</td>\n",
       "    </tr>\n",
       "    <tr>\n",
       "      <th>3370</th>\n",
       "      <td>3371</td>\n",
       "      <td>518.0</td>\n",
       "      <td>6833.218147</td>\n",
       "      <td>1734.955598</td>\n",
       "      <td>8896.281853</td>\n",
       "    </tr>\n",
       "    <tr>\n",
       "      <th>3371</th>\n",
       "      <td>3372</td>\n",
       "      <td>712.0</td>\n",
       "      <td>6857.838483</td>\n",
       "      <td>1666.411517</td>\n",
       "      <td>5942.491573</td>\n",
       "    </tr>\n",
       "    <tr>\n",
       "      <th>3372</th>\n",
       "      <td>3373</td>\n",
       "      <td>144.0</td>\n",
       "      <td>6876.715278</td>\n",
       "      <td>1752.861111</td>\n",
       "      <td>4780.923611</td>\n",
       "    </tr>\n",
       "  </tbody>\n",
       "</table>\n",
       "<p>3373 rows × 5 columns</p>\n",
       "</div>"
      ],
      "text/plain": [
       "      label    area   centroid-0   centroid-1  mean_intensity\n",
       "0         1  1662.0  2135.356799  6437.839350      246.609507\n",
       "1         2   578.0  2772.579585  1588.179931     4668.382353\n",
       "2         3   636.0  2831.320755  1540.471698     5189.790881\n",
       "3         4   701.0  2844.322397  1526.607703     6898.188302\n",
       "4         5   203.0  2833.536946  1482.699507     6090.960591\n",
       "...     ...     ...          ...          ...             ...\n",
       "3368   3369   686.0  6808.959184  1750.527697     7534.951895\n",
       "3369   3370   651.0  6830.198157  1645.420891     8064.993856\n",
       "3370   3371   518.0  6833.218147  1734.955598     8896.281853\n",
       "3371   3372   712.0  6857.838483  1666.411517     5942.491573\n",
       "3372   3373   144.0  6876.715278  1752.861111     4780.923611\n",
       "\n",
       "[3373 rows x 5 columns]"
      ]
     },
     "execution_count": 34,
     "metadata": {},
     "output_type": "execute_result"
    }
   ],
   "source": [
    "df = pd.DataFrame(regionprops_table(lab_np,intensity_image=data.scale0.image.to_numpy()[0],properties=['label','area','centroid','mean_intensity']))\n",
    "df"
   ]
  },
  {
   "cell_type": "code",
   "execution_count": 39,
   "metadata": {},
   "outputs": [],
   "source": [
    "region_column = [\"test_labels\"] * len(df)\n",
    "instance_id_column = df.label.to_list()"
   ]
  },
  {
   "cell_type": "code",
   "execution_count": 40,
   "metadata": {},
   "outputs": [],
   "source": [
    "table = AnnData(\n",
    "    X=df.loc[:, [\"area\", \"centroid-0\", \"centroid-1\", \"mean_intensity\"]],\n",
    "    obs={\"region\": region_column, \"instance_id\": instance_id_column},\n",
    ")"
   ]
  },
  {
   "cell_type": "code",
   "execution_count": 42,
   "metadata": {},
   "outputs": [],
   "source": [
    "table = TableModel.parse(table, region='test_labels', region_key='region', instance_key='instance_id')"
   ]
  },
  {
   "cell_type": "code",
   "execution_count": 43,
   "metadata": {},
   "outputs": [
    {
     "data": {
      "text/plain": [
       "SpatialData object, with associated Zarr store: \\\\share.files.pitt.edu\\HSIT-Stallaert-Lab\\data_analysis\\Kasia\\BRCAOS_020824_Analysis\\sd_test_no_table.zarr\n",
       "├── Images\n",
       "│     ├── '1_Cy3_ERa-AF555': MultiscaleSpatialImage[cyx] (1, 6911, 6775), (1, 3455, 3387), (1, 863, 846)\n",
       "│     ├── '1_Cy5_pRB-AF647': MultiscaleSpatialImage[cyx] (1, 6911, 6775), (1, 3455, 3387), (1, 863, 846)\n",
       "│     ├── '1_Cy7_p21-AF750': MultiscaleSpatialImage[cyx] (1, 6911, 6775), (1, 3455, 3387), (1, 863, 846)\n",
       "│     ├── '1_DAPI_': MultiscaleSpatialImage[cyx] (1, 6911, 6775), (1, 3455, 3387), (1, 863, 846)\n",
       "│     ├── '1_FITC_HER2-AF488': MultiscaleSpatialImage[cyx] (1, 6911, 6775), (1, 3455, 3387), (1, 863, 846)\n",
       "│     ├── '2_Cy3_pH2AX-AF555': MultiscaleSpatialImage[cyx] (1, 6911, 6775), (1, 3455, 3387), (1, 863, 846)\n",
       "│     ├── '2_Cy5_cycE1-AF647': MultiscaleSpatialImage[cyx] (1, 6911, 6775), (1, 3455, 3387), (1, 863, 846)\n",
       "│     ├── '2_Cy7_RB-AF750': MultiscaleSpatialImage[cyx] (1, 6911, 6775), (1, 3455, 3387), (1, 863, 846)\n",
       "│     ├── '2_DAPI_': MultiscaleSpatialImage[cyx] (1, 6911, 6775), (1, 3455, 3387), (1, 863, 846)\n",
       "│     ├── '2_FITC_cycE2-AF488': MultiscaleSpatialImage[cyx] (1, 6911, 6775), (1, 3455, 3387), (1, 863, 846)\n",
       "│     ├── '3_Cy3_cycD1-AF555': MultiscaleSpatialImage[cyx] (1, 6911, 6775), (1, 3455, 3387), (1, 863, 846)\n",
       "│     ├── '3_Cy5_Ki67-AF647': MultiscaleSpatialImage[cyx] (1, 6911, 6775), (1, 3455, 3387), (1, 863, 846)\n",
       "│     ├── '3_Cy7_ProgRc-AF750': MultiscaleSpatialImage[cyx] (1, 6911, 6775), (1, 3455, 3387), (1, 863, 846)\n",
       "│     ├── '3_DAPI_': MultiscaleSpatialImage[cyx] (1, 6911, 6775), (1, 3455, 3387), (1, 863, 846)\n",
       "│     ├── '3_FITC_CDC25C-AF488': MultiscaleSpatialImage[cyx] (1, 6911, 6775), (1, 3455, 3387), (1, 863, 846)\n",
       "│     ├── '4_Cy3_cycA2-AF555': MultiscaleSpatialImage[cyx] (1, 6911, 6775), (1, 3455, 3387), (1, 863, 846)\n",
       "│     ├── '4_Cy5_p53-AF647': MultiscaleSpatialImage[cyx] (1, 6911, 6775), (1, 3455, 3387), (1, 863, 846)\n",
       "│     ├── '4_Cy7_CDK2-AF750': MultiscaleSpatialImage[cyx] (1, 6911, 6775), (1, 3455, 3387), (1, 863, 846)\n",
       "│     ├── '4_DAPI_': MultiscaleSpatialImage[cyx] (1, 6911, 6775), (1, 3455, 3387), (1, 863, 846)\n",
       "│     ├── '4_FITC_ECad-AF488': MultiscaleSpatialImage[cyx] (1, 6911, 6775), (1, 3455, 3387), (1, 863, 846)\n",
       "│     ├── '5_Cy3_CycB1-AF555': MultiscaleSpatialImage[cyx] (1, 6911, 6775), (1, 3455, 3387), (1, 863, 846)\n",
       "│     ├── '5_Cy5_PCNA-AF647': MultiscaleSpatialImage[cyx] (1, 6911, 6775), (1, 3455, 3387), (1, 863, 846)\n",
       "│     ├── '5_Cy7_cycB2-AF750': MultiscaleSpatialImage[cyx] (1, 6911, 6775), (1, 3455, 3387), (1, 863, 846)\n",
       "│     ├── '5_DAPI_': MultiscaleSpatialImage[cyx] (1, 6911, 6775), (1, 3455, 3387), (1, 863, 846)\n",
       "│     ├── '5_FITC_Plk1-AF488': MultiscaleSpatialImage[cyx] (1, 6911, 6775), (1, 3455, 3387), (1, 863, 846)\n",
       "│     ├── '6_Cy3_bCat-AF555': MultiscaleSpatialImage[cyx] (1, 6911, 6775), (1, 3455, 3387), (1, 863, 846)\n",
       "│     ├── '6_Cy5_CDK6-AF647': MultiscaleSpatialImage[cyx] (1, 6911, 6775), (1, 3455, 3387), (1, 863, 846)\n",
       "│     ├── '6_Cy7_p27-AF750': MultiscaleSpatialImage[cyx] (1, 6911, 6775), (1, 3455, 3387), (1, 863, 846)\n",
       "│     ├── '6_DAPI_': MultiscaleSpatialImage[cyx] (1, 6911, 6775), (1, 3455, 3387), (1, 863, 846)\n",
       "│     ├── '6_FITC_p65-AF488': MultiscaleSpatialImage[cyx] (1, 6911, 6775), (1, 3455, 3387), (1, 863, 846)\n",
       "│     ├── '7_Cy3_ERa-AF555': MultiscaleSpatialImage[cyx] (1, 6911, 6775), (1, 3455, 3387), (1, 863, 846)\n",
       "│     ├── '7_Cy5_pRB-AF647': MultiscaleSpatialImage[cyx] (1, 6911, 6775), (1, 3455, 3387), (1, 863, 846)\n",
       "│     ├── '7_Cy7_p21-AF750': MultiscaleSpatialImage[cyx] (1, 6911, 6775), (1, 3455, 3387), (1, 863, 846)\n",
       "│     ├── '7_DAPI_': MultiscaleSpatialImage[cyx] (1, 6911, 6775), (1, 3455, 3387), (1, 863, 846)\n",
       "│     ├── '7_FITC_HER2-AF488': MultiscaleSpatialImage[cyx] (1, 6911, 6775), (1, 3455, 3387), (1, 863, 846)\n",
       "│     ├── '8_Cy3_cycA1-AF555': MultiscaleSpatialImage[cyx] (1, 6911, 6775), (1, 3455, 3387), (1, 863, 846)\n",
       "│     ├── '8_Cy5_CDT1-AF647': MultiscaleSpatialImage[cyx] (1, 6911, 6775), (1, 3455, 3387), (1, 863, 846)\n",
       "│     ├── '8_Cy7_cycD3-AF750': MultiscaleSpatialImage[cyx] (1, 6911, 6775), (1, 3455, 3387), (1, 863, 846)\n",
       "│     ├── '8_DAPI_': MultiscaleSpatialImage[cyx] (1, 6911, 6775), (1, 3455, 3387), (1, 863, 846)\n",
       "│     ├── '8_FITC_HES1-AF488': MultiscaleSpatialImage[cyx] (1, 6911, 6775), (1, 3455, 3387), (1, 863, 846)\n",
       "│     ├── '9_Cy3_wee1-AF555': MultiscaleSpatialImage[cyx] (1, 6911, 6775), (1, 3455, 3387), (1, 863, 846)\n",
       "│     ├── '9_Cy5_AurB-AF647': MultiscaleSpatialImage[cyx] (1, 6911, 6775), (1, 3455, 3387), (1, 863, 846)\n",
       "│     ├── '9_Cy7_E2F1-AF750': MultiscaleSpatialImage[cyx] (1, 6911, 6775), (1, 3455, 3387), (1, 863, 846)\n",
       "│     ├── '9_DAPI_': MultiscaleSpatialImage[cyx] (1, 6911, 6775), (1, 3455, 3387), (1, 863, 846)\n",
       "│     ├── '10_Cy3_pS6-AF555': MultiscaleSpatialImage[cyx] (1, 6911, 6775), (1, 3455, 3387), (1, 863, 846)\n",
       "│     ├── '10_Cy5_SKP2-AF647': MultiscaleSpatialImage[cyx] (1, 6911, 6775), (1, 3455, 3387), (1, 863, 846)\n",
       "│     ├── '10_Cy7_NaKATPase-AF750': MultiscaleSpatialImage[cyx] (1, 6911, 6775), (1, 3455, 3387), (1, 863, 846)\n",
       "│     ├── '10_DAPI_': MultiscaleSpatialImage[cyx] (1, 6911, 6775), (1, 3455, 3387), (1, 863, 846)\n",
       "│     ├── '11_Cy3_YAP1-AF555': MultiscaleSpatialImage[cyx] (1, 6911, 6775), (1, 3455, 3387), (1, 863, 846)\n",
       "│     ├── '11_Cy5_cMYC-AF647': MultiscaleSpatialImage[cyx] (1, 6911, 6775), (1, 3455, 3387), (1, 863, 846)\n",
       "│     ├── '11_Cy7_PH3-AF750': MultiscaleSpatialImage[cyx] (1, 6911, 6775), (1, 3455, 3387), (1, 863, 846)\n",
       "│     ├── '11_DAPI_': MultiscaleSpatialImage[cyx] (1, 6911, 6775), (1, 3455, 3387), (1, 863, 846)\n",
       "│     ├── '12_Cy5_p16-AF647': MultiscaleSpatialImage[cyx] (1, 6911, 6775), (1, 3455, 3387), (1, 863, 846)\n",
       "│     ├── '12_Cy7_CDK4-AF750': MultiscaleSpatialImage[cyx] (1, 6911, 6775), (1, 3455, 3387), (1, 863, 846)\n",
       "│     ├── '12_DAPI_': MultiscaleSpatialImage[cyx] (1, 6911, 6775), (1, 3455, 3387), (1, 863, 846)\n",
       "│     ├── '13_Cy5_pAKT-AF647': MultiscaleSpatialImage[cyx] (1, 6911, 6775), (1, 3455, 3387), (1, 863, 846)\n",
       "│     ├── '13_Cy7_p-p130-AF750': MultiscaleSpatialImage[cyx] (1, 6911, 6775), (1, 3455, 3387), (1, 863, 846)\n",
       "│     ├── '13_DAPI_': MultiscaleSpatialImage[cyx] (1, 6911, 6775), (1, 3455, 3387), (1, 863, 846)\n",
       "│     ├── '14_Cy3_p38-AF555': MultiscaleSpatialImage[cyx] (1, 6911, 6775), (1, 3455, 3387), (1, 863, 846)\n",
       "│     ├── '14_Cy5_pERK-AF647': MultiscaleSpatialImage[cyx] (1, 6911, 6775), (1, 3455, 3387), (1, 863, 846)\n",
       "│     ├── '14_Cy7_p-Cdc6-AF750': MultiscaleSpatialImage[cyx] (1, 6911, 6775), (1, 3455, 3387), (1, 863, 846)\n",
       "│     ├── '14_DAPI_': MultiscaleSpatialImage[cyx] (1, 6911, 6775), (1, 3455, 3387), (1, 863, 846)\n",
       "│     ├── '15_Cy3_SMA-Cy3': MultiscaleSpatialImage[cyx] (1, 6911, 6775), (1, 3455, 3387), (1, 863, 846)\n",
       "│     ├── '15_Cy5_EpCAM-AF647': MultiscaleSpatialImage[cyx] (1, 6911, 6775), (1, 3455, 3387), (1, 863, 846)\n",
       "│     ├── '15_Cy7_pCK26-AF750': MultiscaleSpatialImage[cyx] (1, 6911, 6775), (1, 3455, 3387), (1, 863, 846)\n",
       "│     ├── '15_DAPI_': MultiscaleSpatialImage[cyx] (1, 6911, 6775), (1, 3455, 3387), (1, 863, 846)\n",
       "│     └── '15_FITC_VIM-AF488': MultiscaleSpatialImage[cyx] (1, 6911, 6775), (1, 3455, 3387), (1, 863, 846)\n",
       "├── Labels\n",
       "│     └── 'test_labels': SpatialImage[yx] (6911, 6775)\n",
       "└── Tables\n",
       "      └── 'test_table': AnnData (3373, 4)\n",
       "with coordinate systems:\n",
       "    ▸ 'global', with elements:\n",
       "        1_Cy3_ERa-AF555 (Images), 1_Cy5_pRB-AF647 (Images), 1_Cy7_p21-AF750 (Images), 1_DAPI_ (Images), 1_FITC_HER2-AF488 (Images), 2_Cy3_pH2AX-AF555 (Images), 2_Cy5_cycE1-AF647 (Images), 2_Cy7_RB-AF750 (Images), 2_DAPI_ (Images), 2_FITC_cycE2-AF488 (Images), 3_Cy3_cycD1-AF555 (Images), 3_Cy5_Ki67-AF647 (Images), 3_Cy7_ProgRc-AF750 (Images), 3_DAPI_ (Images), 3_FITC_CDC25C-AF488 (Images), 4_Cy3_cycA2-AF555 (Images), 4_Cy5_p53-AF647 (Images), 4_Cy7_CDK2-AF750 (Images), 4_DAPI_ (Images), 4_FITC_ECad-AF488 (Images), 5_Cy3_CycB1-AF555 (Images), 5_Cy5_PCNA-AF647 (Images), 5_Cy7_cycB2-AF750 (Images), 5_DAPI_ (Images), 5_FITC_Plk1-AF488 (Images), 6_Cy3_bCat-AF555 (Images), 6_Cy5_CDK6-AF647 (Images), 6_Cy7_p27-AF750 (Images), 6_DAPI_ (Images), 6_FITC_p65-AF488 (Images), 7_Cy3_ERa-AF555 (Images), 7_Cy5_pRB-AF647 (Images), 7_Cy7_p21-AF750 (Images), 7_DAPI_ (Images), 7_FITC_HER2-AF488 (Images), 8_Cy3_cycA1-AF555 (Images), 8_Cy5_CDT1-AF647 (Images), 8_Cy7_cycD3-AF750 (Images), 8_DAPI_ (Images), 8_FITC_HES1-AF488 (Images), 9_Cy3_wee1-AF555 (Images), 9_Cy5_AurB-AF647 (Images), 9_Cy7_E2F1-AF750 (Images), 9_DAPI_ (Images), 10_Cy3_pS6-AF555 (Images), 10_Cy5_SKP2-AF647 (Images), 10_Cy7_NaKATPase-AF750 (Images), 10_DAPI_ (Images), 11_Cy3_YAP1-AF555 (Images), 11_Cy5_cMYC-AF647 (Images), 11_Cy7_PH3-AF750 (Images), 11_DAPI_ (Images), 12_Cy5_p16-AF647 (Images), 12_Cy7_CDK4-AF750 (Images), 12_DAPI_ (Images), 13_Cy5_pAKT-AF647 (Images), 13_Cy7_p-p130-AF750 (Images), 13_DAPI_ (Images), 14_Cy3_p38-AF555 (Images), 14_Cy5_pERK-AF647 (Images), 14_Cy7_p-Cdc6-AF750 (Images), 14_DAPI_ (Images), 15_Cy3_SMA-Cy3 (Images), 15_Cy5_EpCAM-AF647 (Images), 15_Cy7_pCK26-AF750 (Images), 15_DAPI_ (Images), 15_FITC_VIM-AF488 (Images), test_labels (Labels)\n",
       "with the following elements not in the Zarr store:\n",
       "    ▸ test_table (Tables)"
      ]
     },
     "execution_count": 43,
     "metadata": {},
     "output_type": "execute_result"
    }
   ],
   "source": [
    "# add the table to the spatial data object\n",
    "sdata.tables = {'test_table':table}\n",
    "sdata"
   ]
  },
  {
   "cell_type": "code",
   "execution_count": 28,
   "metadata": {},
   "outputs": [],
   "source": [
    "# add the table to the zarr file\n",
    "sdata.write_element('test_table')"
   ]
  },
  {
   "cell_type": "code",
   "execution_count": 45,
   "metadata": {},
   "outputs": [
    {
     "name": "stdout",
     "output_type": "stream",
     "text": [
      "\u001b[34mINFO    \u001b[0m The SpatialData object is not self-contained \u001b[1m(\u001b[0mi.e. it contains some elements that are Dask-backed from    \n",
      "         locations outside R:\\data_analysis\\Kasia\\BRCAOS_020824_Analysis\\sd_test.zarr\u001b[1m)\u001b[0m. Please see the             \n",
      "         documentation of `\u001b[1;35mis_self_contained\u001b[0m\u001b[1m(\u001b[0m\u001b[1m)\u001b[0m` to understand the implications of working with SpatialData objects \n",
      "         that are not self-contained.                                                                              \n",
      "\u001b[34mINFO    \u001b[0m The Zarr backing store has been changed from                                                              \n",
      "         R:\\data_analysis\\Kasia\\BRCAOS_020824_Analysis\\sd_test_no_table.zarr the new file path:                    \n",
      "         R:\\data_analysis\\Kasia\\BRCAOS_020824_Analysis\\sd_test.zarr                                                \n"
     ]
    }
   ],
   "source": [
    "sdata.write(zarr_path, overwrite=True)"
   ]
  },
  {
   "cell_type": "code",
   "execution_count": null,
   "metadata": {},
   "outputs": [],
   "source": []
  }
 ],
 "metadata": {
  "kernelspec": {
   "display_name": "napari-env",
   "language": "python",
   "name": "python3"
  },
  "language_info": {
   "codemirror_mode": {
    "name": "ipython",
    "version": 3
   },
   "file_extension": ".py",
   "mimetype": "text/x-python",
   "name": "python",
   "nbconvert_exporter": "python",
   "pygments_lexer": "ipython3",
   "version": "3.10.14"
  }
 },
 "nbformat": 4,
 "nbformat_minor": 2
}
