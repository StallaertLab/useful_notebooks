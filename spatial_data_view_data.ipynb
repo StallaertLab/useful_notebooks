{
 "cells": [
  {
   "cell_type": "code",
   "execution_count": 1,
   "metadata": {},
   "outputs": [],
   "source": [
    "import os\n",
    "from spatialdata import SpatialData, read_zarr\n",
    "from tifffile import imread\n",
    "from spatialdata.models import Image2DModel, Labels2DModel, TableModel"
   ]
  },
  {
   "cell_type": "code",
   "execution_count": 2,
   "metadata": {},
   "outputs": [],
   "source": [
    "zarr_path = r'R:\\data_analysis\\Kasia\\BRCAOS_020824_Analysis\\sd_test.zarr'"
   ]
  },
  {
   "cell_type": "code",
   "execution_count": 3,
   "metadata": {},
   "outputs": [
    {
     "name": "stdout",
     "output_type": "stream",
     "text": [
      "SpatialData object with:\n",
      "├── Images\n",
      "│     ├── '1_Cy3_ERa-AF555': MultiscaleSpatialImage[cyx] (1, 6911, 6775), (1, 3455, 3387), (1, 863, 846)\n",
      "│     ├── '1_Cy5_pRB-AF647': MultiscaleSpatialImage[cyx] (1, 6911, 6775), (1, 3455, 3387), (1, 863, 846)\n",
      "│     ├── '1_Cy7_p21-AF750': MultiscaleSpatialImage[cyx] (1, 6911, 6775), (1, 3455, 3387), (1, 863, 846)\n",
      "│     ├── '1_DAPI_': MultiscaleSpatialImage[cyx] (1, 6911, 6775), (1, 3455, 3387), (1, 863, 846)\n",
      "│     ├── '1_FITC_HER2-AF488': MultiscaleSpatialImage[cyx] (1, 6911, 6775), (1, 3455, 3387), (1, 863, 846)\n",
      "│     ├── '2_Cy3_pH2AX-AF555': MultiscaleSpatialImage[cyx] (1, 6911, 6775), (1, 3455, 3387), (1, 863, 846)\n",
      "│     ├── '2_Cy5_cycE1-AF647': MultiscaleSpatialImage[cyx] (1, 6911, 6775), (1, 3455, 3387), (1, 863, 846)\n",
      "│     ├── '2_Cy7_RB-AF750': MultiscaleSpatialImage[cyx] (1, 6911, 6775), (1, 3455, 3387), (1, 863, 846)\n",
      "│     ├── '2_DAPI_': MultiscaleSpatialImage[cyx] (1, 6911, 6775), (1, 3455, 3387), (1, 863, 846)\n",
      "│     ├── '2_FITC_cycE2-AF488': MultiscaleSpatialImage[cyx] (1, 6911, 6775), (1, 3455, 3387), (1, 863, 846)\n",
      "│     ├── '3_Cy3_cycD1-AF555': MultiscaleSpatialImage[cyx] (1, 6911, 6775), (1, 3455, 3387), (1, 863, 846)\n",
      "│     ├── '3_Cy5_Ki67-AF647': MultiscaleSpatialImage[cyx] (1, 6911, 6775), (1, 3455, 3387), (1, 863, 846)\n",
      "│     ├── '3_Cy7_ProgRc-AF750': MultiscaleSpatialImage[cyx] (1, 6911, 6775), (1, 3455, 3387), (1, 863, 846)\n",
      "│     ├── '3_DAPI_': MultiscaleSpatialImage[cyx] (1, 6911, 6775), (1, 3455, 3387), (1, 863, 846)\n",
      "│     ├── '3_FITC_CDC25C-AF488': MultiscaleSpatialImage[cyx] (1, 6911, 6775), (1, 3455, 3387), (1, 863, 846)\n",
      "│     ├── '4_Cy3_cycA2-AF555': MultiscaleSpatialImage[cyx] (1, 6911, 6775), (1, 3455, 3387), (1, 863, 846)\n",
      "│     ├── '4_Cy5_p53-AF647': MultiscaleSpatialImage[cyx] (1, 6911, 6775), (1, 3455, 3387), (1, 863, 846)\n",
      "│     ├── '4_Cy7_CDK2-AF750': MultiscaleSpatialImage[cyx] (1, 6911, 6775), (1, 3455, 3387), (1, 863, 846)\n",
      "│     ├── '4_DAPI_': MultiscaleSpatialImage[cyx] (1, 6911, 6775), (1, 3455, 3387), (1, 863, 846)\n",
      "│     ├── '4_FITC_ECad-AF488': MultiscaleSpatialImage[cyx] (1, 6911, 6775), (1, 3455, 3387), (1, 863, 846)\n",
      "│     ├── '5_Cy3_CycB1-AF555': MultiscaleSpatialImage[cyx] (1, 6911, 6775), (1, 3455, 3387), (1, 863, 846)\n",
      "│     ├── '5_Cy5_PCNA-AF647': MultiscaleSpatialImage[cyx] (1, 6911, 6775), (1, 3455, 3387), (1, 863, 846)\n",
      "│     ├── '5_Cy7_cycB2-AF750': MultiscaleSpatialImage[cyx] (1, 6911, 6775), (1, 3455, 3387), (1, 863, 846)\n",
      "│     ├── '5_DAPI_': MultiscaleSpatialImage[cyx] (1, 6911, 6775), (1, 3455, 3387), (1, 863, 846)\n",
      "│     ├── '5_FITC_Plk1-AF488': MultiscaleSpatialImage[cyx] (1, 6911, 6775), (1, 3455, 3387), (1, 863, 846)\n",
      "│     ├── '6_Cy3_bCat-AF555': MultiscaleSpatialImage[cyx] (1, 6911, 6775), (1, 3455, 3387), (1, 863, 846)\n",
      "│     ├── '6_Cy5_CDK6-AF647': MultiscaleSpatialImage[cyx] (1, 6911, 6775), (1, 3455, 3387), (1, 863, 846)\n",
      "│     ├── '6_Cy7_p27-AF750': MultiscaleSpatialImage[cyx] (1, 6911, 6775), (1, 3455, 3387), (1, 863, 846)\n",
      "│     ├── '6_DAPI_': MultiscaleSpatialImage[cyx] (1, 6911, 6775), (1, 3455, 3387), (1, 863, 846)\n",
      "│     ├── '6_FITC_p65-AF488': MultiscaleSpatialImage[cyx] (1, 6911, 6775), (1, 3455, 3387), (1, 863, 846)\n",
      "│     ├── '7_Cy3_ERa-AF555': MultiscaleSpatialImage[cyx] (1, 6911, 6775), (1, 3455, 3387), (1, 863, 846)\n",
      "│     ├── '7_Cy5_pRB-AF647': MultiscaleSpatialImage[cyx] (1, 6911, 6775), (1, 3455, 3387), (1, 863, 846)\n",
      "│     ├── '7_Cy7_p21-AF750': MultiscaleSpatialImage[cyx] (1, 6911, 6775), (1, 3455, 3387), (1, 863, 846)\n",
      "│     ├── '7_DAPI_': MultiscaleSpatialImage[cyx] (1, 6911, 6775), (1, 3455, 3387), (1, 863, 846)\n",
      "│     ├── '7_FITC_HER2-AF488': MultiscaleSpatialImage[cyx] (1, 6911, 6775), (1, 3455, 3387), (1, 863, 846)\n",
      "│     ├── '8_Cy3_cycA1-AF555': MultiscaleSpatialImage[cyx] (1, 6911, 6775), (1, 3455, 3387), (1, 863, 846)\n",
      "│     ├── '8_Cy5_CDT1-AF647': MultiscaleSpatialImage[cyx] (1, 6911, 6775), (1, 3455, 3387), (1, 863, 846)\n",
      "│     ├── '8_Cy7_cycD3-AF750': MultiscaleSpatialImage[cyx] (1, 6911, 6775), (1, 3455, 3387), (1, 863, 846)\n",
      "│     ├── '8_DAPI_': MultiscaleSpatialImage[cyx] (1, 6911, 6775), (1, 3455, 3387), (1, 863, 846)\n",
      "│     ├── '8_FITC_HES1-AF488': MultiscaleSpatialImage[cyx] (1, 6911, 6775), (1, 3455, 3387), (1, 863, 846)\n",
      "│     ├── '9_Cy3_wee1-AF555': MultiscaleSpatialImage[cyx] (1, 6911, 6775), (1, 3455, 3387), (1, 863, 846)\n",
      "│     ├── '9_Cy5_AurB-AF647': MultiscaleSpatialImage[cyx] (1, 6911, 6775), (1, 3455, 3387), (1, 863, 846)\n",
      "│     ├── '9_Cy7_E2F1-AF750': MultiscaleSpatialImage[cyx] (1, 6911, 6775), (1, 3455, 3387), (1, 863, 846)\n",
      "│     ├── '9_DAPI_': MultiscaleSpatialImage[cyx] (1, 6911, 6775), (1, 3455, 3387), (1, 863, 846)\n",
      "│     ├── '10_Cy3_pS6-AF555': MultiscaleSpatialImage[cyx] (1, 6911, 6775), (1, 3455, 3387), (1, 863, 846)\n",
      "│     ├── '10_Cy5_SKP2-AF647': MultiscaleSpatialImage[cyx] (1, 6911, 6775), (1, 3455, 3387), (1, 863, 846)\n",
      "│     ├── '10_Cy7_NaKATPase-AF750': MultiscaleSpatialImage[cyx] (1, 6911, 6775), (1, 3455, 3387), (1, 863, 846)\n",
      "│     ├── '10_DAPI_': MultiscaleSpatialImage[cyx] (1, 6911, 6775), (1, 3455, 3387), (1, 863, 846)\n",
      "│     ├── '11_Cy3_YAP1-AF555': MultiscaleSpatialImage[cyx] (1, 6911, 6775), (1, 3455, 3387), (1, 863, 846)\n",
      "│     ├── '11_Cy5_cMYC-AF647': MultiscaleSpatialImage[cyx] (1, 6911, 6775), (1, 3455, 3387), (1, 863, 846)\n",
      "│     ├── '11_Cy7_PH3-AF750': MultiscaleSpatialImage[cyx] (1, 6911, 6775), (1, 3455, 3387), (1, 863, 846)\n",
      "│     ├── '11_DAPI_': MultiscaleSpatialImage[cyx] (1, 6911, 6775), (1, 3455, 3387), (1, 863, 846)\n",
      "│     ├── '12_Cy5_p16-AF647': MultiscaleSpatialImage[cyx] (1, 6911, 6775), (1, 3455, 3387), (1, 863, 846)\n",
      "│     ├── '12_Cy7_CDK4-AF750': MultiscaleSpatialImage[cyx] (1, 6911, 6775), (1, 3455, 3387), (1, 863, 846)\n",
      "│     ├── '12_DAPI_': MultiscaleSpatialImage[cyx] (1, 6911, 6775), (1, 3455, 3387), (1, 863, 846)\n",
      "│     ├── '13_Cy5_pAKT-AF647': MultiscaleSpatialImage[cyx] (1, 6911, 6775), (1, 3455, 3387), (1, 863, 846)\n",
      "│     ├── '13_Cy7_p-p130-AF750': MultiscaleSpatialImage[cyx] (1, 6911, 6775), (1, 3455, 3387), (1, 863, 846)\n",
      "│     ├── '13_DAPI_': MultiscaleSpatialImage[cyx] (1, 6911, 6775), (1, 3455, 3387), (1, 863, 846)\n",
      "│     ├── '14_Cy3_p38-AF555': MultiscaleSpatialImage[cyx] (1, 6911, 6775), (1, 3455, 3387), (1, 863, 846)\n",
      "│     ├── '14_Cy5_pERK-AF647': MultiscaleSpatialImage[cyx] (1, 6911, 6775), (1, 3455, 3387), (1, 863, 846)\n",
      "│     ├── '14_Cy7_p-Cdc6-AF750': MultiscaleSpatialImage[cyx] (1, 6911, 6775), (1, 3455, 3387), (1, 863, 846)\n",
      "│     ├── '14_DAPI_': MultiscaleSpatialImage[cyx] (1, 6911, 6775), (1, 3455, 3387), (1, 863, 846)\n",
      "│     ├── '15_Cy3_SMA-Cy3': MultiscaleSpatialImage[cyx] (1, 6911, 6775), (1, 3455, 3387), (1, 863, 846)\n",
      "│     ├── '15_Cy5_EpCAM-AF647': MultiscaleSpatialImage[cyx] (1, 6911, 6775), (1, 3455, 3387), (1, 863, 846)\n",
      "│     ├── '15_Cy7_pCK26-AF750': MultiscaleSpatialImage[cyx] (1, 6911, 6775), (1, 3455, 3387), (1, 863, 846)\n",
      "│     ├── '15_DAPI_': MultiscaleSpatialImage[cyx] (1, 6911, 6775), (1, 3455, 3387), (1, 863, 846)\n",
      "│     └── '15_FITC_VIM-AF488': MultiscaleSpatialImage[cyx] (1, 6911, 6775), (1, 3455, 3387), (1, 863, 846)\n",
      "├── Labels\n",
      "│     └── 'test_labels': SpatialImage[yx] (6911, 6775)\n",
      "└── Tables\n",
      "      └── 'test_table': AnnData (3373, 4)\n",
      "with coordinate systems:\n",
      "▸ 'global', with elements:\n",
      "        1_Cy3_ERa-AF555 (Images), 1_Cy5_pRB-AF647 (Images), 1_Cy7_p21-AF750 (Images), 1_DAPI_ (Images), 1_FITC_HER2-AF488 (Images), 2_Cy3_pH2AX-AF555 (Images), 2_Cy5_cycE1-AF647 (Images), 2_Cy7_RB-AF750 (Images), 2_DAPI_ (Images), 2_FITC_cycE2-AF488 (Images), 3_Cy3_cycD1-AF555 (Images), 3_Cy5_Ki67-AF647 (Images), 3_Cy7_ProgRc-AF750 (Images), 3_DAPI_ (Images), 3_FITC_CDC25C-AF488 (Images), 4_Cy3_cycA2-AF555 (Images), 4_Cy5_p53-AF647 (Images), 4_Cy7_CDK2-AF750 (Images), 4_DAPI_ (Images), 4_FITC_ECad-AF488 (Images), 5_Cy3_CycB1-AF555 (Images), 5_Cy5_PCNA-AF647 (Images), 5_Cy7_cycB2-AF750 (Images), 5_DAPI_ (Images), 5_FITC_Plk1-AF488 (Images), 6_Cy3_bCat-AF555 (Images), 6_Cy5_CDK6-AF647 (Images), 6_Cy7_p27-AF750 (Images), 6_DAPI_ (Images), 6_FITC_p65-AF488 (Images), 7_Cy3_ERa-AF555 (Images), 7_Cy5_pRB-AF647 (Images), 7_Cy7_p21-AF750 (Images), 7_DAPI_ (Images), 7_FITC_HER2-AF488 (Images), 8_Cy3_cycA1-AF555 (Images), 8_Cy5_CDT1-AF647 (Images), 8_Cy7_cycD3-AF750 (Images), 8_DAPI_ (Images), 8_FITC_HES1-AF488 (Images), 9_Cy3_wee1-AF555 (Images), 9_Cy5_AurB-AF647 (Images), 9_Cy7_E2F1-AF750 (Images), 9_DAPI_ (Images), 10_Cy3_pS6-AF555 (Images), 10_Cy5_SKP2-AF647 (Images), 10_Cy7_NaKATPase-AF750 (Images), 10_DAPI_ (Images), 11_Cy3_YAP1-AF555 (Images), 11_Cy5_cMYC-AF647 (Images), 11_Cy7_PH3-AF750 (Images), 11_DAPI_ (Images), 12_Cy5_p16-AF647 (Images), 12_Cy7_CDK4-AF750 (Images), 12_DAPI_ (Images), 13_Cy5_pAKT-AF647 (Images), 13_Cy7_p-p130-AF750 (Images), 13_DAPI_ (Images), 14_Cy3_p38-AF555 (Images), 14_Cy5_pERK-AF647 (Images), 14_Cy7_p-Cdc6-AF750 (Images), 14_DAPI_ (Images), 15_Cy3_SMA-Cy3 (Images), 15_Cy5_EpCAM-AF647 (Images), 15_Cy7_pCK26-AF750 (Images), 15_DAPI_ (Images), 15_FITC_VIM-AF488 (Images), test_labels (Labels)\n"
     ]
    }
   ],
   "source": [
    "sdata = read_zarr(zarr_path)\n",
    "print(sdata)"
   ]
  },
  {
   "cell_type": "code",
   "execution_count": null,
   "metadata": {},
   "outputs": [
    {
     "name": "stderr",
     "output_type": "stream",
     "text": [
      "\u001b[32m2024-05-21 15:34:18.185\u001b[0m | \u001b[1mINFO    \u001b[0m | \u001b[36mnapari_spatialdata._scatterwidgets\u001b[0m:\u001b[36mplot\u001b[0m:\u001b[36m258\u001b[0m - \u001b[1mPlotting coordinates.\u001b[0m\n",
      "\u001b[32m2024-05-21 15:34:35.194\u001b[0m | \u001b[31m\u001b[1mERROR   \u001b[0m | \u001b[36mnapari_spatialdata._scatterwidgets\u001b[0m:\u001b[36m_onAction\u001b[0m:\u001b[36m134\u001b[0m - \u001b[31m\u001b[1m'[None] not in index'\u001b[0m\n",
      "\u001b[32m2024-05-21 15:34:36.443\u001b[0m | \u001b[1mINFO    \u001b[0m | \u001b[36mnapari_spatialdata._scatterwidgets\u001b[0m:\u001b[36mplot\u001b[0m:\u001b[36m258\u001b[0m - \u001b[1mPlotting coordinates.\u001b[0m\n",
      "c:\\Users\\KMK280\\AppData\\Local\\anaconda3\\envs\\napari-sp-stable-env\\lib\\site-packages\\napari_spatialdata\\_scatterwidgets.py:262: UserWarning: *c* argument looks like a single numeric RGB or RGBA sequence, which should be avoided as value-mapping will have precedence in case its length matches with *x* & *y*.  Please use the *color* keyword-argument or provide a 2D array with a single row if you intend to specify the same RGB or RGBA value for all points.\n",
      "  self.scatterplot = self.axes.scatter(x=self.data[0], y=self.data[1], c=self.data[2])\n",
      "\u001b[32m2024-05-21 15:34:49.725\u001b[0m | \u001b[31m\u001b[1mERROR   \u001b[0m | \u001b[36mnapari_spatialdata._scatterwidgets\u001b[0m:\u001b[36m_onAction\u001b[0m:\u001b[36m134\u001b[0m - \u001b[31m\u001b[1m'[None] not in index'\u001b[0m\n",
      "\u001b[32m2024-05-21 15:34:51.045\u001b[0m | \u001b[1mINFO    \u001b[0m | \u001b[36mnapari_spatialdata._scatterwidgets\u001b[0m:\u001b[36mplot\u001b[0m:\u001b[36m258\u001b[0m - \u001b[1mPlotting coordinates.\u001b[0m\n",
      "c:\\Users\\KMK280\\AppData\\Local\\anaconda3\\envs\\napari-sp-stable-env\\lib\\site-packages\\napari_spatialdata\\_scatterwidgets.py:262: UserWarning: *c* argument looks like a single numeric RGB or RGBA sequence, which should be avoided as value-mapping will have precedence in case its length matches with *x* & *y*.  Please use the *color* keyword-argument or provide a 2D array with a single row if you intend to specify the same RGB or RGBA value for all points.\n",
      "  self.scatterplot = self.axes.scatter(x=self.data[0], y=self.data[1], c=self.data[2])\n",
      "\u001b[32m2024-05-21 15:34:53.404\u001b[0m | \u001b[31m\u001b[1mERROR   \u001b[0m | \u001b[36mnapari_spatialdata._scatterwidgets\u001b[0m:\u001b[36m_onAction\u001b[0m:\u001b[36m134\u001b[0m - \u001b[31m\u001b[1m'[None] not in index'\u001b[0m\n",
      "\u001b[32m2024-05-21 15:34:54.609\u001b[0m | \u001b[1mINFO    \u001b[0m | \u001b[36mnapari_spatialdata._scatterwidgets\u001b[0m:\u001b[36mplot\u001b[0m:\u001b[36m258\u001b[0m - \u001b[1mPlotting coordinates.\u001b[0m\n",
      "c:\\Users\\KMK280\\AppData\\Local\\anaconda3\\envs\\napari-sp-stable-env\\lib\\site-packages\\napari_spatialdata\\_scatterwidgets.py:262: UserWarning: *c* argument looks like a single numeric RGB or RGBA sequence, which should be avoided as value-mapping will have precedence in case its length matches with *x* & *y*.  Please use the *color* keyword-argument or provide a 2D array with a single row if you intend to specify the same RGB or RGBA value for all points.\n",
      "  self.scatterplot = self.axes.scatter(x=self.data[0], y=self.data[1], c=self.data[2])\n",
      "\u001b[32m2024-05-21 15:47:57.549\u001b[0m | \u001b[1mINFO    \u001b[0m | \u001b[36mnapari_spatialdata._scatterwidgets\u001b[0m:\u001b[36mplot\u001b[0m:\u001b[36m258\u001b[0m - \u001b[1mPlotting coordinates.\u001b[0m\n",
      "\u001b[32m2024-05-21 15:49:03.555\u001b[0m | \u001b[1mINFO    \u001b[0m | \u001b[36mnapari_spatialdata._scatterwidgets\u001b[0m:\u001b[36mexport\u001b[0m:\u001b[36m94\u001b[0m - \u001b[1mExported selected coordinates to obs in AnnData as: test_labels_LASSO_SELECTED\u001b[0m\n",
      "\u001b[32m2024-05-21 15:49:20.690\u001b[0m | \u001b[31m\u001b[1mERROR   \u001b[0m | \u001b[36mnapari_spatialdata._scatterwidgets\u001b[0m:\u001b[36m_onAction\u001b[0m:\u001b[36m134\u001b[0m - \u001b[31m\u001b[1m'[None] not in index'\u001b[0m\n"
     ]
    }
   ],
   "source": [
    "from napari_spatialdata import Interactive\n",
    "\n",
    "interactive = Interactive(sdata)\n",
    "interactive.run()"
   ]
  },
  {
   "cell_type": "code",
   "execution_count": 6,
   "metadata": {},
   "outputs": [
    {
     "data": {
      "text/plain": [
       "SpatialData object with:\n",
       "├── Images\n",
       "│     ├── '1_Cy3_ERa-AF555': MultiscaleSpatialImage[cyx] (1, 6911, 6775), (1, 3455, 3387), (1, 863, 846)\n",
       "│     ├── '1_Cy5_pRB-AF647': MultiscaleSpatialImage[cyx] (1, 6911, 6775), (1, 3455, 3387), (1, 863, 846)\n",
       "│     ├── '1_Cy7_p21-AF750': MultiscaleSpatialImage[cyx] (1, 6911, 6775), (1, 3455, 3387), (1, 863, 846)\n",
       "│     ├── '1_DAPI_': MultiscaleSpatialImage[cyx] (1, 6911, 6775), (1, 3455, 3387), (1, 863, 846)\n",
       "│     ├── '1_FITC_HER2-AF488': MultiscaleSpatialImage[cyx] (1, 6911, 6775), (1, 3455, 3387), (1, 863, 846)\n",
       "│     ├── '2_Cy3_pH2AX-AF555': MultiscaleSpatialImage[cyx] (1, 6911, 6775), (1, 3455, 3387), (1, 863, 846)\n",
       "│     ├── '2_Cy5_cycE1-AF647': MultiscaleSpatialImage[cyx] (1, 6911, 6775), (1, 3455, 3387), (1, 863, 846)\n",
       "│     ├── '2_Cy7_RB-AF750': MultiscaleSpatialImage[cyx] (1, 6911, 6775), (1, 3455, 3387), (1, 863, 846)\n",
       "│     ├── '2_DAPI_': MultiscaleSpatialImage[cyx] (1, 6911, 6775), (1, 3455, 3387), (1, 863, 846)\n",
       "│     ├── '2_FITC_cycE2-AF488': MultiscaleSpatialImage[cyx] (1, 6911, 6775), (1, 3455, 3387), (1, 863, 846)\n",
       "│     ├── '3_Cy3_cycD1-AF555': MultiscaleSpatialImage[cyx] (1, 6911, 6775), (1, 3455, 3387), (1, 863, 846)\n",
       "│     ├── '3_Cy5_Ki67-AF647': MultiscaleSpatialImage[cyx] (1, 6911, 6775), (1, 3455, 3387), (1, 863, 846)\n",
       "│     ├── '3_Cy7_ProgRc-AF750': MultiscaleSpatialImage[cyx] (1, 6911, 6775), (1, 3455, 3387), (1, 863, 846)\n",
       "│     ├── '3_DAPI_': MultiscaleSpatialImage[cyx] (1, 6911, 6775), (1, 3455, 3387), (1, 863, 846)\n",
       "│     ├── '3_FITC_CDC25C-AF488': MultiscaleSpatialImage[cyx] (1, 6911, 6775), (1, 3455, 3387), (1, 863, 846)\n",
       "│     ├── '4_Cy3_cycA2-AF555': MultiscaleSpatialImage[cyx] (1, 6911, 6775), (1, 3455, 3387), (1, 863, 846)\n",
       "│     ├── '4_Cy5_p53-AF647': MultiscaleSpatialImage[cyx] (1, 6911, 6775), (1, 3455, 3387), (1, 863, 846)\n",
       "│     ├── '4_Cy7_CDK2-AF750': MultiscaleSpatialImage[cyx] (1, 6911, 6775), (1, 3455, 3387), (1, 863, 846)\n",
       "│     ├── '4_DAPI_': MultiscaleSpatialImage[cyx] (1, 6911, 6775), (1, 3455, 3387), (1, 863, 846)\n",
       "│     ├── '4_FITC_ECad-AF488': MultiscaleSpatialImage[cyx] (1, 6911, 6775), (1, 3455, 3387), (1, 863, 846)\n",
       "│     ├── '5_Cy3_CycB1-AF555': MultiscaleSpatialImage[cyx] (1, 6911, 6775), (1, 3455, 3387), (1, 863, 846)\n",
       "│     ├── '5_Cy5_PCNA-AF647': MultiscaleSpatialImage[cyx] (1, 6911, 6775), (1, 3455, 3387), (1, 863, 846)\n",
       "│     ├── '5_Cy7_cycB2-AF750': MultiscaleSpatialImage[cyx] (1, 6911, 6775), (1, 3455, 3387), (1, 863, 846)\n",
       "│     ├── '5_DAPI_': MultiscaleSpatialImage[cyx] (1, 6911, 6775), (1, 3455, 3387), (1, 863, 846)\n",
       "│     ├── '5_FITC_Plk1-AF488': MultiscaleSpatialImage[cyx] (1, 6911, 6775), (1, 3455, 3387), (1, 863, 846)\n",
       "│     ├── '6_Cy3_bCat-AF555': MultiscaleSpatialImage[cyx] (1, 6911, 6775), (1, 3455, 3387), (1, 863, 846)\n",
       "│     ├── '6_Cy5_CDK6-AF647': MultiscaleSpatialImage[cyx] (1, 6911, 6775), (1, 3455, 3387), (1, 863, 846)\n",
       "│     ├── '6_Cy7_p27-AF750': MultiscaleSpatialImage[cyx] (1, 6911, 6775), (1, 3455, 3387), (1, 863, 846)\n",
       "│     ├── '6_DAPI_': MultiscaleSpatialImage[cyx] (1, 6911, 6775), (1, 3455, 3387), (1, 863, 846)\n",
       "│     ├── '6_FITC_p65-AF488': MultiscaleSpatialImage[cyx] (1, 6911, 6775), (1, 3455, 3387), (1, 863, 846)\n",
       "│     ├── '7_Cy3_ERa-AF555': MultiscaleSpatialImage[cyx] (1, 6911, 6775), (1, 3455, 3387), (1, 863, 846)\n",
       "│     ├── '7_Cy5_pRB-AF647': MultiscaleSpatialImage[cyx] (1, 6911, 6775), (1, 3455, 3387), (1, 863, 846)\n",
       "│     ├── '7_Cy7_p21-AF750': MultiscaleSpatialImage[cyx] (1, 6911, 6775), (1, 3455, 3387), (1, 863, 846)\n",
       "│     ├── '7_DAPI_': MultiscaleSpatialImage[cyx] (1, 6911, 6775), (1, 3455, 3387), (1, 863, 846)\n",
       "│     ├── '7_FITC_HER2-AF488': MultiscaleSpatialImage[cyx] (1, 6911, 6775), (1, 3455, 3387), (1, 863, 846)\n",
       "│     ├── '8_Cy3_cycA1-AF555': MultiscaleSpatialImage[cyx] (1, 6911, 6775), (1, 3455, 3387), (1, 863, 846)\n",
       "│     ├── '8_Cy5_CDT1-AF647': MultiscaleSpatialImage[cyx] (1, 6911, 6775), (1, 3455, 3387), (1, 863, 846)\n",
       "│     ├── '8_Cy7_cycD3-AF750': MultiscaleSpatialImage[cyx] (1, 6911, 6775), (1, 3455, 3387), (1, 863, 846)\n",
       "│     ├── '8_DAPI_': MultiscaleSpatialImage[cyx] (1, 6911, 6775), (1, 3455, 3387), (1, 863, 846)\n",
       "│     ├── '8_FITC_HES1-AF488': MultiscaleSpatialImage[cyx] (1, 6911, 6775), (1, 3455, 3387), (1, 863, 846)\n",
       "│     ├── '9_Cy3_wee1-AF555': MultiscaleSpatialImage[cyx] (1, 6911, 6775), (1, 3455, 3387), (1, 863, 846)\n",
       "│     ├── '9_Cy5_AurB-AF647': MultiscaleSpatialImage[cyx] (1, 6911, 6775), (1, 3455, 3387), (1, 863, 846)\n",
       "│     ├── '9_Cy7_E2F1-AF750': MultiscaleSpatialImage[cyx] (1, 6911, 6775), (1, 3455, 3387), (1, 863, 846)\n",
       "│     ├── '9_DAPI_': MultiscaleSpatialImage[cyx] (1, 6911, 6775), (1, 3455, 3387), (1, 863, 846)\n",
       "│     ├── '10_Cy3_pS6-AF555': MultiscaleSpatialImage[cyx] (1, 6911, 6775), (1, 3455, 3387), (1, 863, 846)\n",
       "│     ├── '10_Cy5_SKP2-AF647': MultiscaleSpatialImage[cyx] (1, 6911, 6775), (1, 3455, 3387), (1, 863, 846)\n",
       "│     ├── '10_Cy7_NaKATPase-AF750': MultiscaleSpatialImage[cyx] (1, 6911, 6775), (1, 3455, 3387), (1, 863, 846)\n",
       "│     ├── '10_DAPI_': MultiscaleSpatialImage[cyx] (1, 6911, 6775), (1, 3455, 3387), (1, 863, 846)\n",
       "│     ├── '11_Cy3_YAP1-AF555': MultiscaleSpatialImage[cyx] (1, 6911, 6775), (1, 3455, 3387), (1, 863, 846)\n",
       "│     ├── '11_Cy5_cMYC-AF647': MultiscaleSpatialImage[cyx] (1, 6911, 6775), (1, 3455, 3387), (1, 863, 846)\n",
       "│     ├── '11_Cy7_PH3-AF750': MultiscaleSpatialImage[cyx] (1, 6911, 6775), (1, 3455, 3387), (1, 863, 846)\n",
       "│     ├── '11_DAPI_': MultiscaleSpatialImage[cyx] (1, 6911, 6775), (1, 3455, 3387), (1, 863, 846)\n",
       "│     ├── '12_Cy5_p16-AF647': MultiscaleSpatialImage[cyx] (1, 6911, 6775), (1, 3455, 3387), (1, 863, 846)\n",
       "│     ├── '12_Cy7_CDK4-AF750': MultiscaleSpatialImage[cyx] (1, 6911, 6775), (1, 3455, 3387), (1, 863, 846)\n",
       "│     ├── '12_DAPI_': MultiscaleSpatialImage[cyx] (1, 6911, 6775), (1, 3455, 3387), (1, 863, 846)\n",
       "│     ├── '13_Cy5_pAKT-AF647': MultiscaleSpatialImage[cyx] (1, 6911, 6775), (1, 3455, 3387), (1, 863, 846)\n",
       "│     ├── '13_Cy7_p-p130-AF750': MultiscaleSpatialImage[cyx] (1, 6911, 6775), (1, 3455, 3387), (1, 863, 846)\n",
       "│     ├── '13_DAPI_': MultiscaleSpatialImage[cyx] (1, 6911, 6775), (1, 3455, 3387), (1, 863, 846)\n",
       "│     ├── '14_Cy3_p38-AF555': MultiscaleSpatialImage[cyx] (1, 6911, 6775), (1, 3455, 3387), (1, 863, 846)\n",
       "│     ├── '14_Cy5_pERK-AF647': MultiscaleSpatialImage[cyx] (1, 6911, 6775), (1, 3455, 3387), (1, 863, 846)\n",
       "│     ├── '14_Cy7_p-Cdc6-AF750': MultiscaleSpatialImage[cyx] (1, 6911, 6775), (1, 3455, 3387), (1, 863, 846)\n",
       "│     ├── '14_DAPI_': MultiscaleSpatialImage[cyx] (1, 6911, 6775), (1, 3455, 3387), (1, 863, 846)\n",
       "│     ├── '15_Cy3_SMA-Cy3': MultiscaleSpatialImage[cyx] (1, 6911, 6775), (1, 3455, 3387), (1, 863, 846)\n",
       "│     ├── '15_Cy5_EpCAM-AF647': MultiscaleSpatialImage[cyx] (1, 6911, 6775), (1, 3455, 3387), (1, 863, 846)\n",
       "│     ├── '15_Cy7_pCK26-AF750': MultiscaleSpatialImage[cyx] (1, 6911, 6775), (1, 3455, 3387), (1, 863, 846)\n",
       "│     ├── '15_DAPI_': MultiscaleSpatialImage[cyx] (1, 6911, 6775), (1, 3455, 3387), (1, 863, 846)\n",
       "│     └── '15_FITC_VIM-AF488': MultiscaleSpatialImage[cyx] (1, 6911, 6775), (1, 3455, 3387), (1, 863, 846)\n",
       "├── Labels\n",
       "│     └── 'test_labels': SpatialImage[yx] (6911, 6775)\n",
       "├── Shapes\n",
       "│     └── 'Shapes': GeoDataFrame shape: (1, 1) (2D shapes)\n",
       "└── Tables\n",
       "      └── 'test_table': AnnData (3373, 4)\n",
       "with coordinate systems:\n",
       "▸ 'global', with elements:\n",
       "        1_Cy3_ERa-AF555 (Images), 1_Cy5_pRB-AF647 (Images), 1_Cy7_p21-AF750 (Images), 1_DAPI_ (Images), 1_FITC_HER2-AF488 (Images), 2_Cy3_pH2AX-AF555 (Images), 2_Cy5_cycE1-AF647 (Images), 2_Cy7_RB-AF750 (Images), 2_DAPI_ (Images), 2_FITC_cycE2-AF488 (Images), 3_Cy3_cycD1-AF555 (Images), 3_Cy5_Ki67-AF647 (Images), 3_Cy7_ProgRc-AF750 (Images), 3_DAPI_ (Images), 3_FITC_CDC25C-AF488 (Images), 4_Cy3_cycA2-AF555 (Images), 4_Cy5_p53-AF647 (Images), 4_Cy7_CDK2-AF750 (Images), 4_DAPI_ (Images), 4_FITC_ECad-AF488 (Images), 5_Cy3_CycB1-AF555 (Images), 5_Cy5_PCNA-AF647 (Images), 5_Cy7_cycB2-AF750 (Images), 5_DAPI_ (Images), 5_FITC_Plk1-AF488 (Images), 6_Cy3_bCat-AF555 (Images), 6_Cy5_CDK6-AF647 (Images), 6_Cy7_p27-AF750 (Images), 6_DAPI_ (Images), 6_FITC_p65-AF488 (Images), 7_Cy3_ERa-AF555 (Images), 7_Cy5_pRB-AF647 (Images), 7_Cy7_p21-AF750 (Images), 7_DAPI_ (Images), 7_FITC_HER2-AF488 (Images), 8_Cy3_cycA1-AF555 (Images), 8_Cy5_CDT1-AF647 (Images), 8_Cy7_cycD3-AF750 (Images), 8_DAPI_ (Images), 8_FITC_HES1-AF488 (Images), 9_Cy3_wee1-AF555 (Images), 9_Cy5_AurB-AF647 (Images), 9_Cy7_E2F1-AF750 (Images), 9_DAPI_ (Images), 10_Cy3_pS6-AF555 (Images), 10_Cy5_SKP2-AF647 (Images), 10_Cy7_NaKATPase-AF750 (Images), 10_DAPI_ (Images), 11_Cy3_YAP1-AF555 (Images), 11_Cy5_cMYC-AF647 (Images), 11_Cy7_PH3-AF750 (Images), 11_DAPI_ (Images), 12_Cy5_p16-AF647 (Images), 12_Cy7_CDK4-AF750 (Images), 12_DAPI_ (Images), 13_Cy5_pAKT-AF647 (Images), 13_Cy7_p-p130-AF750 (Images), 13_DAPI_ (Images), 14_Cy3_p38-AF555 (Images), 14_Cy5_pERK-AF647 (Images), 14_Cy7_p-Cdc6-AF750 (Images), 14_DAPI_ (Images), 15_Cy3_SMA-Cy3 (Images), 15_Cy5_EpCAM-AF647 (Images), 15_Cy7_pCK26-AF750 (Images), 15_DAPI_ (Images), 15_FITC_VIM-AF488 (Images), test_labels (Labels), Shapes (Shapes)"
      ]
     },
     "execution_count": 6,
     "metadata": {},
     "output_type": "execute_result"
    }
   ],
   "source": [
    "sdata"
   ]
  },
  {
   "cell_type": "code",
   "execution_count": 8,
   "metadata": {},
   "outputs": [
    {
     "data": {
      "image/svg+xml": [
       "<svg xmlns=\"http://www.w3.org/2000/svg\" xmlns:xlink=\"http://www.w3.org/1999/xlink\" width=\"300\" height=\"300\" viewBox=\"2301.963437414251 3702.0770819927757 1728.886574719756 1513.7049462753412\" preserveAspectRatio=\"xMinYMin meet\"><g transform=\"matrix(1,0,0,-1,0,8917.859110260892)\"><path fill-rule=\"evenodd\" fill=\"#66cc99\" stroke=\"#555555\" stroke-width=\"11.525910498131706\" opacity=\"0.6\" d=\"M 2753.975270255669,4199.733502686039 L 2365.996273514983,4701.823969056339 L 2952.855260181567,5151.749192167385 L 3767.937186107378,4978.951823871114 L 3966.8171760332752,4463.820046686002 L 3751.6355475888613,3811.7545059453532 L 3145.214594700058,3766.1099180935075 L 2753.975270255669,4199.733502686039 z\" /></g></svg>"
      ],
      "text/plain": [
       "<POLYGON ((2753.975 4199.734, 2365.996 4701.824, 2952.855 5151.749, 3767.937...>"
      ]
     },
     "execution_count": 8,
     "metadata": {},
     "output_type": "execute_result"
    }
   ],
   "source": [
    "sdata[\"Shapes\"].geometry.iloc[0]"
   ]
  },
  {
   "cell_type": "code",
   "execution_count": 9,
   "metadata": {},
   "outputs": [],
   "source": [
    "from spatialdata import polygon_query"
   ]
  },
  {
   "cell_type": "code",
   "execution_count": 11,
   "metadata": {},
   "outputs": [],
   "source": [
    "filtered_tables = {}\n",
    "for shape in [\"Shapes\"]:\n",
    "    polygon = sdata[shape].geometry.iloc[0]\n",
    "    filtered_tables[shape] = polygon_query(sdata, polygon=polygon, target_coordinate_system=\"global\")[\"test_table\"]"
   ]
  },
  {
   "cell_type": "code",
   "execution_count": 22,
   "metadata": {},
   "outputs": [
    {
     "name": "stdout",
     "output_type": "stream",
     "text": [
      "test_labels\n"
     ]
    }
   ],
   "source": [
    "from spatialdata import SpatialData\n",
    "import pandas as pd\n",
    "\n",
    "print(SpatialData.get_annotated_regions(sdata[\"test_table\"]))"
   ]
  },
  {
   "cell_type": "code",
   "execution_count": 21,
   "metadata": {},
   "outputs": [
    {
     "data": {
      "text/plain": [
       "(458, 4)"
      ]
     },
     "execution_count": 21,
     "metadata": {},
     "output_type": "execute_result"
    }
   ],
   "source": [
    "filtered_tables['Shapes'].X.shape"
   ]
  },
  {
   "cell_type": "code",
   "execution_count": 23,
   "metadata": {},
   "outputs": [
    {
     "name": "stderr",
     "output_type": "stream",
     "text": [
      "C:\\Users\\KMK280\\AppData\\Local\\Temp\\ipykernel_5964\\2666406449.py:8: FutureWarning: ChainedAssignmentError: behaviour will change in pandas 3.0!\n",
      "You are setting values through chained assignment. Currently this works in certain cases, but when using Copy-on-Write (which will become the default behaviour in pandas 3.0) this will never work to update the original DataFrame or Series, because the intermediate object on which we are setting values will behave as a copy.\n",
      "A typical example is when you are setting values in a column of a DataFrame, like:\n",
      "\n",
      "df[\"col\"][row_indexer] = value\n",
      "\n",
      "Use `df.loc[row_indexer, \"col\"] = values` instead, to perform the assignment in a single step and ensure this keeps updating the original `df`.\n",
      "\n",
      "See the caveats in the documentation: https://pandas.pydata.org/pandas-docs/stable/user_guide/indexing.html#returning-a-view-versus-a-copy\n",
      "\n",
      "  sdata[\"test_table\"].obs[\"annotation\"].loc[in_shape] = shape\n"
     ]
    }
   ],
   "source": [
    "categories = [\"unassigned\"] + list(filtered_tables.keys())\n",
    "n = len(sdata[\"test_table\"])\n",
    "\n",
    "sdata[\"test_table\"].obs[\"annotation\"] = pd.Categorical([\"unassigned\" for _ in range(n)], categories=categories)\n",
    "\n",
    "for shape, subtable in filtered_tables.items():\n",
    "    in_shape = subtable.obs.index\n",
    "    sdata[\"test_table\"].obs[\"annotation\"].loc[in_shape] = shape"
   ]
  },
  {
   "cell_type": "code",
   "execution_count": 24,
   "metadata": {},
   "outputs": [
    {
     "data": {
      "text/plain": [
       "annotation\n",
       "unassigned    2915\n",
       "Shapes         458\n",
       "Name: count, dtype: int64"
      ]
     },
     "execution_count": 24,
     "metadata": {},
     "output_type": "execute_result"
    },
    {
     "name": "stderr",
     "output_type": "stream",
     "text": [
      "\u001b[32m2024-05-21 16:01:03.658\u001b[0m | \u001b[1mINFO    \u001b[0m | \u001b[36mnapari_spatialdata._view\u001b[0m:\u001b[36m_on_layer_update\u001b[0m:\u001b[36m285\u001b[0m - \u001b[1mUpdating layer.\u001b[0m\n",
      "c:\\Users\\KMK280\\AppData\\Local\\anaconda3\\envs\\napari-sp-stable-env\\lib\\site-packages\\spatialdata\\_core\\query\\relational_query.py:396: FutureWarning: The default of observed=False is deprecated and will be changed to True in a future version of pandas. Pass observed=False to retain current behavior or observed=True to adopt the future default and silence this warning.\n",
      "  groups_df = table.obs.groupby(by=region_column_name)\n",
      "\u001b[32m2024-05-21 16:01:04.419\u001b[0m | \u001b[1mINFO    \u001b[0m | \u001b[36mnapari_spatialdata._view\u001b[0m:\u001b[36m_on_layer_update\u001b[0m:\u001b[36m285\u001b[0m - \u001b[1mUpdating layer.\u001b[0m\n",
      "c:\\Users\\KMK280\\AppData\\Local\\anaconda3\\envs\\napari-sp-stable-env\\lib\\site-packages\\spatialdata\\_core\\query\\relational_query.py:396: FutureWarning: The default of observed=False is deprecated and will be changed to True in a future version of pandas. Pass observed=False to retain current behavior or observed=True to adopt the future default and silence this warning.\n",
      "  groups_df = table.obs.groupby(by=region_column_name)\n",
      "c:\\Users\\KMK280\\AppData\\Local\\anaconda3\\envs\\napari-sp-stable-env\\lib\\site-packages\\anndata\\_core\\aligned_df.py:67: ImplicitModificationWarning: Transforming to str index.\n",
      "  warnings.warn(\"Transforming to str index.\", ImplicitModificationWarning)\n",
      "c:\\Users\\KMK280\\AppData\\Local\\anaconda3\\envs\\napari-sp-stable-env\\lib\\site-packages\\napari\\utils\\_proxies.py:144: FutureWarning: Labels.color is deprecated since 0.4.19 and will be removed in 0.5.0, please set Labels.colormap directly with an instance of napari.utils.colormaps.DirectLabelColormap instead.\n",
      "  setattr(self.__wrapped__, name, value)\n",
      "c:\\Users\\KMK280\\AppData\\Local\\anaconda3\\envs\\napari-sp-stable-env\\lib\\site-packages\\napari\\utils\\_proxies.py:144: FutureWarning: Labels.color is deprecated since 0.4.19 and will be removed in 0.5.0, please set Labels.colormap directly with an instance of napari.utils.colormaps.DirectLabelColormap instead.\n",
      "  setattr(self.__wrapped__, name, value)\n",
      "c:\\Users\\KMK280\\AppData\\Local\\anaconda3\\envs\\napari-sp-stable-env\\lib\\site-packages\\anndata\\_core\\aligned_df.py:67: ImplicitModificationWarning: Transforming to str index.\n",
      "  warnings.warn(\"Transforming to str index.\", ImplicitModificationWarning)\n",
      "c:\\Users\\KMK280\\AppData\\Local\\anaconda3\\envs\\napari-sp-stable-env\\lib\\site-packages\\napari\\utils\\_proxies.py:144: FutureWarning: Labels.color is deprecated since 0.4.19 and will be removed in 0.5.0, please set Labels.colormap directly with an instance of napari.utils.colormaps.DirectLabelColormap instead.\n",
      "  setattr(self.__wrapped__, name, value)\n",
      "\u001b[32m2024-05-21 16:03:11.751\u001b[0m | \u001b[1mINFO    \u001b[0m | \u001b[36mnapari_spatialdata._view\u001b[0m:\u001b[36m_on_layer_update\u001b[0m:\u001b[36m285\u001b[0m - \u001b[1mUpdating layer.\u001b[0m\n",
      "c:\\Users\\KMK280\\AppData\\Local\\anaconda3\\envs\\napari-sp-stable-env\\lib\\site-packages\\spatialdata\\_core\\query\\relational_query.py:396: FutureWarning: The default of observed=False is deprecated and will be changed to True in a future version of pandas. Pass observed=False to retain current behavior or observed=True to adopt the future default and silence this warning.\n",
      "  groups_df = table.obs.groupby(by=region_column_name)\n",
      "\u001b[32m2024-05-21 16:03:12.464\u001b[0m | \u001b[1mINFO    \u001b[0m | \u001b[36mnapari_spatialdata._view\u001b[0m:\u001b[36m_on_layer_update\u001b[0m:\u001b[36m285\u001b[0m - \u001b[1mUpdating layer.\u001b[0m\n",
      "c:\\Users\\KMK280\\AppData\\Local\\anaconda3\\envs\\napari-sp-stable-env\\lib\\site-packages\\spatialdata\\_core\\query\\relational_query.py:396: FutureWarning: The default of observed=False is deprecated and will be changed to True in a future version of pandas. Pass observed=False to retain current behavior or observed=True to adopt the future default and silence this warning.\n",
      "  groups_df = table.obs.groupby(by=region_column_name)\n",
      "c:\\Users\\KMK280\\AppData\\Local\\anaconda3\\envs\\napari-sp-stable-env\\lib\\site-packages\\napari\\utils\\_proxies.py:144: FutureWarning: Labels.color is deprecated since 0.4.19 and will be removed in 0.5.0, please set Labels.colormap directly with an instance of napari.utils.colormaps.DirectLabelColormap instead.\n",
      "  setattr(self.__wrapped__, name, value)\n",
      "c:\\Users\\KMK280\\AppData\\Local\\anaconda3\\envs\\napari-sp-stable-env\\lib\\site-packages\\anndata\\_core\\aligned_df.py:67: ImplicitModificationWarning: Transforming to str index.\n",
      "  warnings.warn(\"Transforming to str index.\", ImplicitModificationWarning)\n",
      "c:\\Users\\KMK280\\AppData\\Local\\anaconda3\\envs\\napari-sp-stable-env\\lib\\site-packages\\napari\\utils\\_proxies.py:144: FutureWarning: Labels.color is deprecated since 0.4.19 and will be removed in 0.5.0, please set Labels.colormap directly with an instance of napari.utils.colormaps.DirectLabelColormap instead.\n",
      "  setattr(self.__wrapped__, name, value)\n",
      "c:\\Users\\KMK280\\AppData\\Local\\anaconda3\\envs\\napari-sp-stable-env\\lib\\site-packages\\napari\\utils\\_proxies.py:144: FutureWarning: Labels.color is deprecated since 0.4.19 and will be removed in 0.5.0, please set Labels.colormap directly with an instance of napari.utils.colormaps.DirectLabelColormap instead.\n",
      "  setattr(self.__wrapped__, name, value)\n",
      "c:\\Users\\KMK280\\AppData\\Local\\anaconda3\\envs\\napari-sp-stable-env\\lib\\site-packages\\napari\\utils\\_proxies.py:144: FutureWarning: Labels.color is deprecated since 0.4.19 and will be removed in 0.5.0, please set Labels.colormap directly with an instance of napari.utils.colormaps.DirectLabelColormap instead.\n",
      "  setattr(self.__wrapped__, name, value)\n",
      "c:\\Users\\KMK280\\AppData\\Local\\anaconda3\\envs\\napari-sp-stable-env\\lib\\site-packages\\anndata\\_core\\aligned_df.py:67: ImplicitModificationWarning: Transforming to str index.\n",
      "  warnings.warn(\"Transforming to str index.\", ImplicitModificationWarning)\n",
      "c:\\Users\\KMK280\\AppData\\Local\\anaconda3\\envs\\napari-sp-stable-env\\lib\\site-packages\\napari\\utils\\_proxies.py:144: FutureWarning: Labels.color is deprecated since 0.4.19 and will be removed in 0.5.0, please set Labels.colormap directly with an instance of napari.utils.colormaps.DirectLabelColormap instead.\n",
      "  setattr(self.__wrapped__, name, value)\n",
      "\u001b[32m2024-05-21 16:06:44.780\u001b[0m | \u001b[31m\u001b[1mERROR   \u001b[0m | \u001b[36mnapari_spatialdata._scatterwidgets\u001b[0m:\u001b[36m_onAction\u001b[0m:\u001b[36m134\u001b[0m - \u001b[31m\u001b[1m'[None] not in index'\u001b[0m\n",
      "\u001b[32m2024-05-21 16:06:46.742\u001b[0m | \u001b[1mINFO    \u001b[0m | \u001b[36mnapari_spatialdata._scatterwidgets\u001b[0m:\u001b[36mplot\u001b[0m:\u001b[36m258\u001b[0m - \u001b[1mPlotting coordinates.\u001b[0m\n",
      "c:\\Users\\KMK280\\AppData\\Local\\anaconda3\\envs\\napari-sp-stable-env\\lib\\site-packages\\napari_spatialdata\\_scatterwidgets.py:262: UserWarning: *c* argument looks like a single numeric RGB or RGBA sequence, which should be avoided as value-mapping will have precedence in case its length matches with *x* & *y*.  Please use the *color* keyword-argument or provide a 2D array with a single row if you intend to specify the same RGB or RGBA value for all points.\n",
      "  self.scatterplot = self.axes.scatter(x=self.data[0], y=self.data[1], c=self.data[2])\n"
     ]
    }
   ],
   "source": [
    "sdata[\"test_table\"].obs[\"annotation\"].value_counts()"
   ]
  },
  {
   "cell_type": "code",
   "execution_count": null,
   "metadata": {},
   "outputs": [],
   "source": []
  }
 ],
 "metadata": {
  "kernelspec": {
   "display_name": "napari-env",
   "language": "python",
   "name": "python3"
  },
  "language_info": {
   "codemirror_mode": {
    "name": "ipython",
    "version": 3
   },
   "file_extension": ".py",
   "mimetype": "text/x-python",
   "name": "python",
   "nbconvert_exporter": "python",
   "pygments_lexer": "ipython3",
   "version": "3.10.14"
  }
 },
 "nbformat": 4,
 "nbformat_minor": 2
}
