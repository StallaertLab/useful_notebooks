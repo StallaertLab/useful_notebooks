{
 "cells": [
  {
   "cell_type": "code",
   "execution_count": 25,
   "metadata": {},
   "outputs": [],
   "source": [
    "import os\n",
    "import re\n",
    "from tifffile import imread\n",
    "import zarr\n",
    "from ome_zarr.io import parse_url\n",
    "from ome_zarr.writer import write_image\n",
    "from ome_zarr.reader import Reader\n",
    "import napari\n",
    "import math\n",
    "from dask import delayed\n",
    "import dask.array as da"
   ]
  },
  {
   "cell_type": "code",
   "execution_count": 2,
   "metadata": {},
   "outputs": [],
   "source": [
    "from napari.settings import get_settings\n",
    "settings = get_settings()\n",
    "settings.application.ipy_interactive = True"
   ]
  },
  {
   "cell_type": "code",
   "execution_count": 21,
   "metadata": {},
   "outputs": [],
   "source": [
    "## choose slide and region to examine\n",
    "slide = 'O-2'\n",
    "\n",
    "## Image directory\n",
    "Ab_dir = os.path.join(r'D:\\\\','CellDIVE', f'{slide}') # if stored locally\n",
    "subdir = f'{slide}_Final'\n",
    "\n",
    "img_dir = os.path.join(Ab_dir,subdir)\n",
    "\n",
    "# path of DAPI image\n",
    "DAPI_path = os.path.join(img_dir,f'{slide}_1.0.4_R000_DAPI__FINAL_F.ome.tif')\n",
    "\n",
    "img_list = [x for x in os.listdir(img_dir) if ((('tif' in x) and ('0.4' in x)) and ('DAPI' not in x))]"
   ]
  },
  {
   "cell_type": "code",
   "execution_count": 26,
   "metadata": {},
   "outputs": [
    {
     "name": "stderr",
     "output_type": "stream",
     "text": [
      "c:\\Users\\stallab\\.conda\\envs\\napari-env\\lib\\site-packages\\napari\\_vispy\\layers\\image.py:259: UserWarning: data shape (52925, 135599) exceeds GL_MAX_TEXTURE_SIZE 32768 in at least one axis and will be downsampled. Rendering is currently in 2D mode.\n",
      "  warnings.warn(\n",
      "c:\\Users\\stallab\\.conda\\envs\\napari-env\\lib\\site-packages\\napari\\_vispy\\layers\\image.py:259: UserWarning: data shape (52925, 135599) exceeds GL_MAX_TEXTURE_SIZE 32768 in at least one axis and will be downsampled. Rendering is currently in 2D mode.\n",
      "  warnings.warn(\n"
     ]
    }
   ],
   "source": [
    "colors = ['green', 'bop blue', 'bop orange', 'bop purple', 'magenta', 'red', 'yellow']\n",
    "\n",
    "viewer = napari.Viewer()\n",
    "\n",
    "#add DAPI image\n",
    "im_DAPI = imread(DAPI_path)\n",
    "viewer.add_image(im_DAPI,colormap='blue',blending='additive',contrast_limits=[0,10000])\n",
    "\n",
    "for i,img in enumerate(img_list):\n",
    "\n",
    "    im_path = os.path.join(img_dir, img)\n",
    "    store = imread(im_path,aszarr=True)\n",
    "\n",
    "    biomarker = img.split('_')[4]\n",
    "\n",
    "    color_idx = i-len(colors)*math.ceil((i+1)/len(colors)-1)\n",
    "    color = colors[color_idx]\n",
    "    \n",
    "    l = []\n",
    "\n",
    "    # as Napari seems to open only 6 levels anyway \n",
    "    for i in range(6):\n",
    "        d = da.from_zarr(store, i)\n",
    "        l.append(d)\n",
    "    \n",
    "    viewer.add_image(l, name=biomarker, blending='additive',contrast_limits=[0,1000], colormap=color)"
   ]
  },
  {
   "cell_type": "code",
   "execution_count": null,
   "metadata": {},
   "outputs": [],
   "source": []
  }
 ],
 "metadata": {
  "kernelspec": {
   "display_name": "napari-env",
   "language": "python",
   "name": "python3"
  },
  "language_info": {
   "codemirror_mode": {
    "name": "ipython",
    "version": 3
   },
   "file_extension": ".py",
   "mimetype": "text/x-python",
   "name": "python",
   "nbconvert_exporter": "python",
   "pygments_lexer": "ipython3",
   "version": "3.9.13"
  },
  "orig_nbformat": 4
 },
 "nbformat": 4,
 "nbformat_minor": 2
}
