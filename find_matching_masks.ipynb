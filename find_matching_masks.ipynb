{
 "cells": [
  {
   "cell_type": "code",
   "execution_count": null,
   "id": "18f6317e",
   "metadata": {},
   "outputs": [],
   "source": [
    "import numpy as np\n",
    "from skimage.io import imread, imsave\n",
    "import napari\n",
    "from pystackreg import StackReg\n",
    "from cellpose import models\n",
    "\n",
    "import numpy as np\n",
    "from skimage.measure import label, regionprops\n",
    "from skimage.measure import regionprops, label"
   ]
  },
  {
   "cell_type": "code",
   "execution_count": 4,
   "id": "b19afdee",
   "metadata": {},
   "outputs": [],
   "source": [
    "model = models.Cellpose(model_type='cyto2',gpu=True)"
   ]
  },
  {
   "cell_type": "code",
   "execution_count": 5,
   "id": "52d1597a",
   "metadata": {},
   "outputs": [],
   "source": [
    "im1_path = 'aligned_00.tif'\n",
    "im2_path = 'aligned_01.tif'\n",
    "im3_path = 'aligned_02.tif'"
   ]
  },
  {
   "cell_type": "code",
   "execution_count": 7,
   "id": "9055b935",
   "metadata": {},
   "outputs": [],
   "source": [
    "im1 = imread(im1_path)\n",
    "im2 = imread(im2_path)\n",
    "im3 = imread(im3_path)"
   ]
  },
  {
   "cell_type": "code",
   "execution_count": 8,
   "id": "e5ba4d46",
   "metadata": {},
   "outputs": [],
   "source": [
    "mask1,_,_,_ = model.eval(im1,diameter=50)\n",
    "mask2,_,_,_ = model.eval(im2,diameter=50)\n",
    "mask3,_,_,_ = model.eval(im3,diameter=50)"
   ]
  },
  {
   "cell_type": "code",
   "execution_count": 9,
   "id": "e25824d9",
   "metadata": {},
   "outputs": [],
   "source": [
    "mask_stack = np.stack([mask1, mask2, mask3], axis=0)"
   ]
  },
  {
   "cell_type": "code",
   "execution_count": 89,
   "id": "d82027f3",
   "metadata": {},
   "outputs": [],
   "source": [
    "import numpy as np\n",
    "from skimage.measure import regionprops\n",
    "from skimage.segmentation import relabel_sequential\n",
    "\n",
    "def compute_iou(mask1, mask2):\n",
    "    intersection = np.logical_and(mask1, mask2).sum()\n",
    "    union = np.logical_or(mask1, mask2).sum()\n",
    "    return intersection / union if union > 0 else 0.0\n",
    "\n",
    "def get_overlap_bbox(bbox1, bbox2, shape):\n",
    "    minr = max(bbox1[0], bbox2[0])\n",
    "    minc = max(bbox1[1], bbox2[1])\n",
    "    maxr = min(bbox1[2], bbox2[2])\n",
    "    maxc = min(bbox1[3], bbox2[3])\n",
    "    if minr >= maxr or minc >= maxc:\n",
    "        return None\n",
    "    return (minr, minc, maxr, maxc)\n",
    "\n",
    "def crop_mask(mask, bbox):\n",
    "    minr, minc, maxr, maxc = bbox\n",
    "    return mask[minr:maxr, minc:maxc]\n",
    "\n",
    "def prune_ambiguous_matches(match_map, n_frames):\n",
    "    # Step 1: Build reverse index: frame_id → label → [anchor_ids]\n",
    "    label_usage = [dict() for _ in range(n_frames)]\n",
    "\n",
    "    for anchor_label, matched in match_map.items():\n",
    "        for frame_idx, label in enumerate(matched):\n",
    "            if label not in label_usage[frame_idx]:\n",
    "                label_usage[frame_idx][label] = []\n",
    "            label_usage[frame_idx][label].append(anchor_label)\n",
    "\n",
    "    # Step 2: Collect anchor_labels to remove\n",
    "    anchors_to_remove = set()\n",
    "    for frame_idx in range(n_frames):\n",
    "        for label, anchors in label_usage[frame_idx].items():\n",
    "            if len(anchors) > 1:\n",
    "                anchors_to_remove.update(anchors)\n",
    "\n",
    "    # Step 3: Filter out ambiguous anchor matches\n",
    "    pruned = {\n",
    "        anchor: matched\n",
    "        for anchor, matched in match_map.items()\n",
    "        if anchor not in anchors_to_remove\n",
    "    }\n",
    "    return pruned\n",
    "\n",
    "def relabel_stack_by_anchor(stack, anchor_index=0, iou_threshold=0.7):\n",
    "    # Step 1: Clean and relabel masks to sequential ints\n",
    "    #stack = [relabel_sequential(mask)[0] for mask in stack]\n",
    "    height, width = stack[0].shape\n",
    "\n",
    "    # Step 2: Precompute bounding boxes per frame\n",
    "    label_bboxes = []\n",
    "    label_coords = []\n",
    "    for frame in stack:\n",
    "        props = regionprops(frame)\n",
    "        bbox_dict = {p.label: p.bbox for p in props}\n",
    "        label_bboxes.append(bbox_dict)\n",
    "        coord_dict = {p.label: p.coords for p in props}\n",
    "        label_coords.append(coord_dict)\n",
    "\n",
    "    anchor = stack[anchor_index]\n",
    "    anchor_props = regionprops(anchor)\n",
    "\n",
    "    match_map = {}  # anchor_label -> [label_in_frame_0, ..., label_in_frame_n]\n",
    "\n",
    "    for anchor_prop in anchor_props:\n",
    "        anchor_label = anchor_prop.label\n",
    "        anchor_bbox = anchor_prop.bbox\n",
    "\n",
    "        consistent_labels = []\n",
    "        valid = True\n",
    "\n",
    "        \n",
    "        for i, frame in enumerate(stack):\n",
    "            if i == anchor_index:\n",
    "                consistent_labels.append(anchor_label)\n",
    "                continue\n",
    "\n",
    "            best_label = []\n",
    "\n",
    "            frame_crop = frame[anchor_bbox[0]:anchor_bbox[2], anchor_bbox[1]:anchor_bbox[3]]\n",
    "            candidate_labels = np.unique(frame_crop)\n",
    "            candidate_labels = candidate_labels[candidate_labels != 0]\n",
    "\n",
    "            for cand_label in candidate_labels:\n",
    "                if cand_label not in label_bboxes[i]:\n",
    "                    continue\n",
    "                cand_bbox = label_bboxes[i][cand_label]\n",
    "                overlap_bbox = get_overlap_bbox(anchor_bbox, cand_bbox, frame.shape)\n",
    "                if overlap_bbox is None:\n",
    "                    continue\n",
    "\n",
    "                anchor_part = crop_mask(anchor, overlap_bbox)\n",
    "                anchor_part = (anchor_part==anchor_label)\n",
    "                cand_part = crop_mask(frame, overlap_bbox)\n",
    "                cand_part = (cand_part == cand_label)\n",
    "\n",
    "                iou = compute_iou(anchor_part, cand_part)\n",
    "                if iou > iou_threshold:\n",
    "                    best_label.append(cand_label)\n",
    "\n",
    "            if len(best_label) == 1:\n",
    "                consistent_labels.append(best_label[0])\n",
    "            else:\n",
    "                valid = False\n",
    "                break\n",
    "\n",
    "        # Must match uniquely across all frames\n",
    "        if valid and len(set(consistent_labels)) == len(stack):\n",
    "            match_map[anchor_label] = consistent_labels\n",
    "\n",
    "    # Step 3: Prune ambiguous matches\n",
    "    match_map = prune_ambiguous_matches(match_map, n_frames=len(stack))\n",
    "\n",
    "    # Step 4: Construct output stack\n",
    "    output_stack = []\n",
    "    for i, frame in enumerate(stack):\n",
    "        relabeled = np.zeros_like(frame, dtype=np.uint16)\n",
    "        coord_dict = label_coords[i]\n",
    "        for new_label, matched in enumerate(match_map.values(), start=1):\n",
    "            old_label = matched[i]\n",
    "            if old_label in coord_dict:\n",
    "                coords = coord_dict[old_label]\n",
    "                relabeled[tuple(coords.T)] = new_label\n",
    "        output_stack.append(relabeled)\n",
    "\n",
    "    return output_stack\n"
   ]
  },
  {
   "cell_type": "code",
   "execution_count": 90,
   "id": "d9d9cea8",
   "metadata": {},
   "outputs": [],
   "source": [
    "mask_stack_match = relabel_stack_by_anchor(mask_stack[:, :, :], anchor_index=2, iou_threshold=0.5)"
   ]
  },
  {
   "cell_type": "code",
   "execution_count": 91,
   "id": "3fe1ab2c",
   "metadata": {},
   "outputs": [
    {
     "data": {
      "text/plain": [
       "<Labels layer 'Mask 3' at 0x1baa3f24050>"
      ]
     },
     "execution_count": 91,
     "metadata": {},
     "output_type": "execute_result"
    }
   ],
   "source": [
    "viewer = napari.Viewer()\n",
    "viewer.add_image(im1, name='Image 1',colormap = 'green', blending='additive')\n",
    "viewer.add_image(im2, name='Image 2', colormap='yellow', blending='additive')\n",
    "viewer.add_image(im3, name='Image 3', colormap='magenta', blending='additive')\n",
    "viewer.add_labels(mask_stack_match[0], name='Mask 1')\n",
    "viewer.add_labels(mask_stack_match[1], name='Mask 2')\n",
    "viewer.add_labels(mask_stack_match[2], name='Mask 3')"
   ]
  },
  {
   "cell_type": "code",
   "execution_count": 92,
   "id": "a42119ce",
   "metadata": {},
   "outputs": [
    {
     "data": {
      "text/plain": [
       "[2047, 2047, 2047]"
      ]
     },
     "execution_count": 92,
     "metadata": {},
     "output_type": "execute_result"
    }
   ],
   "source": [
    "[len(np.unique(frame)) for frame in mask_stack_match]"
   ]
  },
  {
   "cell_type": "code",
   "execution_count": null,
   "id": "6f373d50",
   "metadata": {},
   "outputs": [],
   "source": []
  }
 ],
 "metadata": {
  "kernelspec": {
   "display_name": "cellpose-env",
   "language": "python",
   "name": "python3"
  },
  "language_info": {
   "codemirror_mode": {
    "name": "ipython",
    "version": 3
   },
   "file_extension": ".py",
   "mimetype": "text/x-python",
   "name": "python",
   "nbconvert_exporter": "python",
   "pygments_lexer": "ipython3",
   "version": "3.11.11"
  }
 },
 "nbformat": 4,
 "nbformat_minor": 5
}
