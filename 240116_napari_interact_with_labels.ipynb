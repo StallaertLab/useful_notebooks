{
 "cells": [
  {
   "cell_type": "code",
   "execution_count": 1,
   "metadata": {},
   "outputs": [],
   "source": [
    "import numpy as np\n",
    "import pandas as pd\n",
    "import napari\n",
    "from napari import Viewer\n",
    "from skimage import data\n",
    "from skimage.filters import threshold_otsu\n",
    "from skimage.segmentation import clear_border\n",
    "from skimage.measure import label\n",
    "from skimage.morphology import closing, square, remove_small_objects\n",
    "from skimage.measure import regionprops_table\n",
    "from magicgui import magicgui\n",
    "\n",
    "import matplotlib.pyplot as plt\n",
    "import pyqtgraph as pg"
   ]
  },
  {
   "cell_type": "code",
   "execution_count": 2,
   "metadata": {},
   "outputs": [],
   "source": [
    "# preparation to display a test image and some labels\n",
    "\n",
    "coins = data.coins()[50:-50, 50:-50]\n",
    "# apply threshold\n",
    "thresh = threshold_otsu(coins)\n",
    "bw = closing(coins > thresh, square(4))\n",
    "# remove artifacts connected to image border\n",
    "cleared = remove_small_objects(clear_border(bw), 20)\n",
    "# label image regions\n",
    "label_image = label(cleared)\n",
    "\n",
    "# create the viewer and add the coins image\n",
    "viewer = napari.view_image(coins, name='coins')\n",
    "# add the labels\n",
    "labels_layer = viewer.add_labels(label_image, name='segmentation')"
   ]
  },
  {
   "cell_type": "code",
   "execution_count": 3,
   "metadata": {},
   "outputs": [
    {
     "data": {
      "image/png": "[encoded data removed]",
      "text/html": [
       "<div style=\"vertical-align: middle;\"><strong>viridis</strong> </div><div class=\"cmap\"><img alt=\"viridis colormap\" title=\"viridis\" style=\"border: 1px solid #555;\" src=\"data:image/png;base64,iVBORw0KGgoAAAANSUhEUgAAAgAAAABACAYAAABsv8+/AAAAFnRFWHRUaXRsZQB2aXJpZGlzIGNvbG9ybWFwrE0mCwAAABx0RVh0RGVzY3JpcHRpb24AdmlyaWRpcyBjb2xvcm1hcAtjl3IAAAAwdEVYdEF1dGhvcgBNYXRwbG90bGliIHYzLjUuMywgaHR0cHM6Ly9tYXRwbG90bGliLm9yZ2fR6JIAAAAydEVYdFNvZnR3YXJlAE1hdHBsb3RsaWIgdjMuNS4zLCBodHRwczovL21hdHBsb3RsaWIub3JnSXd3tQAAAhZJREFUeJzt1jFy2zAURVEAJC0vLEvI/jeSxHKhEq9goi7vnPLPB0FpLM+dP+bP50jWsY3mde6zI+yd+94IeyPszTPsxbNhNsYYa22jZ9oNs2c4O87wvGOGWdq7d/b1jmF3hXvOMEt74SN/vXE27Y0xxlfcDbPwue+f/fc70tn377m599Yd+Wf5zj1j7c/M7xPuTnvpHWd+75F2w3vP42ufhfeZ4Xlr7WdXOHuEO9LeGGOc4ZlnOH+kvZuz6/izz9Y+S2c/1u9t9je719z3Hse+l8/u7/i4ufe5fm2z1/l9Hs/PtLffne75uPm8u3e8du99t5/x7v1v74p37D+YK8wecz99zfyPMPwEAYD/nQAAgEICAAAKCQAAKCQAAKCQAACAQgIAAAoJAAAoJAAAoJAAAIBCAgAACgkAACgkAACgkAAAgEICAAAKCQAAKCQAAKCQAACAQgIAAAoJAAAoJAAAoJAAAIBCAgAACgkAACgkAACgkAAAgEICAAAKCQAAKCQAAKCQAACAQgIAAAoJAAAoJAAAoJAAAIBCAgAACgkAACgkAACgkAAAgEICAAAKCQAAKCQAAKCQAACAQgIAAAoJAAAoJAAAoJAAAIBCAgAACgkAACgkAACgkAAAgEICAAAKCQAAKCQAAKCQAACAQgIAAAoJAAAoJAAAoJAAAIBCAgAACgkAACgkAACgkAAAgEICAAAKfQP9S1aHMa78JAAAAABJRU5ErkJggg==\"></div><div style=\"vertical-align: middle; max-width: 514px; display: flex; justify-content: space-between;\"><div style=\"float: left;\"><div title=\"#440154ff\" style=\"display: inline-block; width: 1em; height: 1em; margin: 0; vertical-align: middle; border: 1px solid #555; background-color: #440154ff;\"></div> under</div><div style=\"margin: 0 auto; display: inline-block;\">bad <div title=\"#00000000\" style=\"display: inline-block; width: 1em; height: 1em; margin: 0; vertical-align: middle; border: 1px solid #555; background-color: #00000000;\"></div></div><div style=\"float: right;\">over <div title=\"#fde725ff\" style=\"display: inline-block; width: 1em; height: 1em; margin: 0; vertical-align: middle; border: 1px solid #555; background-color: #fde725ff;\"></div></div>"
      ],
      "text/plain": [
       "<matplotlib.colors.ListedColormap at 0x147286a6d70>"
      ]
     },
     "execution_count": 3,
     "metadata": {},
     "output_type": "execute_result"
    }
   ],
   "source": [
    "# define color resolution\n",
    "color_number = 100 #napari may not render correctly above 1024 colors\n",
    "\n",
    "# get expected number of colors from the colormap\n",
    "colormap = plt.get_cmap('viridis',color_number)\n",
    "colormap"
   ]
  },
  {
   "cell_type": "code",
   "execution_count": 4,
   "metadata": {},
   "outputs": [
    {
     "data": {
      "text/html": [
       "<div>\n",
       "<style scoped>\n",
       "    .dataframe tbody tr th:only-of-type {\n",
       "        vertical-align: middle;\n",
       "    }\n",
       "\n",
       "    .dataframe tbody tr th {\n",
       "        vertical-align: top;\n",
       "    }\n",
       "\n",
       "    .dataframe thead th {\n",
       "        text-align: right;\n",
       "    }\n",
       "</style>\n",
       "<table border=\"1\" class=\"dataframe\">\n",
       "  <thead>\n",
       "    <tr style=\"text-align: right;\">\n",
       "      <th></th>\n",
       "      <th>label</th>\n",
       "      <th>area</th>\n",
       "      <th>eccentricity</th>\n",
       "      <th>area_norm</th>\n",
       "      <th>eccentricity_norm</th>\n",
       "    </tr>\n",
       "  </thead>\n",
       "  <tbody>\n",
       "    <tr>\n",
       "      <th>0</th>\n",
       "      <td>1</td>\n",
       "      <td>1895</td>\n",
       "      <td>0.347067</td>\n",
       "      <td>100</td>\n",
       "      <td>44</td>\n",
       "    </tr>\n",
       "    <tr>\n",
       "      <th>1</th>\n",
       "      <td>2</td>\n",
       "      <td>1212</td>\n",
       "      <td>0.375623</td>\n",
       "      <td>13</td>\n",
       "      <td>57</td>\n",
       "    </tr>\n",
       "    <tr>\n",
       "      <th>2</th>\n",
       "      <td>3</td>\n",
       "      <td>1124</td>\n",
       "      <td>0.350960</td>\n",
       "      <td>2</td>\n",
       "      <td>46</td>\n",
       "    </tr>\n",
       "    <tr>\n",
       "      <th>3</th>\n",
       "      <td>4</td>\n",
       "      <td>1102</td>\n",
       "      <td>0.447403</td>\n",
       "      <td>0</td>\n",
       "      <td>90</td>\n",
       "    </tr>\n",
       "    <tr>\n",
       "      <th>4</th>\n",
       "      <td>5</td>\n",
       "      <td>1720</td>\n",
       "      <td>0.253556</td>\n",
       "      <td>77</td>\n",
       "      <td>1</td>\n",
       "    </tr>\n",
       "    <tr>\n",
       "      <th>5</th>\n",
       "      <td>6</td>\n",
       "      <td>1519</td>\n",
       "      <td>0.467104</td>\n",
       "      <td>52</td>\n",
       "      <td>100</td>\n",
       "    </tr>\n",
       "    <tr>\n",
       "      <th>6</th>\n",
       "      <td>7</td>\n",
       "      <td>1475</td>\n",
       "      <td>0.263275</td>\n",
       "      <td>47</td>\n",
       "      <td>5</td>\n",
       "    </tr>\n",
       "    <tr>\n",
       "      <th>7</th>\n",
       "      <td>8</td>\n",
       "      <td>1155</td>\n",
       "      <td>0.251265</td>\n",
       "      <td>6</td>\n",
       "      <td>0</td>\n",
       "    </tr>\n",
       "  </tbody>\n",
       "</table>\n",
       "</div>"
      ],
      "text/plain": [
       "   label  area  eccentricity  area_norm  eccentricity_norm\n",
       "0      1  1895      0.347067        100                 44\n",
       "1      2  1212      0.375623         13                 57\n",
       "2      3  1124      0.350960          2                 46\n",
       "3      4  1102      0.447403          0                 90\n",
       "4      5  1720      0.253556         77                  1\n",
       "5      6  1519      0.467104         52                100\n",
       "6      7  1475      0.263275         47                  5\n",
       "7      8  1155      0.251265          6                  0"
      ]
     },
     "execution_count": 4,
     "metadata": {},
     "output_type": "execute_result"
    }
   ],
   "source": [
    "# get some properties of the labels\n",
    "df = pd.DataFrame(regionprops_table(label_image, properties=('label', 'area', 'eccentricity')))\n",
    "df['area_norm'] = ((df['area']- df['area'].min())/(df['area'].max() - df['area'].min()) * color_number).astype(int)\n",
    "df['eccentricity_norm'] = ((df['eccentricity']- df['eccentricity'].min())/(df['eccentricity'].max() - df['eccentricity'].min()) * color_number).astype(int)\n",
    "df"
   ]
  },
  {
   "cell_type": "code",
   "execution_count": 5,
   "metadata": {},
   "outputs": [],
   "source": [
    "# color labels by area\n",
    "color_dict = {}\n",
    "color_dict[0] = [0,0,0,0]\n",
    "for i in range(1, 9):\n",
    "    color_dict[i] = colormap(df.loc[df.label==i,'area_norm'])\n",
    "\n",
    "labels_layer.color = color_dict"
   ]
  },
  {
   "cell_type": "code",
   "execution_count": 6,
   "metadata": {},
   "outputs": [],
   "source": [
    "from PyQt5.QtWidgets import QApplication\n",
    "from pyqtgraph_test import CustomPlot\n",
    "import pyqtgraph_test as pt"
   ]
  },
  {
   "cell_type": "code",
   "execution_count": 7,
   "metadata": {},
   "outputs": [],
   "source": [
    "pt.viewer = viewer"
   ]
  },
  {
   "cell_type": "code",
   "execution_count": 8,
   "metadata": {},
   "outputs": [
    {
     "data": {
      "text/plain": [
       "<napari._qt.widgets.qt_viewer_dock_widget.QtViewerDockWidget at 0x1472875d870>"
      ]
     },
     "execution_count": 8,
     "metadata": {},
     "output_type": "execute_result"
    },
    {
     "name": "stderr",
     "output_type": "stream",
     "text": [
      "c:\\Users\\lab\\anaconda3\\envs\\napari-env\\lib\\site-packages\\napari\\utils\\colormaps\\standardize_color.py:296: UserWarning: Colors with values larger than one detected. napari will normalize these colors for you. If you'd like to convert these yourself, please use the proper method from skimage.color.\n",
      "  warnings.warn(\n",
      "c:\\Users\\lab\\anaconda3\\envs\\napari-env\\lib\\site-packages\\napari\\utils\\colormaps\\standardize_color.py:296: UserWarning: Colors with values larger than one detected. napari will normalize these colors for you. If you'd like to convert these yourself, please use the proper method from skimage.color.\n",
      "  warnings.warn(\n",
      "c:\\Users\\lab\\anaconda3\\envs\\napari-env\\lib\\site-packages\\napari\\utils\\colormaps\\standardize_color.py:296: UserWarning: Colors with values larger than one detected. napari will normalize these colors for you. If you'd like to convert these yourself, please use the proper method from skimage.color.\n",
      "  warnings.warn(\n",
      "c:\\Users\\lab\\anaconda3\\envs\\napari-env\\lib\\site-packages\\napari\\utils\\colormaps\\standardize_color.py:296: UserWarning: Colors with values larger than one detected. napari will normalize these colors for you. If you'd like to convert these yourself, please use the proper method from skimage.color.\n",
      "  warnings.warn(\n",
      "c:\\Users\\lab\\anaconda3\\envs\\napari-env\\lib\\site-packages\\napari\\utils\\colormaps\\standardize_color.py:296: UserWarning: Colors with values larger than one detected. napari will normalize these colors for you. If you'd like to convert these yourself, please use the proper method from skimage.color.\n",
      "  warnings.warn(\n",
      "c:\\Users\\lab\\anaconda3\\envs\\napari-env\\lib\\site-packages\\napari\\utils\\colormaps\\standardize_color.py:296: UserWarning: Colors with values larger than one detected. napari will normalize these colors for you. If you'd like to convert these yourself, please use the proper method from skimage.color.\n",
      "  warnings.warn(\n",
      "c:\\Users\\lab\\anaconda3\\envs\\napari-env\\lib\\site-packages\\napari\\utils\\colormaps\\standardize_color.py:296: UserWarning: Colors with values larger than one detected. napari will normalize these colors for you. If you'd like to convert these yourself, please use the proper method from skimage.color.\n",
      "  warnings.warn(\n",
      "c:\\Users\\lab\\anaconda3\\envs\\napari-env\\lib\\site-packages\\napari\\utils\\colormaps\\standardize_color.py:296: UserWarning: Colors with values larger than one detected. napari will normalize these colors for you. If you'd like to convert these yourself, please use the proper method from skimage.color.\n",
      "  warnings.warn(\n",
      "c:\\Users\\lab\\anaconda3\\envs\\napari-env\\lib\\site-packages\\napari\\utils\\colormaps\\standardize_color.py:296: UserWarning: Colors with values larger than one detected. napari will normalize these colors for you. If you'd like to convert these yourself, please use the proper method from skimage.color.\n",
      "  warnings.warn(\n",
      "c:\\Users\\lab\\anaconda3\\envs\\napari-env\\lib\\site-packages\\napari\\utils\\colormaps\\standardize_color.py:296: UserWarning: Colors with values larger than one detected. napari will normalize these colors for you. If you'd like to convert these yourself, please use the proper method from skimage.color.\n",
      "  warnings.warn(\n",
      "c:\\Users\\lab\\anaconda3\\envs\\napari-env\\lib\\site-packages\\napari\\utils\\colormaps\\standardize_color.py:296: UserWarning: Colors with values larger than one detected. napari will normalize these colors for you. If you'd like to convert these yourself, please use the proper method from skimage.color.\n",
      "  warnings.warn(\n",
      "c:\\Users\\lab\\anaconda3\\envs\\napari-env\\lib\\site-packages\\napari\\utils\\colormaps\\standardize_color.py:296: UserWarning: Colors with values larger than one detected. napari will normalize these colors for you. If you'd like to convert these yourself, please use the proper method from skimage.color.\n",
      "  warnings.warn(\n",
      "c:\\Users\\lab\\anaconda3\\envs\\napari-env\\lib\\site-packages\\napari\\utils\\colormaps\\standardize_color.py:296: UserWarning: Colors with values larger than one detected. napari will normalize these colors for you. If you'd like to convert these yourself, please use the proper method from skimage.color.\n",
      "  warnings.warn(\n",
      "c:\\Users\\lab\\anaconda3\\envs\\napari-env\\lib\\site-packages\\napari\\utils\\colormaps\\standardize_color.py:296: UserWarning: Colors with values larger than one detected. napari will normalize these colors for you. If you'd like to convert these yourself, please use the proper method from skimage.color.\n",
      "  warnings.warn(\n",
      "c:\\Users\\lab\\anaconda3\\envs\\napari-env\\lib\\site-packages\\napari\\utils\\colormaps\\standardize_color.py:296: UserWarning: Colors with values larger than one detected. napari will normalize these colors for you. If you'd like to convert these yourself, please use the proper method from skimage.color.\n",
      "  warnings.warn(\n",
      "c:\\Users\\lab\\anaconda3\\envs\\napari-env\\lib\\site-packages\\napari\\utils\\colormaps\\standardize_color.py:296: UserWarning: Colors with values larger than one detected. napari will normalize these colors for you. If you'd like to convert these yourself, please use the proper method from skimage.color.\n",
      "  warnings.warn(\n",
      "c:\\Users\\lab\\anaconda3\\envs\\napari-env\\lib\\site-packages\\napari\\utils\\colormaps\\standardize_color.py:296: UserWarning: Colors with values larger than one detected. napari will normalize these colors for you. If you'd like to convert these yourself, please use the proper method from skimage.color.\n",
      "  warnings.warn(\n",
      "c:\\Users\\lab\\anaconda3\\envs\\napari-env\\lib\\site-packages\\napari\\utils\\colormaps\\standardize_color.py:296: UserWarning: Colors with values larger than one detected. napari will normalize these colors for you. If you'd like to convert these yourself, please use the proper method from skimage.color.\n",
      "  warnings.warn(\n",
      "c:\\Users\\lab\\anaconda3\\envs\\napari-env\\lib\\site-packages\\napari\\utils\\colormaps\\standardize_color.py:296: UserWarning: Colors with values larger than one detected. napari will normalize these colors for you. If you'd like to convert these yourself, please use the proper method from skimage.color.\n",
      "  warnings.warn(\n",
      "c:\\Users\\lab\\anaconda3\\envs\\napari-env\\lib\\site-packages\\napari\\utils\\colormaps\\standardize_color.py:296: UserWarning: Colors with values larger than one detected. napari will normalize these colors for you. If you'd like to convert these yourself, please use the proper method from skimage.color.\n",
      "  warnings.warn(\n",
      "c:\\Users\\lab\\anaconda3\\envs\\napari-env\\lib\\site-packages\\napari\\utils\\colormaps\\standardize_color.py:296: UserWarning: Colors with values larger than one detected. napari will normalize these colors for you. If you'd like to convert these yourself, please use the proper method from skimage.color.\n",
      "  warnings.warn(\n",
      "c:\\Users\\lab\\anaconda3\\envs\\napari-env\\lib\\site-packages\\napari\\utils\\colormaps\\standardize_color.py:296: UserWarning: Colors with values larger than one detected. napari will normalize these colors for you. If you'd like to convert these yourself, please use the proper method from skimage.color.\n",
      "  warnings.warn(\n",
      "c:\\Users\\lab\\anaconda3\\envs\\napari-env\\lib\\site-packages\\napari\\utils\\colormaps\\standardize_color.py:296: UserWarning: Colors with values larger than one detected. napari will normalize these colors for you. If you'd like to convert these yourself, please use the proper method from skimage.color.\n",
      "  warnings.warn(\n",
      "c:\\Users\\lab\\anaconda3\\envs\\napari-env\\lib\\site-packages\\napari\\utils\\colormaps\\standardize_color.py:296: UserWarning: Colors with values larger than one detected. napari will normalize these colors for you. If you'd like to convert these yourself, please use the proper method from skimage.color.\n",
      "  warnings.warn(\n",
      "c:\\Users\\lab\\anaconda3\\envs\\napari-env\\lib\\site-packages\\napari\\utils\\colormaps\\standardize_color.py:296: UserWarning: Colors with values larger than one detected. napari will normalize these colors for you. If you'd like to convert these yourself, please use the proper method from skimage.color.\n",
      "  warnings.warn(\n",
      "c:\\Users\\lab\\anaconda3\\envs\\napari-env\\lib\\site-packages\\napari\\utils\\colormaps\\standardize_color.py:296: UserWarning: Colors with values larger than one detected. napari will normalize these colors for you. If you'd like to convert these yourself, please use the proper method from skimage.color.\n",
      "  warnings.warn(\n",
      "c:\\Users\\lab\\anaconda3\\envs\\napari-env\\lib\\site-packages\\napari\\utils\\colormaps\\standardize_color.py:296: UserWarning: Colors with values larger than one detected. napari will normalize these colors for you. If you'd like to convert these yourself, please use the proper method from skimage.color.\n",
      "  warnings.warn(\n",
      "c:\\Users\\lab\\anaconda3\\envs\\napari-env\\lib\\site-packages\\napari\\utils\\colormaps\\standardize_color.py:296: UserWarning: Colors with values larger than one detected. napari will normalize these colors for you. If you'd like to convert these yourself, please use the proper method from skimage.color.\n",
      "  warnings.warn(\n",
      "c:\\Users\\lab\\anaconda3\\envs\\napari-env\\lib\\site-packages\\napari\\utils\\colormaps\\standardize_color.py:296: UserWarning: Colors with values larger than one detected. napari will normalize these colors for you. If you'd like to convert these yourself, please use the proper method from skimage.color.\n",
      "  warnings.warn(\n",
      "c:\\Users\\lab\\anaconda3\\envs\\napari-env\\lib\\site-packages\\napari\\utils\\colormaps\\standardize_color.py:296: UserWarning: Colors with values larger than one detected. napari will normalize these colors for you. If you'd like to convert these yourself, please use the proper method from skimage.color.\n",
      "  warnings.warn(\n",
      "c:\\Users\\lab\\anaconda3\\envs\\napari-env\\lib\\site-packages\\napari\\utils\\colormaps\\standardize_color.py:296: UserWarning: Colors with values larger than one detected. napari will normalize these colors for you. If you'd like to convert these yourself, please use the proper method from skimage.color.\n",
      "  warnings.warn(\n",
      "c:\\Users\\lab\\anaconda3\\envs\\napari-env\\lib\\site-packages\\napari\\utils\\colormaps\\standardize_color.py:296: UserWarning: Colors with values larger than one detected. napari will normalize these colors for you. If you'd like to convert these yourself, please use the proper method from skimage.color.\n",
      "  warnings.warn(\n",
      "c:\\Users\\lab\\anaconda3\\envs\\napari-env\\lib\\site-packages\\napari\\utils\\colormaps\\standardize_color.py:296: UserWarning: Colors with values larger than one detected. napari will normalize these colors for you. If you'd like to convert these yourself, please use the proper method from skimage.color.\n",
      "  warnings.warn(\n"
     ]
    }
   ],
   "source": [
    "app = QApplication([])\n",
    "win = pg.GraphicsLayoutWidget(show=True)\n",
    "customPlot = CustomPlot(xx=df['area'], yy=df['eccentricity'],org_brush = [(np.array(colormap(df.loc[x,'area_norm']))*255).astype(int) for x in range(len(df))])\n",
    "win.addItem(customPlot)\n",
    "\n",
    "customPlot.setLabel('bottom', \"area\")\n",
    "customPlot.setLabel('left', \"eccentricity\")\n",
    "\n",
    "viewer.window.add_dock_widget(win,area='bottom')"
   ]
  },
  {
   "cell_type": "code",
   "execution_count": null,
   "metadata": {},
   "outputs": [],
   "source": []
  }
 ],
 "metadata": {
  "kernelspec": {
   "display_name": "napari-env",
   "language": "python",
   "name": "python3"
  },
  "language_info": {
   "codemirror_mode": {
    "name": "ipython",
    "version": 3
   },
   "file_extension": ".py",
   "mimetype": "text/x-python",
   "name": "python",
   "nbconvert_exporter": "python",
   "pygments_lexer": "ipython3",
   "version": "3.10.11"
  }
 },
 "nbformat": 4,
 "nbformat_minor": 2
}
