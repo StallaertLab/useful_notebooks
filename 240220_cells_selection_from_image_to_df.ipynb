{
 "cells": [
  {
   "cell_type": "code",
   "execution_count": 59,
   "metadata": {},
   "outputs": [],
   "source": [
    "from tifffile import imread\n",
    "import napari\n",
    "import pandas as pd\n",
    "import numpy as np\n",
    "import dask.array as da"
   ]
  },
  {
   "cell_type": "code",
   "execution_count": 2,
   "metadata": {},
   "outputs": [],
   "source": [
    "im_path = r'R:\\CellDive\\SH178-145-8\\SH178-145-8_Final\\SH178-145-8_1.0.4_R000_DAPI__FINAL_F.ome.tif'\n",
    "df_path = r'R:\\data_analysis\\Wayne\\Dormancy\\20240220-1811_aivia_allslides.csv'"
   ]
  },
  {
   "cell_type": "code",
   "execution_count": 3,
   "metadata": {},
   "outputs": [],
   "source": [
    "store = imread(im_path,aszarr=True)\n",
    "\n",
    "l = []\n",
    "# as Napari seems to open only 6 levels anyway \n",
    "for i in range(6):\n",
    "    d = da.from_zarr(store, i)\n",
    "    l.append(d)"
   ]
  },
  {
   "cell_type": "code",
   "execution_count": 4,
   "metadata": {},
   "outputs": [
    {
     "data": {
      "text/plain": [
       "<Image layer 'l' at 0x188e6d88a30>"
      ]
     },
     "execution_count": 4,
     "metadata": {},
     "output_type": "execute_result"
    }
   ],
   "source": [
    "viewer = napari.Viewer()\n",
    "viewer.add_image(l,contrast_limits=[0,10000])"
   ]
  },
  {
   "cell_type": "code",
   "execution_count": 5,
   "metadata": {},
   "outputs": [],
   "source": [
    "df = pd.read_csv(df_path)"
   ]
  },
  {
   "cell_type": "code",
   "execution_count": 47,
   "metadata": {},
   "outputs": [
    {
     "data": {
      "text/plain": [
       "541713"
      ]
     },
     "execution_count": 47,
     "metadata": {},
     "output_type": "execute_result"
    }
   ],
   "source": [
    "df_sel = df[df.slide == 'SH178-145-8']\n",
    "len(df_sel)"
   ]
  },
  {
   "cell_type": "code",
   "execution_count": 48,
   "metadata": {},
   "outputs": [
    {
     "data": {
      "text/html": [
       "<div>\n",
       "<style scoped>\n",
       "    .dataframe tbody tr th:only-of-type {\n",
       "        vertical-align: middle;\n",
       "    }\n",
       "\n",
       "    .dataframe tbody tr th {\n",
       "        vertical-align: top;\n",
       "    }\n",
       "\n",
       "    .dataframe thead th {\n",
       "        text-align: right;\n",
       "    }\n",
       "</style>\n",
       "<table border=\"1\" class=\"dataframe\">\n",
       "  <thead>\n",
       "    <tr style=\"text-align: right;\">\n",
       "      <th></th>\n",
       "      <th>Center of Mass X (µm)</th>\n",
       "      <th>Center of Mass Y (µm)</th>\n",
       "      <th>Outline Area (µm²)</th>\n",
       "      <th>Pixel-based Area (µm²)</th>\n",
       "      <th>Perimeter (µm)</th>\n",
       "      <th>Length (µm)</th>\n",
       "      <th>Breadth (µm)</th>\n",
       "      <th>Aspect Ratio</th>\n",
       "      <th>Length/Breadth Ratio</th>\n",
       "      <th>Circularity</th>\n",
       "      <th>...</th>\n",
       "      <th>Center of Mass Y (px)</th>\n",
       "      <th>Outline Area (px²)</th>\n",
       "      <th>Pixel-based Area (px²)</th>\n",
       "      <th>Direct Line Length (px)</th>\n",
       "      <th>Interval Length (px)</th>\n",
       "      <th>Area Overlapped (px²)</th>\n",
       "      <th>Nearest Object Distance (px)</th>\n",
       "      <th>Mean Object Distance 3 (px)</th>\n",
       "      <th>Mean Object Distance 5 (px)</th>\n",
       "      <th>Nearest Objects Count (px)</th>\n",
       "    </tr>\n",
       "  </thead>\n",
       "  <tbody>\n",
       "    <tr>\n",
       "      <th>81279</th>\n",
       "      <td>5363.758789</td>\n",
       "      <td>1617.814697</td>\n",
       "      <td>751.5</td>\n",
       "      <td>824.0</td>\n",
       "      <td>158.325902</td>\n",
       "      <td>64.287979</td>\n",
       "      <td>19.340187</td>\n",
       "      <td>0.267606</td>\n",
       "      <td>0.905464</td>\n",
       "      <td>0.376734</td>\n",
       "      <td>...</td>\n",
       "      <td>NaN</td>\n",
       "      <td>NaN</td>\n",
       "      <td>NaN</td>\n",
       "      <td>NaN</td>\n",
       "      <td>NaN</td>\n",
       "      <td>NaN</td>\n",
       "      <td>NaN</td>\n",
       "      <td>NaN</td>\n",
       "      <td>NaN</td>\n",
       "      <td>NaN</td>\n",
       "    </tr>\n",
       "    <tr>\n",
       "      <th>81280</th>\n",
       "      <td>5546.299805</td>\n",
       "      <td>1620.538452</td>\n",
       "      <td>578.0</td>\n",
       "      <td>644.0</td>\n",
       "      <td>145.740115</td>\n",
       "      <td>49.454281</td>\n",
       "      <td>22.215218</td>\n",
       "      <td>0.527273</td>\n",
       "      <td>0.899169</td>\n",
       "      <td>0.341963</td>\n",
       "      <td>...</td>\n",
       "      <td>NaN</td>\n",
       "      <td>NaN</td>\n",
       "      <td>NaN</td>\n",
       "      <td>NaN</td>\n",
       "      <td>NaN</td>\n",
       "      <td>NaN</td>\n",
       "      <td>NaN</td>\n",
       "      <td>NaN</td>\n",
       "      <td>NaN</td>\n",
       "      <td>NaN</td>\n",
       "    </tr>\n",
       "    <tr>\n",
       "      <th>81281</th>\n",
       "      <td>5497.528809</td>\n",
       "      <td>1632.540405</td>\n",
       "      <td>2260.5</td>\n",
       "      <td>2348.0</td>\n",
       "      <td>199.923882</td>\n",
       "      <td>64.113068</td>\n",
       "      <td>48.421593</td>\n",
       "      <td>0.753846</td>\n",
       "      <td>0.986355</td>\n",
       "      <td>0.710698</td>\n",
       "      <td>...</td>\n",
       "      <td>NaN</td>\n",
       "      <td>NaN</td>\n",
       "      <td>NaN</td>\n",
       "      <td>NaN</td>\n",
       "      <td>NaN</td>\n",
       "      <td>NaN</td>\n",
       "      <td>NaN</td>\n",
       "      <td>NaN</td>\n",
       "      <td>NaN</td>\n",
       "      <td>NaN</td>\n",
       "    </tr>\n",
       "    <tr>\n",
       "      <th>81282</th>\n",
       "      <td>5713.237305</td>\n",
       "      <td>1626.337524</td>\n",
       "      <td>426.5</td>\n",
       "      <td>468.0</td>\n",
       "      <td>95.497475</td>\n",
       "      <td>28.037973</td>\n",
       "      <td>22.941374</td>\n",
       "      <td>0.727273</td>\n",
       "      <td>0.849636</td>\n",
       "      <td>0.587686</td>\n",
       "      <td>...</td>\n",
       "      <td>NaN</td>\n",
       "      <td>NaN</td>\n",
       "      <td>NaN</td>\n",
       "      <td>NaN</td>\n",
       "      <td>NaN</td>\n",
       "      <td>NaN</td>\n",
       "      <td>NaN</td>\n",
       "      <td>NaN</td>\n",
       "      <td>NaN</td>\n",
       "      <td>NaN</td>\n",
       "    </tr>\n",
       "    <tr>\n",
       "      <th>81283</th>\n",
       "      <td>5555.106934</td>\n",
       "      <td>1632.491455</td>\n",
       "      <td>895.5</td>\n",
       "      <td>955.0</td>\n",
       "      <td>143.095454</td>\n",
       "      <td>55.047771</td>\n",
       "      <td>22.835400</td>\n",
       "      <td>0.686275</td>\n",
       "      <td>1.079368</td>\n",
       "      <td>0.549571</td>\n",
       "      <td>...</td>\n",
       "      <td>NaN</td>\n",
       "      <td>NaN</td>\n",
       "      <td>NaN</td>\n",
       "      <td>NaN</td>\n",
       "      <td>NaN</td>\n",
       "      <td>NaN</td>\n",
       "      <td>NaN</td>\n",
       "      <td>NaN</td>\n",
       "      <td>NaN</td>\n",
       "      <td>NaN</td>\n",
       "    </tr>\n",
       "    <tr>\n",
       "      <th>...</th>\n",
       "      <td>...</td>\n",
       "      <td>...</td>\n",
       "      <td>...</td>\n",
       "      <td>...</td>\n",
       "      <td>...</td>\n",
       "      <td>...</td>\n",
       "      <td>...</td>\n",
       "      <td>...</td>\n",
       "      <td>...</td>\n",
       "      <td>...</td>\n",
       "      <td>...</td>\n",
       "      <td>...</td>\n",
       "      <td>...</td>\n",
       "      <td>...</td>\n",
       "      <td>...</td>\n",
       "      <td>...</td>\n",
       "      <td>...</td>\n",
       "      <td>...</td>\n",
       "      <td>...</td>\n",
       "      <td>...</td>\n",
       "      <td>...</td>\n",
       "    </tr>\n",
       "    <tr>\n",
       "      <th>622987</th>\n",
       "      <td>NaN</td>\n",
       "      <td>NaN</td>\n",
       "      <td>273.5</td>\n",
       "      <td>302.0</td>\n",
       "      <td>NaN</td>\n",
       "      <td>NaN</td>\n",
       "      <td>NaN</td>\n",
       "      <td>NaN</td>\n",
       "      <td>NaN</td>\n",
       "      <td>NaN</td>\n",
       "      <td>...</td>\n",
       "      <td>NaN</td>\n",
       "      <td>NaN</td>\n",
       "      <td>NaN</td>\n",
       "      <td>NaN</td>\n",
       "      <td>NaN</td>\n",
       "      <td>NaN</td>\n",
       "      <td>NaN</td>\n",
       "      <td>NaN</td>\n",
       "      <td>NaN</td>\n",
       "      <td>NaN</td>\n",
       "    </tr>\n",
       "    <tr>\n",
       "      <th>622988</th>\n",
       "      <td>NaN</td>\n",
       "      <td>NaN</td>\n",
       "      <td>310.0</td>\n",
       "      <td>340.0</td>\n",
       "      <td>NaN</td>\n",
       "      <td>NaN</td>\n",
       "      <td>NaN</td>\n",
       "      <td>NaN</td>\n",
       "      <td>NaN</td>\n",
       "      <td>NaN</td>\n",
       "      <td>...</td>\n",
       "      <td>NaN</td>\n",
       "      <td>NaN</td>\n",
       "      <td>NaN</td>\n",
       "      <td>NaN</td>\n",
       "      <td>NaN</td>\n",
       "      <td>NaN</td>\n",
       "      <td>NaN</td>\n",
       "      <td>NaN</td>\n",
       "      <td>NaN</td>\n",
       "      <td>NaN</td>\n",
       "    </tr>\n",
       "    <tr>\n",
       "      <th>622989</th>\n",
       "      <td>NaN</td>\n",
       "      <td>NaN</td>\n",
       "      <td>369.5</td>\n",
       "      <td>403.0</td>\n",
       "      <td>NaN</td>\n",
       "      <td>NaN</td>\n",
       "      <td>NaN</td>\n",
       "      <td>NaN</td>\n",
       "      <td>NaN</td>\n",
       "      <td>NaN</td>\n",
       "      <td>...</td>\n",
       "      <td>NaN</td>\n",
       "      <td>NaN</td>\n",
       "      <td>NaN</td>\n",
       "      <td>NaN</td>\n",
       "      <td>NaN</td>\n",
       "      <td>NaN</td>\n",
       "      <td>NaN</td>\n",
       "      <td>NaN</td>\n",
       "      <td>NaN</td>\n",
       "      <td>NaN</td>\n",
       "    </tr>\n",
       "    <tr>\n",
       "      <th>622990</th>\n",
       "      <td>NaN</td>\n",
       "      <td>NaN</td>\n",
       "      <td>274.0</td>\n",
       "      <td>302.0</td>\n",
       "      <td>NaN</td>\n",
       "      <td>NaN</td>\n",
       "      <td>NaN</td>\n",
       "      <td>NaN</td>\n",
       "      <td>NaN</td>\n",
       "      <td>NaN</td>\n",
       "      <td>...</td>\n",
       "      <td>NaN</td>\n",
       "      <td>NaN</td>\n",
       "      <td>NaN</td>\n",
       "      <td>NaN</td>\n",
       "      <td>NaN</td>\n",
       "      <td>NaN</td>\n",
       "      <td>NaN</td>\n",
       "      <td>NaN</td>\n",
       "      <td>NaN</td>\n",
       "      <td>NaN</td>\n",
       "    </tr>\n",
       "    <tr>\n",
       "      <th>622991</th>\n",
       "      <td>NaN</td>\n",
       "      <td>NaN</td>\n",
       "      <td>300.0</td>\n",
       "      <td>336.0</td>\n",
       "      <td>NaN</td>\n",
       "      <td>NaN</td>\n",
       "      <td>NaN</td>\n",
       "      <td>NaN</td>\n",
       "      <td>NaN</td>\n",
       "      <td>NaN</td>\n",
       "      <td>...</td>\n",
       "      <td>NaN</td>\n",
       "      <td>NaN</td>\n",
       "      <td>NaN</td>\n",
       "      <td>NaN</td>\n",
       "      <td>NaN</td>\n",
       "      <td>NaN</td>\n",
       "      <td>NaN</td>\n",
       "      <td>NaN</td>\n",
       "      <td>NaN</td>\n",
       "      <td>NaN</td>\n",
       "    </tr>\n",
       "  </tbody>\n",
       "</table>\n",
       "<p>541713 rows × 762 columns</p>\n",
       "</div>"
      ],
      "text/plain": [
       "        Center of Mass X (µm)  Center of Mass Y (µm)  Outline Area (µm²)  \\\n",
       "81279             5363.758789            1617.814697               751.5   \n",
       "81280             5546.299805            1620.538452               578.0   \n",
       "81281             5497.528809            1632.540405              2260.5   \n",
       "81282             5713.237305            1626.337524               426.5   \n",
       "81283             5555.106934            1632.491455               895.5   \n",
       "...                       ...                    ...                 ...   \n",
       "622987                    NaN                    NaN               273.5   \n",
       "622988                    NaN                    NaN               310.0   \n",
       "622989                    NaN                    NaN               369.5   \n",
       "622990                    NaN                    NaN               274.0   \n",
       "622991                    NaN                    NaN               300.0   \n",
       "\n",
       "        Pixel-based Area (µm²)  Perimeter (µm)  Length (µm)  Breadth (µm)  \\\n",
       "81279                    824.0      158.325902    64.287979     19.340187   \n",
       "81280                    644.0      145.740115    49.454281     22.215218   \n",
       "81281                   2348.0      199.923882    64.113068     48.421593   \n",
       "81282                    468.0       95.497475    28.037973     22.941374   \n",
       "81283                    955.0      143.095454    55.047771     22.835400   \n",
       "...                        ...             ...          ...           ...   \n",
       "622987                   302.0             NaN          NaN           NaN   \n",
       "622988                   340.0             NaN          NaN           NaN   \n",
       "622989                   403.0             NaN          NaN           NaN   \n",
       "622990                   302.0             NaN          NaN           NaN   \n",
       "622991                   336.0             NaN          NaN           NaN   \n",
       "\n",
       "        Aspect Ratio  Length/Breadth Ratio  Circularity  ...  \\\n",
       "81279       0.267606              0.905464     0.376734  ...   \n",
       "81280       0.527273              0.899169     0.341963  ...   \n",
       "81281       0.753846              0.986355     0.710698  ...   \n",
       "81282       0.727273              0.849636     0.587686  ...   \n",
       "81283       0.686275              1.079368     0.549571  ...   \n",
       "...              ...                   ...          ...  ...   \n",
       "622987           NaN                   NaN          NaN  ...   \n",
       "622988           NaN                   NaN          NaN  ...   \n",
       "622989           NaN                   NaN          NaN  ...   \n",
       "622990           NaN                   NaN          NaN  ...   \n",
       "622991           NaN                   NaN          NaN  ...   \n",
       "\n",
       "        Center of Mass Y (px)  Outline Area (px²)  Pixel-based Area (px²)  \\\n",
       "81279                     NaN                 NaN                     NaN   \n",
       "81280                     NaN                 NaN                     NaN   \n",
       "81281                     NaN                 NaN                     NaN   \n",
       "81282                     NaN                 NaN                     NaN   \n",
       "81283                     NaN                 NaN                     NaN   \n",
       "...                       ...                 ...                     ...   \n",
       "622987                    NaN                 NaN                     NaN   \n",
       "622988                    NaN                 NaN                     NaN   \n",
       "622989                    NaN                 NaN                     NaN   \n",
       "622990                    NaN                 NaN                     NaN   \n",
       "622991                    NaN                 NaN                     NaN   \n",
       "\n",
       "        Direct Line Length (px)  Interval Length (px)  Area Overlapped (px²)  \\\n",
       "81279                       NaN                   NaN                    NaN   \n",
       "81280                       NaN                   NaN                    NaN   \n",
       "81281                       NaN                   NaN                    NaN   \n",
       "81282                       NaN                   NaN                    NaN   \n",
       "81283                       NaN                   NaN                    NaN   \n",
       "...                         ...                   ...                    ...   \n",
       "622987                      NaN                   NaN                    NaN   \n",
       "622988                      NaN                   NaN                    NaN   \n",
       "622989                      NaN                   NaN                    NaN   \n",
       "622990                      NaN                   NaN                    NaN   \n",
       "622991                      NaN                   NaN                    NaN   \n",
       "\n",
       "        Nearest Object Distance (px)  Mean Object Distance 3 (px)  \\\n",
       "81279                            NaN                          NaN   \n",
       "81280                            NaN                          NaN   \n",
       "81281                            NaN                          NaN   \n",
       "81282                            NaN                          NaN   \n",
       "81283                            NaN                          NaN   \n",
       "...                              ...                          ...   \n",
       "622987                           NaN                          NaN   \n",
       "622988                           NaN                          NaN   \n",
       "622989                           NaN                          NaN   \n",
       "622990                           NaN                          NaN   \n",
       "622991                           NaN                          NaN   \n",
       "\n",
       "        Mean Object Distance 5 (px)  Nearest Objects Count (px)  \n",
       "81279                           NaN                         NaN  \n",
       "81280                           NaN                         NaN  \n",
       "81281                           NaN                         NaN  \n",
       "81282                           NaN                         NaN  \n",
       "81283                           NaN                         NaN  \n",
       "...                             ...                         ...  \n",
       "622987                          NaN                         NaN  \n",
       "622988                          NaN                         NaN  \n",
       "622989                          NaN                         NaN  \n",
       "622990                          NaN                         NaN  \n",
       "622991                          NaN                         NaN  \n",
       "\n",
       "[541713 rows x 762 columns]"
      ]
     },
     "execution_count": 48,
     "metadata": {},
     "output_type": "execute_result"
    }
   ],
   "source": [
    "df_sel"
   ]
  },
  {
   "cell_type": "code",
   "execution_count": 12,
   "metadata": {},
   "outputs": [],
   "source": [
    "df_coords = df_sel[['Center of Mass X (µm)','Center of Mass Y (µm)']]"
   ]
  },
  {
   "cell_type": "code",
   "execution_count": 37,
   "metadata": {},
   "outputs": [
    {
     "data": {
      "text/plain": [
       "137543"
      ]
     },
     "execution_count": 37,
     "metadata": {},
     "output_type": "execute_result"
    }
   ],
   "source": [
    "# skip rows with NaN values\n",
    "df_coords = df_coords.dropna()\n",
    "len(df_coords)"
   ]
  },
  {
   "cell_type": "code",
   "execution_count": 45,
   "metadata": {},
   "outputs": [],
   "source": [
    "# swap the x and y coordinates\n",
    "df_coords['row'] = df_coords['Center of Mass Y (µm)'] + 200\n",
    "df_coords['col'] = df_coords['Center of Mass X (µm)'] + 5430  "
   ]
  },
  {
   "cell_type": "code",
   "execution_count": 46,
   "metadata": {},
   "outputs": [
    {
     "data": {
      "text/plain": [
       "<Points layer 'Points' at 0x18a0196fd90>"
      ]
     },
     "execution_count": 46,
     "metadata": {},
     "output_type": "execute_result"
    }
   ],
   "source": [
    "viewer.add_points(df_coords[['row','col']].values, size=10, face_color='red', edge_color='black')"
   ]
  },
  {
   "cell_type": "code",
   "execution_count": 52,
   "metadata": {},
   "outputs": [],
   "source": [
    "from matplotlib.path import Path"
   ]
  },
  {
   "cell_type": "code",
   "execution_count": 54,
   "metadata": {},
   "outputs": [],
   "source": [
    "# Function to check if a point is inside the polygon\n",
    "def is_point_inside_polygon(x, y, polygon_path):\n",
    "    \n",
    "    return polygon_path.contains_point((x, y))"
   ]
  },
  {
   "cell_type": "code",
   "execution_count": 81,
   "metadata": {},
   "outputs": [
    {
     "name": "stdout",
     "output_type": "stream",
     "text": [
      "1025\n",
      "348\n"
     ]
    }
   ],
   "source": [
    "df_coords['selected'] = False\n",
    "\n",
    "for vertices in viewer.layers['Shapes'].data:\n",
    "\n",
    "    polygon_path = Path(np.concatenate([vertices,vertices[0,:][None]]))\n",
    "    \n",
    "    is_inside = df_coords.apply(lambda row: is_point_inside_polygon(row['row'], row['col'], polygon_path), axis=1)\n",
    "    print(np.sum(is_inside))\n",
    "\n",
    "    df_coords['selected'] = df_coords['selected'] | is_inside\n"
   ]
  },
  {
   "cell_type": "code",
   "execution_count": 82,
   "metadata": {},
   "outputs": [
    {
     "data": {
      "text/plain": [
       "<Points layer 'Points [1]' at 0x18a1aa716a0>"
      ]
     },
     "execution_count": 82,
     "metadata": {},
     "output_type": "execute_result"
    }
   ],
   "source": [
    "viewer.add_points(df_coords.loc[df_coords.selected,['row','col']].values, size=10, face_color='yellow', edge_color='black')"
   ]
  },
  {
   "cell_type": "code",
   "execution_count": 60,
   "metadata": {},
   "outputs": [
    {
     "data": {
      "text/plain": [
       "0"
      ]
     },
     "execution_count": 60,
     "metadata": {},
     "output_type": "execute_result"
    }
   ],
   "source": [
    "np.sum(df_coords['selected'])"
   ]
  },
  {
   "cell_type": "code",
   "execution_count": 61,
   "metadata": {},
   "outputs": [
    {
     "data": {
      "text/plain": [
       "137543"
      ]
     },
     "execution_count": 61,
     "metadata": {},
     "output_type": "execute_result"
    }
   ],
   "source": [
    "len(df_coords)"
   ]
  }
 ],
 "metadata": {
  "kernelspec": {
   "display_name": "napari-env",
   "language": "python",
   "name": "python3"
  },
  "language_info": {
   "codemirror_mode": {
    "name": "ipython",
    "version": 3
   },
   "file_extension": ".py",
   "mimetype": "text/x-python",
   "name": "python",
   "nbconvert_exporter": "python",
   "pygments_lexer": "ipython3",
   "version": "3.10.14"
  }
 },
 "nbformat": 4,
 "nbformat_minor": 2
}
