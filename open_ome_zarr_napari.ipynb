{
 "cells": [
  {
   "cell_type": "code",
   "execution_count": 3,
   "metadata": {},
   "outputs": [],
   "source": [
    "import os\n",
    "import napari\n",
    "from ome_zarr.io import parse_url\n",
    "from ome_zarr.reader import Reader"
   ]
  },
  {
   "cell_type": "code",
   "execution_count": 2,
   "metadata": {},
   "outputs": [],
   "source": [
    "ch0_path = r'D:\\kasia\\tracking\\E6_exp\\E6_C0.zarr'\n",
    "ch1_path = r'D:\\kasia\\tracking\\E6_exp\\E6_C1.zarr'"
   ]
  },
  {
   "cell_type": "code",
   "execution_count": 7,
   "metadata": {},
   "outputs": [
    {
     "data": {
      "text/plain": [
       "[dask.array<from-zarr, shape=(241, 16793, 16802), dtype=uint16, chunksize=(10, 512, 512), chunktype=numpy.ndarray>,\n",
       " dask.array<from-zarr, shape=(241, 8396, 8401), dtype=uint16, chunksize=(10, 512, 512), chunktype=numpy.ndarray>,\n",
       " dask.array<from-zarr, shape=(241, 4198, 4200), dtype=uint16, chunksize=(10, 512, 512), chunktype=numpy.ndarray>,\n",
       " dask.array<from-zarr, shape=(241, 2099, 2100), dtype=uint16, chunksize=(10, 512, 512), chunktype=numpy.ndarray>,\n",
       " dask.array<from-zarr, shape=(241, 1049, 1050), dtype=uint16, chunksize=(10, 512, 512), chunktype=numpy.ndarray>]"
      ]
     },
     "execution_count": 7,
     "metadata": {},
     "output_type": "execute_result"
    }
   ],
   "source": [
    "# read in the data\n",
    "reader0 = Reader(parse_url(ch0_path))\n",
    "\n",
    "image_node0 = list(reader0())[0]\n",
    "dask_data0 = image_node0.data\n",
    "dask_data0"
   ]
  },
  {
   "cell_type": "code",
   "execution_count": 8,
   "metadata": {},
   "outputs": [
    {
     "data": {
      "text/plain": [
       "[dask.array<from-zarr, shape=(241, 16793, 16802), dtype=uint16, chunksize=(10, 512, 512), chunktype=numpy.ndarray>,\n",
       " dask.array<from-zarr, shape=(241, 8396, 8401), dtype=uint16, chunksize=(10, 512, 512), chunktype=numpy.ndarray>,\n",
       " dask.array<from-zarr, shape=(241, 4198, 4200), dtype=uint16, chunksize=(10, 512, 512), chunktype=numpy.ndarray>,\n",
       " dask.array<from-zarr, shape=(241, 2099, 2100), dtype=uint16, chunksize=(10, 512, 512), chunktype=numpy.ndarray>,\n",
       " dask.array<from-zarr, shape=(241, 1049, 1050), dtype=uint16, chunksize=(10, 512, 512), chunktype=numpy.ndarray>]"
      ]
     },
     "execution_count": 8,
     "metadata": {},
     "output_type": "execute_result"
    }
   ],
   "source": [
    "# read in the data\n",
    "reader1 = Reader(parse_url(ch1_path))\n",
    "\n",
    "image_node1 = list(reader1())[0]\n",
    "dask_data1 = image_node1.data\n",
    "dask_data1"
   ]
  },
  {
   "cell_type": "code",
   "execution_count": 10,
   "metadata": {},
   "outputs": [
    {
     "data": {
      "text/plain": [
       "<Image layer '53BP1' at 0x18e89df66d0>"
      ]
     },
     "execution_count": 10,
     "metadata": {},
     "output_type": "execute_result"
    }
   ],
   "source": [
    "viewer = napari.Viewer()\n",
    "viewer.add_image(dask_data0,blending='additive',name='DHB',colormap='red',contrast_limits=[0,2000])\n",
    "viewer.add_image(dask_data1,blending='additive',name='53BP1',colormap='green',contrast_limits=[0,15000])"
   ]
  },
  {
   "cell_type": "code",
   "execution_count": null,
   "metadata": {},
   "outputs": [],
   "source": []
  }
 ],
 "metadata": {
  "kernelspec": {
   "display_name": "napari-env",
   "language": "python",
   "name": "python3"
  },
  "language_info": {
   "codemirror_mode": {
    "name": "ipython",
    "version": 3
   },
   "file_extension": ".py",
   "mimetype": "text/x-python",
   "name": "python",
   "nbconvert_exporter": "python",
   "pygments_lexer": "ipython3",
   "version": "3.9.16"
  }
 },
 "nbformat": 4,
 "nbformat_minor": 2
}
