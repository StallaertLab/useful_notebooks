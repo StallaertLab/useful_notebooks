{
 "cells": [
  {
   "cell_type": "code",
   "execution_count": 2,
   "id": "a00281d2",
   "metadata": {},
   "outputs": [],
   "source": [
    "%load_ext autoreload\n",
    "%autoreload 2"
   ]
  },
  {
   "cell_type": "code",
   "execution_count": null,
   "id": "f3358e45",
   "metadata": {},
   "outputs": [
    {
     "data": {
      "text/plain": [
       "True"
      ]
     },
     "execution_count": 10,
     "metadata": {},
     "output_type": "execute_result"
    }
   ],
   "source": [
    "from instanseg import InstanSeg\n",
    "from instanseg.utils.utils import show_images\n",
    "from napari_spatialdata import Interactive\n",
    "from spatialdata import SpatialData\n",
    "import numpy as np\n",
    "import torch\n",
    "import napari\n",
    "\n",
    "torch.cuda.is_available()"
   ]
  },
  {
   "cell_type": "code",
   "execution_count": 3,
   "id": "9813ae8f",
   "metadata": {},
   "outputs": [
    {
     "name": "stdout",
     "output_type": "stream",
     "text": [
      "Model fluorescence_nuclei_and_cells version 0.1.0 already downloaded in c:\\Users\\KMK280\\AppData\\Local\\miniconda3\\envs\\instaseg-env\\Lib\\site-packages\\instanseg\\utils\\../bioimageio_models/, loading\n",
      "Requesting default device: cuda\n"
     ]
    }
   ],
   "source": [
    "instanseg_fluorescence = InstanSeg(\"fluorescence_nuclei_and_cells\", verbosity=1)"
   ]
  },
  {
   "cell_type": "code",
   "execution_count": null,
   "id": "0b19ff95",
   "metadata": {},
   "outputs": [],
   "source": [
    "FILE_PATH = r\"D:\\multiplex_pipeline\\notebooks\\Core_018.zarr\"\n",
    "sdata = SpatialData.read(FILE_PATH)"
   ]
  },
  {
   "cell_type": "code",
   "execution_count": 5,
   "id": "66c89d3f",
   "metadata": {},
   "outputs": [],
   "source": [
    "selected_signals = ['001_DAPI','HLA1','CD8a','CD20','NaKATPase','TGFb1','wee1','pCK26','pS6']"
   ]
  },
  {
   "cell_type": "code",
   "execution_count": 6,
   "id": "6211d567",
   "metadata": {},
   "outputs": [],
   "source": [
    "channel_arrays = []\n",
    "for channel in selected_signals:\n",
    "    if channel in sdata.images:\n",
    "        img = np.array(sdata[channel].scale0.image).squeeze()\n",
    "        # rescale the image beteen 1 and 99 percentiles\n",
    "        p1, p99 = np.percentile(img, (1, 99.5))\n",
    "        img = np.clip(img, p1, p99)\n",
    "        img = (((img - p1) / (p99 - p1))*255).astype(int)\n",
    "        channel_arrays.append(img)\n",
    "    else:\n",
    "        print(f\"Warning: Channel {channel} not found in SpatialData object.\")\n",
    "\n",
    "# Stack into a single 3D numpy array with shape (z, y, x)\n",
    "# where z is the number of selected channels\n",
    "stacked_array = np.stack(channel_arrays, axis=2)"
   ]
  },
  {
   "cell_type": "code",
   "execution_count": 7,
   "id": "78eaeaf4",
   "metadata": {},
   "outputs": [
    {
     "data": {
      "text/plain": [
       "(5888, 6272, 9)"
      ]
     },
     "execution_count": 7,
     "metadata": {},
     "output_type": "execute_result"
    }
   ],
   "source": [
    "stacked_array.shape"
   ]
  },
  {
   "cell_type": "code",
   "execution_count": null,
   "id": "a3ba3815",
   "metadata": {},
   "outputs": [],
   "source": [
    "# run test on a patch of the image\n",
    "\n",
    "torch.cuda.empty_cache()\n",
    "\n",
    "labeled_output, image_tensor  = instanseg_fluorescence.eval_small_image(stacked_array[2000:3500,2000:3500,:], pixel_size = 0.3, \n",
    "                                                                        resolve_cell_and_nucleus=True, \n",
    "                                                                        cleanup_fragments = True)"
   ]
  },
  {
   "cell_type": "code",
   "execution_count": 11,
   "id": "e89c8a6d",
   "metadata": {},
   "outputs": [
    {
     "data": {
      "text/plain": [
       "<Labels layer 'labels_2' at 0x2ab6eaacd90>"
      ]
     },
     "execution_count": 11,
     "metadata": {},
     "output_type": "execute_result"
    }
   ],
   "source": [
    "labels_1 = np.array(labeled_output[0,0,:,:]).astype(int)\n",
    "labels_2 = np.array(labeled_output[0,1,:,:]).astype(int)\n",
    "\n",
    "viewer = napari.Viewer()\n",
    "viewer.add_image(np.moveaxis(stacked_array,-1,0),colormap='viridis',blending='additive')\n",
    "viewer.add_labels(labels_1, translate=[2000,2000])\n",
    "viewer.add_labels(labels_2, translate=[2000,2000])"
   ]
  }
 ],
 "metadata": {
  "kernelspec": {
   "display_name": "instaseg-env",
   "language": "python",
   "name": "python3"
  },
  "language_info": {
   "codemirror_mode": {
    "name": "ipython",
    "version": 3
   },
   "file_extension": ".py",
   "mimetype": "text/x-python",
   "name": "python",
   "nbconvert_exporter": "python",
   "pygments_lexer": "ipython3",
   "version": "3.11.13"
  }
 },
 "nbformat": 4,
 "nbformat_minor": 5
}
